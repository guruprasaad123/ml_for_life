{
 "cells": [
  {
   "cell_type": "markdown",
   "metadata": {},
   "source": [
    "# Importing\n",
    "\n",
    "Here we are importing all the Neccessary libaries required for all the utility functions and all of the code below"
   ]
  },
  {
   "cell_type": "code",
   "execution_count": 2,
   "metadata": {},
   "outputs": [],
   "source": [
    "import numpy as np\n",
    "import pandas as pd\n",
    "from collections import OrderedDict\n",
    "import matplotlib as mlt\n",
    "import matplotlib.pyplot as plt\n",
    "from scipy import optimize"
   ]
  },
  {
   "cell_type": "markdown",
   "metadata": {},
   "source": [
    "# Logistic Regression\n",
    "\n",
    "we use logistic regression for binary classification , for those outputs are discrete ( 0 , 1 ) and it belongs to two classes in total.Logistic Regression only outputs the probablity values that features may belong the given categories ( 0 ,1 ).\n",
    "## First order Optimization\n",
    "\n",
    "In first order optimization method we will use the jacovian matrix to update the *weights* and *bias* values.\n",
    "$$\n",
    "\\begin{align}\n",
    "w_\\theta &= w_\\theta old - \\mathcal{V} * w_\\theta^` \\qquad , \\mathcal{V} = \\space \\text{learning rate (0 to 1) } \\\\\n",
    "b_\\theta &= b_\\theta old - \\mathcal{V} * b_\\theta^` \n",
    "\\end{align}\n",
    "$$\n",
    "\n",
    "This is a helper function to load dataset\n"
   ]
  },
  {
   "cell_type": "code",
   "execution_count": 3,
   "metadata": {},
   "outputs": [],
   "source": [
    "def load_data(url):\n",
    "    df=pd.read_csv(url,header=None);\n",
    "    return ( df.iloc[:,:-1] , df.iloc[:,-1])"
   ]
  },
  {
   "cell_type": "markdown",
   "metadata": {},
   "source": [
    "we are using `Sigmoid funtion` for activation . which takes input from - $\\infty$ to $\\infty$ and outputs from $0$ to $1$ . which is very usefull to find probability values.\n",
    "\n",
    "$$\n",
    "\\begin{align}\n",
    "\\sigma = \\frac{1}{1+e^{-x}}\n",
    "\\end{align}\n",
    "$$"
   ]
  },
  {
   "cell_type": "code",
   "execution_count": 4,
   "metadata": {},
   "outputs": [],
   "source": [
    "def sigmoid(x):\n",
    "    '''\n",
    "    returns sigmoid h(x)= 1/(e^-x + 1) of the input x\n",
    "    '''\n",
    "    return 1/(1+np.exp(-x))"
   ]
  },
  {
   "cell_type": "markdown",
   "metadata": {},
   "source": [
    "this `utility function` checks the gradient descent has converged , if converged we will stop the gradient descent training .\n",
    "So convergence is checked by finding the difference between the *old* $w_\\theta$ and *new* $w_\\theta$ if there is'nt any much of difference then its converged."
   ]
  },
  {
   "cell_type": "code",
   "execution_count": 5,
   "metadata": {},
   "outputs": [],
   "source": [
    "def check_for_convergence(beta_old,beta_new,tol=1e-3):\n",
    "    '''\n",
    "    Checks whether the coefficients have converged in the l-infinity norm.\n",
    "    Returns True if they have converged, False otherwise.'''\n",
    "    #calculate the change in the coefficients\n",
    "    coef_change = np.abs(beta_old - beta_new)\n",
    "    \n",
    "    #if change hasn't reached the threshold and we have more iterations to go, keep training\n",
    "    return not (np.any(coef_change>tol) )"
   ]
  },
  {
   "cell_type": "markdown",
   "metadata": {},
   "source": [
    "<h3> Loss Function :</h3>\t\n",
    "\t\t\t\t\t\n",
    "$$\n",
    "Cost / Loss =\n",
    " \\begin{cases}\n",
    " -log(h_{\\theta}(x)) & \\text{if $y$ is 1} \\\\\n",
    " -log(1-h_{\\theta}(x)) & \\text{if $y$ is 0}\n",
    " \\end{cases}\n",
    "$$\n",
    "\n",
    "Which can be simplified as below ,\n",
    "\n",
    "$$\n",
    "loss = \\frac{1}{m}(-ylog(h_{\\theta}(x) \\ -(1-y)( \\ log(1-h_{\\theta}(x) \\ ) \\ ) \\ ) \n",
    "$$\n",
    "\n",
    "where hypothesis $h_\\theta(x)$ ,\n",
    "                $$ h_\\theta(x) =  \\sigma(\\theta^T x)$$\n",
    "\n",
    " let's check this figure below and see how the Cost / Loss function works .\n",
    "\n",
    " when $y = 1$ , we plotting $-log(h(x))$\n",
    "\n",
    "![mtVFHjoeQkaNuKP](https://i.loli.net/2019/08/27/mtVFHjoeQkaNuKP.png)\n",
    "\n",
    "if $h(x)$ is close to $1$ , cost is so low wherelse when $h(x)$ is close to 0 , cost is so high \n",
    "\n",
    "When $y=0$ , we plotting $-log(1-h(x))$\n",
    "\n",
    "![EumjY89IzUcVh1S](https://i.loli.net/2019/08/27/EumjY89IzUcVh1S.png)\n",
    "\n",
    "if $h(x)$ is close to $0$ , cost is so low wherelse when $h(x)$ is close to $1$ , cost is so high , make sense now !\n",
    "\n",
    "The Deriavative of loss function is below ,\n",
    "\n",
    "$$ \\frac{\\partial loss}{\\partial w} = \\frac{(h_\\theta(x) - y)x^T}{m} $$\n",
    "\n"
   ]
  },
  {
   "cell_type": "markdown",
   "metadata": {},
   "source": [
    "#### Learning parameters using `scipy.optimize`\n",
    "\n",
    "In the previous assignment, you found the optimal parameters of a linear regression model by implementing gradient descent. You wrote a cost function and calculated its gradient, then took a gradient descent step accordingly. This time, instead of taking gradient descent steps, you will use the [`scipy.optimize` module](https://docs.scipy.org/doc/scipy/reference/optimize.html). SciPy is a numerical computing library for `python`. It provides an optimization module for root finding and minimization. As of `scipy 1.0`, the function `scipy.optimize.minimize` is the method to use for optimization problems(both constrained and unconstrained).\n",
    "\n",
    "For logistic regression, you want to optimize the cost function $J(\\theta)$ with parameters $\\theta$.\n",
    "Concretely, you are going to use `optimize.minimize` to find the best parameters $\\theta$ for the logistic regression cost function, given a fixed dataset (of X and y values). You will pass to `optimize.minimize` the following inputs:\n",
    "- `costFunction`: A cost function that, when given the training set and a particular $\\theta$, computes the logistic regression cost and gradient with respect to $\\theta$ for the dataset (X, y). It is important to note that we only pass the name of the function without the parenthesis. This indicates that we are only providing a reference to this function, and not evaluating the result from this function.\n",
    "- `initial_theta`: The initial values of the parameters we are trying to optimize.\n",
    "- `(X, y)`: These are additional arguments to the cost function.\n",
    "- `jac`: Indication if the cost function returns the Jacobian (gradient) along with cost value. (True)\n",
    "- `method`: Optimization method/algorithm to use\n",
    "- `options`: Additional options which might be specific to the specific optimization method. In the following, we only tell the algorithm the maximum number of iterations before it terminates.\n",
    "\n",
    "If you have completed the `costFunction` correctly, `optimize.minimize` will converge on the right optimization parameters and return the final values of the cost and $\\theta$ in a class object. Notice that by using `optimize.minimize`, you did not have to write any loops yourself, or set a learning rate like you did for gradient descent. This is all done by `optimize.minimize`: you only needed to provide a function calculating the cost and the gradient.\n",
    "\n",
    "In the following, we already have code written to call `optimize.minimize` with the correct arguments."
   ]
  },
  {
   "cell_type": "code",
   "execution_count": 6,
   "metadata": {},
   "outputs": [],
   "source": [
    "def costFunction(theta, X, y):\n",
    "\n",
    "    m = y.size  # number of training examples\n",
    "\n",
    "    J = 0\n",
    "\n",
    "    h = sigmoid(X.dot(theta.T)) # sigmoid function \n",
    "    \n",
    "    J = (1 / m) * np.sum(-y.dot(np.log(h)) - (1 - y).dot(np.log(1 - h)))\n",
    "    grad = (1 / m) * (h - y).dot(X)\n",
    "    \n",
    "    return J, grad"
   ]
  },
  {
   "cell_type": "markdown",
   "metadata": {},
   "source": [
    "### Let's just visualize the data point \n",
    " to check how they look . For that we have a utility function called `plot_data` that takes care of the visualization part"
   ]
  },
  {
   "cell_type": "code",
   "execution_count": 14,
   "metadata": {},
   "outputs": [],
   "source": [
    "def plot_data(X,y):\n",
    "    \n",
    "    ones = X[y==1] # features X where y == 1\n",
    "    zeros = X[y==0] # features X where y == 0\n",
    "    \n",
    "    plt.scatter(ones[0],ones[1] , label=\"1's \")\n",
    "    plt.scatter(zeros[0],zeros[1], label=\"0's \")\n",
    "\n",
    "    plt.legend(loc=\"upper right\")\n",
    "    plt.show()"
   ]
  },
  {
   "cell_type": "code",
   "execution_count": 15,
   "metadata": {},
   "outputs": [
    {
     "data": {
      "image/png": "[encoded data removed]",
      "text/plain": [
       "<Figure size 432x288 with 1 Axes>"
      ]
     },
     "metadata": {
      "needs_background": "light"
     },
     "output_type": "display_data"
    }
   ],
   "source": [
    "X , y = load_data('./marks.txt')\n",
    "plot_data(X,y)    "
   ]
  },
  {
   "cell_type": "markdown",
   "metadata": {},
   "source": [
    "this utility function returns the best *theta values* by combining the `costFunction` which returns the cost error , gradient of the error function and `scipy.minimize` which converges at the global minima "
   ]
  },
  {
   "cell_type": "code",
   "execution_count": 16,
   "metadata": {},
   "outputs": [],
   "source": [
    "def get_theta(costFunction , X , y , iter = 400):\n",
    "\n",
    "    options = {'maxiter':iter} # maximum number of iterations \n",
    "\n",
    "    row , col = X.shape\n",
    "\n",
    "    initial_theta = np.zeros(col)\n",
    "\n",
    "    res = optimize.minimize(\n",
    "        costFunction, \n",
    "        initial_theta ,\n",
    "        (X,y),\n",
    "        jac=True,\n",
    "        method='TNC',\n",
    "        options = options\n",
    "    )\n",
    "    # the fun property of `OptimizeResult` object returns\n",
    "    # the value of costFunction at optimized theta\n",
    "    cost = res.fun\n",
    "\n",
    "    # the optimized theta is in the x property\n",
    "    theta = res.x\n",
    "\n",
    "    return ( cost , theta )"
   ]
  },
  {
   "cell_type": "markdown",
   "metadata": {},
   "source": [
    "### Decision Line\n",
    "\n",
    "So how get the logistic regression model decides whether the features X belong to either $0$ or $1$ <br>\n",
    "- `0`: when $\\sigma (x.w_\\theta + b) < 0.5$\n",
    "- `1`: when $\\sigma (x.w_\\theta + b ) >= 0.5$ \n",
    "<br>\n",
    "\n",
    "So , $0.5$ here is the decision line that whether feature X belongs to either $0$ or $1$ so ,\n",
    "\n",
    "$$\n",
    "\\begin{align}\n",
    "x.w_\\theta + b &= \\sigma^{-1} (0.5) \\\\\n",
    "x.w_\\theta + b &= 0 \\\\\n",
    "x_0 * w_0 +  x_1 * w_1 + b &= 0 \\\\ \n",
    "x_0 * w_0 &=  - ( x_1 * w_1 + b )  \\\\\n",
    "x_0 &= - \\frac{( x_1 * w_1 + b )}{w_0}  \\\\\n",
    "\\end{align}\n",
    "$$"
   ]
  },
  {
   "cell_type": "code",
   "execution_count": 17,
   "metadata": {},
   "outputs": [
    {
     "name": "stdout",
     "output_type": "stream",
     "text": [
      "cost => 0.2034977015894746 , theta => [-25.16131863   0.20623159   0.20147149]\n"
     ]
    },
    {
     "data": {
      "image/png": "[encoded data removed]",
      "text/plain": [
       "<Figure size 432x288 with 1 Axes>"
      ]
     },
     "metadata": {
      "needs_background": "light"
     },
     "output_type": "display_data"
    }
   ],
   "source": [
    "ones = X[y==1] # features X where y == 1\n",
    "zeros = X[y==0] # features X where y == 0\n",
    "row , col = X.shape\n",
    "# Add intercept term to X\n",
    "X = np.concatenate([np.ones((row, 1)), X], axis=1)\n",
    "# get cost , theta values to plot the threshold 0.5 that decides where the feature X belongs to class A or B\n",
    "(cost,theta)=get_theta(costFunction , X , y )\n",
    "\n",
    "print('cost => {} , theta => {}'.format(cost,theta) )\n",
    "#print(' x ',X[:,1:3]) # prints col 0 , 1 \n",
    "# calculate min of X - 2 , max of X + 2 \n",
    "x_treme = np.array([ np.min(X[:,1]) - 2 , np.max(X[:,1]) + 2 ]) \n",
    "# calculate y extreme \n",
    "#y_treme = (-1. / theta[2]) * ( theta[1] * x_treme + theta[0] )\n",
    "   \n",
    "y_treme = - (( np.dot(theta[1] ,x_treme) ) + theta[0] ) / theta[2]\n",
    "\n",
    "plt.plot(x_treme , y_treme)\n",
    "\n",
    "plt.scatter(ones[0],ones[1] , label=\"1's \")\n",
    "plt.scatter(zeros[0],zeros[1], label=\"0's \")\n",
    "\n",
    "plt.legend(loc=\"upper right\")\n",
    "plt.show()"
   ]
  }
 ],
 "metadata": {
  "kernelspec": {
   "display_name": "Python 3",
   "language": "python",
   "name": "python3"
  },
  "language_info": {
   "codemirror_mode": {
    "name": "ipython",
    "version": 3
   },
   "file_extension": ".py",
   "mimetype": "text/x-python",
   "name": "python",
   "nbconvert_exporter": "python",
   "pygments_lexer": "ipython3",
   "version": "3.7.3"
  }
 },
 "nbformat": 4,
 "nbformat_minor": 2
}

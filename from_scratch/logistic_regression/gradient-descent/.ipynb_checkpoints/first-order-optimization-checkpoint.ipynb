{
 "cells": [
  {
   "cell_type": "markdown",
   "metadata": {},
   "source": [
    "# Importing\n",
    "\n",
    "Here we are importing all the Neccessary libaries required for all the utility functions and all of the code below"
   ]
  },
  {
   "cell_type": "code",
   "execution_count": 1,
   "metadata": {},
   "outputs": [],
   "source": [
    "import numpy as np\n",
    "import pandas as pd\n",
    "from collections import OrderedDict\n",
    "import matplotlib as mlt\n",
    "import matplotlib.pyplot as plt\n",
    "from scipy import optimize"
   ]
  },
  {
   "cell_type": "markdown",
   "metadata": {},
   "source": [
    "# Logistic Regression\n",
    "\n",
    "we use logistic regression for binary classification , for those outputs are discrete ( 0 , 1 ) and it belongs to two classes in total.Logistic Regression only outputs the probablity values that features may belong the given categories ( 0 ,1 ).\n",
    "## First order Optimization\n",
    "\n",
    "In first order optimization method we will use the jacovian matrix to update the *weights* and *bias* values.\n",
    "$$\n",
    "\\begin{align}\n",
    "w_\\theta &= w_\\theta old - \\mathcal{V} * w_\\theta^` \\qquad , \\mathcal{V} = \\space \\text{learning rate (0 to 1) } \\\\\n",
    "b_\\theta &= b_\\theta old - \\mathcal{V} * b_\\theta^` \n",
    "\\end{align}\n",
    "$$\n",
    "\n",
    "This is a helper function to load dataset\n"
   ]
  },
  {
   "cell_type": "code",
   "execution_count": 2,
   "metadata": {},
   "outputs": [],
   "source": [
    "def load_data(url):\n",
    "    df=pd.read_csv(url,header=None);\n",
    "    return ( df.iloc[:,:-1] , df.iloc[:,-1])"
   ]
  },
  {
   "cell_type": "markdown",
   "metadata": {},
   "source": [
    "we are using `Sigmoid funtion` for activation . which takes input from - $\\infty$ to $\\infty$ and outputs from $0$ to $1$ . which is very usefull to find probability values.\n",
    "\n",
    "$$\n",
    "\\begin{align}\n",
    "\\sigma = \\frac{1}{1+e^{-x}}\n",
    "\\end{align}\n",
    "$$"
   ]
  },
  {
   "cell_type": "code",
   "execution_count": 3,
   "metadata": {},
   "outputs": [],
   "source": [
    "def sigmoid(x):\n",
    "    '''\n",
    "    returns sigmoid h(x)= 1/(e^-x + 1) of the input x\n",
    "    '''\n",
    "    return 1/(1+np.exp(-x))"
   ]
  },
  {
   "cell_type": "markdown",
   "metadata": {},
   "source": [
    "this `utility function` checks the gradient descent has converged , if converged we will stop the gradient descent training .\n",
    "So convergence is checked by finding the difference between the *old* $w_\\theta$ and *new* $w_\\theta$ if there is'nt any much of difference then its converged."
   ]
  },
  {
   "cell_type": "code",
   "execution_count": 4,
   "metadata": {},
   "outputs": [],
   "source": [
    "def check_for_convergence(beta_old,beta_new,tol=1e-3):\n",
    "    '''\n",
    "    Checks whether the coefficients have converged in the l-infinity norm.\n",
    "    Returns True if they have converged, False otherwise.'''\n",
    "    #calculate the change in the coefficients\n",
    "    coef_change = np.abs(beta_old - beta_new)\n",
    "    \n",
    "    #if change hasn't reached the threshold and we have more iterations to go, keep training\n",
    "    return not (np.any(coef_change>tol) )"
   ]
  },
  {
   "cell_type": "markdown",
   "metadata": {},
   "source": [
    "<h3> Loss Function :</h3>\t\n",
    "\t\t\t\t\t\n",
    "$$\n",
    "Cost / Loss =\n",
    " \\begin{cases}\n",
    " -log(h_{\\theta}(x)) & \\text{if $y$ is 1} \\\\\n",
    " -log(1-h_{\\theta}(x)) & \\text{if $y$ is 0}\n",
    " \\end{cases}\n",
    "$$\n",
    "\n",
    "Which can be simplified as below ,\n",
    "\n",
    "$$\n",
    "loss = \\frac{1}{m}(-ylog(h_{\\theta}(x) \\ -(1-y)( \\ log(1-h_{\\theta}(x) \\ ) \\ ) \\ ) \n",
    "$$\n",
    "\n",
    "where hypothesis $h_\\theta(x)$ ,\n",
    "                $$ h_\\theta(x) =  \\sigma(\\theta^T x)$$\n",
    "\n",
    " let's check this figure below and see how the Cost / Loss function works .\n",
    "\n",
    " when $y = 1$ , we plotting $-log(h(x))$\n",
    "\n",
    "![mtVFHjoeQkaNuKP](https://i.loli.net/2019/08/27/mtVFHjoeQkaNuKP.png)\n",
    "\n",
    "if $h(x)$ is close to $1$ , cost is so low wherelse when $h(x)$ is close to 0 , cost is so high \n",
    "\n",
    "When $y=0$ , we plotting $-log(1-h(x))$\n",
    "\n",
    "![EumjY89IzUcVh1S](https://i.loli.net/2019/08/27/EumjY89IzUcVh1S.png)\n",
    "\n",
    "if $h(x)$ is close to $0$ , cost is so low wherelse when $h(x)$ is close to $1$ , cost is so high , make sense now !\n",
    "\n",
    "The Deriavative of loss function is below ,\n",
    "\n",
    "$$ \\frac{\\partial loss}{\\partial w} = \\frac{(h_\\theta(x) - y)x^T}{m} $$\n",
    "\n"
   ]
  },
  {
   "cell_type": "markdown",
   "metadata": {},
   "source": [
    "#### Learning parameters using `scipy.optimize`\n",
    "\n",
    "In the previous assignment, you found the optimal parameters of a linear regression model by implementing gradient descent. You wrote a cost function and calculated its gradient, then took a gradient descent step accordingly. This time, instead of taking gradient descent steps, you will use the [`scipy.optimize` module](https://docs.scipy.org/doc/scipy/reference/optimize.html). SciPy is a numerical computing library for `python`. It provides an optimization module for root finding and minimization. As of `scipy 1.0`, the function `scipy.optimize.minimize` is the method to use for optimization problems(both constrained and unconstrained).\n",
    "\n",
    "For logistic regression, you want to optimize the cost function $J(\\theta)$ with parameters $\\theta$.\n",
    "Concretely, you are going to use `optimize.minimize` to find the best parameters $\\theta$ for the logistic regression cost function, given a fixed dataset (of X and y values). You will pass to `optimize.minimize` the following inputs:\n",
    "- `costFunction`: A cost function that, when given the training set and a particular $\\theta$, computes the logistic regression cost and gradient with respect to $\\theta$ for the dataset (X, y). It is important to note that we only pass the name of the function without the parenthesis. This indicates that we are only providing a reference to this function, and not evaluating the result from this function.\n",
    "- `initial_theta`: The initial values of the parameters we are trying to optimize.\n",
    "- `(X, y)`: These are additional arguments to the cost function.\n",
    "- `jac`: Indication if the cost function returns the Jacobian (gradient) along with cost value. (True)\n",
    "- `method`: Optimization method/algorithm to use\n",
    "- `options`: Additional options which might be specific to the specific optimization method. In the following, we only tell the algorithm the maximum number of iterations before it terminates.\n",
    "\n",
    "If you have completed the `costFunction` correctly, `optimize.minimize` will converge on the right optimization parameters and return the final values of the cost and $\\theta$ in a class object. Notice that by using `optimize.minimize`, you did not have to write any loops yourself, or set a learning rate like you did for gradient descent. This is all done by `optimize.minimize`: you only needed to provide a function calculating the cost and the gradient.\n",
    "\n",
    "In the following, we already have code written to call `optimize.minimize` with the correct arguments."
   ]
  },
  {
   "cell_type": "code",
   "execution_count": 5,
   "metadata": {},
   "outputs": [],
   "source": [
    "def costFunction(theta, X, y):\n",
    "\n",
    "    m = y.size  # number of training examples\n",
    "\n",
    "    J = 0\n",
    "\n",
    "    h = sigmoid(X.dot(theta.T)) # sigmoid function \n",
    "    \n",
    "    J = (1 / m) * np.sum(-y.dot(np.log(h)) - (1 - y).dot(np.log(1 - h)))\n",
    "    grad = (1 / m) * (h - y).dot(X)\n",
    "    \n",
    "    return J, grad"
   ]
  },
  {
   "cell_type": "markdown",
   "metadata": {},
   "source": [
    "### Let's just visualize the data point \n",
    " to check how they look . For that we have a utility function called `plot_data` that takes care of the visualization part"
   ]
  },
  {
   "cell_type": "code",
   "execution_count": 114,
   "metadata": {},
   "outputs": [],
   "source": [
    "def plot_data(X,y):\n",
    "    \n",
    "    ones = X[y==1] # features X where y == 1\n",
    "    zeros = X[y==0] # features X where y == 0\n",
    "    \n",
    "    plt.scatter(ones[0],ones[1] , label=\"1's \")\n",
    "    plt.scatter(zeros[0],zeros[1], label=\"0's \")\n",
    "\n",
    "    plt.legend(loc=\"upper right\")"
   ]
  },
  {
   "cell_type": "code",
   "execution_count": 115,
   "metadata": {},
   "outputs": [
    {
     "data": {
      "image/png": "[encoded data removed]",
      "text/plain": [
       "<Figure size 432x288 with 1 Axes>"
      ]
     },
     "metadata": {
      "needs_background": "light"
     },
     "output_type": "display_data"
    }
   ],
   "source": [
    "X , y = load_data('./marks.txt')\n",
    "plot_data(X,y)    \n",
    "plt.show()"
   ]
  },
  {
   "cell_type": "markdown",
   "metadata": {},
   "source": [
    "this utility function returns the best *theta values* by combining the `costFunction` which returns the cost error , gradient of the error function and `scipy.minimize` which converges at the global minima "
   ]
  },
  {
   "cell_type": "code",
   "execution_count": 8,
   "metadata": {},
   "outputs": [],
   "source": [
    "def get_theta(costFunction , X , y , iter = 400):\n",
    "\n",
    "    options = {'maxiter':iter} # maximum number of iterations \n",
    "\n",
    "    row , col = X.shape\n",
    "\n",
    "    initial_theta = np.zeros(col)\n",
    "\n",
    "    res = optimize.minimize(\n",
    "        costFunction, \n",
    "        initial_theta ,\n",
    "        (X,y),\n",
    "        jac=True,\n",
    "        method='TNC',\n",
    "        options = options\n",
    "    )\n",
    "    # the fun property of `OptimizeResult` object returns\n",
    "    # the value of costFunction at optimized theta\n",
    "    cost = res.fun\n",
    "\n",
    "    # the optimized theta is in the x property\n",
    "    theta = res.x\n",
    "\n",
    "    return ( cost , theta )"
   ]
  },
  {
   "cell_type": "markdown",
   "metadata": {},
   "source": [
    "### Decision Line\n",
    "\n",
    "So how get the logistic regression model decides whether the features X belong to either $0$ or $1$ <br>\n",
    "- `0`: when $\\sigma (x.w_\\theta + b) < 0.5$\n",
    "- `1`: when $\\sigma (x.w_\\theta + b ) >= 0.5$ \n",
    "<br>\n",
    "\n",
    "So , $0.5$ here is the decision line that whether feature X belongs to either $0$ or $1$ so ,\n",
    "\n",
    "$$\n",
    "\\begin{align}\n",
    "x.w_\\theta + b &= \\sigma^{-1} (0.5) \\\\\n",
    "x.w_\\theta + b &= 0 \\\\\n",
    "x_0 * w_0 +  x_1 * w_1 + b &= 0 \\\\ \n",
    "x_0 * w_0 &=  - ( x_1 * w_1 + b )  \\\\\n",
    "x_0 &= - \\frac{( x_1 * w_1 + b )}{w_0}  \\\\\n",
    "\\end{align}\n",
    "$$"
   ]
  },
  {
   "cell_type": "code",
   "execution_count": 9,
   "metadata": {},
   "outputs": [
    {
     "name": "stdout",
     "output_type": "stream",
     "text": [
      "cost => 0.2034977015894746 , theta => [-25.16131863   0.20623159   0.20147149]\n"
     ]
    },
    {
     "data": {
      "image/png": "[encoded data removed]",
      "text/plain": [
       "<Figure size 432x288 with 1 Axes>"
      ]
     },
     "metadata": {
      "needs_background": "light"
     },
     "output_type": "display_data"
    }
   ],
   "source": [
    "ones = X[y==1] # features X where y == 1\n",
    "zeros = X[y==0] # features X where y == 0\n",
    "row , col = X.shape\n",
    "# Add intercept term to X\n",
    "X = np.concatenate([np.ones((row, 1)), X], axis=1)\n",
    "# get cost , theta values to plot the threshold 0.5 that decides where the feature X belongs to class A or B\n",
    "(cost,theta)=get_theta(costFunction , X , y )\n",
    "\n",
    "print('cost => {} , theta => {}'.format(cost,theta) )\n",
    "#print(' x ',X[:,1:3]) # prints col 0 , 1 \n",
    "# calculate min of X - 2 , max of X + 2 \n",
    "x_treme = np.array([ np.min(X[:,1]) - 2 , np.max(X[:,1]) + 2 ]) \n",
    "# calculate y extreme \n",
    "#y_treme = (-1. / theta[2]) * ( theta[1] * x_treme + theta[0] )\n",
    "\n",
    "'''\n",
    "\n",
    "b  = theta[0]\n",
    "w1 = theta[1]\n",
    "w0 = theta[2]\n",
    "\n",
    "'''\n",
    "y_treme = - (( np.dot(theta[1] ,x_treme) ) + theta[0] ) / theta[2] \n",
    "\n",
    "plt.plot(x_treme , y_treme)\n",
    "\n",
    "plt.scatter(ones[0],ones[1] , label=\"1's \")\n",
    "plt.scatter(zeros[0],zeros[1], label=\"0's \")\n",
    "\n",
    "plt.legend(loc=\"upper right\")\n",
    "plt.show()"
   ]
  },
  {
   "cell_type": "markdown",
   "metadata": {},
   "source": [
    "In the function `mapFeature` defined in the file `utils.py`, we will map the features into all polynomial terms of $x_1$ and $x_2$ up to the sixth power.\n",
    "\n",
    "$$ \\text{mapFeature}(x) = \\begin{bmatrix} 1 & x_1 & x_2 & x_1^2 & x_1 x_2 & x_2^2 & x_1^3 & \\dots & x_1 x_2^5 & x_2^6 \\end{bmatrix}^T $$\n",
    "\n",
    "As a result of this mapping, our vector of two features has been transformed into a 28-dimensional vector. A logistic regression classifier trained on this higher-dimension feature vector will have a more complex decision boundary and will appear nonlinear when drawn in our 2-dimensional plot.\n",
    "While the feature mapping allows us to build a more expressive classifier, it also more susceptible to overfitting.we will implement regularized logistic regression to fit the data and also see for yourself how regularization can help combat the overfitting problem.\n"
   ]
  },
  {
   "cell_type": "code",
   "execution_count": 10,
   "metadata": {},
   "outputs": [],
   "source": [
    "def mapFeature(X1, X2, degree=6):\n",
    "    \"\"\"\n",
    "    Maps the two input features to quadratic features used in the regularization exercise.\n",
    "\n",
    "    Returns a new feature array with more features, comprising of\n",
    "    X1, X2, X1.^2, X2.^2, X1*X2, X1*X2.^2, etc..\n",
    "\n",
    "    Parameters\n",
    "    ----------\n",
    "    X1 : array_like\n",
    "        A vector of shape (m, 1), containing one feature for all examples.\n",
    "\n",
    "    X2 : array_like\n",
    "        A vector of shape (m, 1), containing a second feature for all examples.\n",
    "        Inputs X1, X2 must be the same size.\n",
    "\n",
    "    degree: int, optional\n",
    "        The polynomial degree.\n",
    "\n",
    "    Returns\n",
    "    -------\n",
    "    : array_like\n",
    "        A matrix of of m rows, and columns depend on the degree of polynomial.\n",
    "    \"\"\"\n",
    "    if X1.ndim > 0:\n",
    "        out = [np.ones(X1.shape[0])]\n",
    "    else:\n",
    "        out = [np.ones(1)]\n",
    "\n",
    "    for i in range(1, degree + 1):\n",
    "        for j in range(i + 1):\n",
    "            out.append((X1 ** (i - j)) * (X2 ** j))\n",
    "\n",
    "    if X1.ndim > 0:\n",
    "        return np.stack(out, axis=1)\n",
    "    else:\n",
    "        return np.array(out)"
   ]
  },
  {
   "cell_type": "markdown",
   "metadata": {},
   "source": [
    "lets visualize this dataset which is not linearly separable unlike the dataset that we have used earlier"
   ]
  },
  {
   "cell_type": "code",
   "execution_count": 124,
   "metadata": {},
   "outputs": [
    {
     "data": {
      "image/png": "[encoded data removed]",
      "text/plain": [
       "<Figure size 432x288 with 1 Axes>"
      ]
     },
     "metadata": {
      "needs_background": "light"
     },
     "output_type": "display_data"
    }
   ],
   "source": [
    "X , y = load_data('ex2data2.txt')\n",
    "plot_data(X,y)\n",
    "plt.show()"
   ]
  },
  {
   "cell_type": "markdown",
   "metadata": {},
   "source": [
    "###  Regularization:\n",
    "There are two Regularization methods :\n",
    " - L2 Norm : sumation of `absolute values` of the vector ( $ \\sum_{i=1}^n \\theta_i^2 $ )\n",
    " - L1 Norm : sumation of `squared root of squared values` of the vector ( $ \\sum_{i=1}^n | \\theta_i | $ )\n",
    " \n",
    "we'll use `L2 Norm` as our regulization method\n",
    "$$\n",
    "\\begin{align}\n",
    "loss &= \\frac{1}{m} \\left[-ylog\\left(h_{\\theta} \\left(x\\right) \\right) \\ -\\left(1-y\\right)( \\log\\left( 1-h_{\\theta}(x) \\right) \\right] + \\frac{\\lambda}{2m} \\sum_{i=1}^n \\theta_i^2 \\\\\n",
    "\\frac{loss}{\\partial \\theta} &=  \\frac{ \\left(h_\\theta\\left(x\\right) - y\\right)x^T}{m} + \\frac{\\lambda}{m} \\sum_{i=1}^n \\theta_i\n",
    "\\end{align}\n",
    "$$\n"
   ]
  },
  {
   "cell_type": "code",
   "execution_count": 69,
   "metadata": {},
   "outputs": [],
   "source": [
    "def costFunctionNorm_2(theta, X, y,lambda_=1):\n",
    "    #print('CostFunction Norm 2')\n",
    "    m = y.size  # number of training examples\n",
    "    \n",
    "    J = 0\n",
    "\n",
    "    h = sigmoid(X.dot(theta.T)) # sigmoid function \n",
    "    temp = theta\n",
    "    temp[0] = 0\n",
    "    J =   (1 / m) * np.sum(-y.dot(np.log(h)) - (1 - y).dot(np.log(1 - h))) + ( (lambda_ / (2*m) )  * np.sum(np.square(temp)) )\n",
    "    grad = ( (1 / m) * (h - y).dot(X) ) \n",
    "    grad = grad + (lambda_ /m) * temp\n",
    "    \n",
    "    return J, grad"
   ]
  },
  {
   "cell_type": "code",
   "execution_count": 127,
   "metadata": {},
   "outputs": [],
   "source": [
    "def get_theta_reg_2(costFunction , X , y , iter = 160):\n",
    "\n",
    "    options = {'maxiter':iter} # maximum number of iterations \n",
    "\n",
    "    row , col = X.shape\n",
    "    \n",
    "    lambda_ = 1.00\n",
    "    \n",
    "    initial_theta = np.zeros(col)\n",
    "\n",
    "    res = optimize.minimize(\n",
    "        costFunction, \n",
    "        initial_theta ,\n",
    "        (X,y,lambda_),\n",
    "        jac=True,\n",
    "        method='TNC',\n",
    "        options = options\n",
    "    )\n",
    "    # the fun property of `OptimizeResult` object returns\n",
    "    # the value of costFunction at optimized theta\n",
    "    cost = res.fun\n",
    "\n",
    "    # the optimized theta is in the x property\n",
    "    theta = res.x\n",
    "\n",
    "    return ( cost , theta )"
   ]
  },
  {
   "cell_type": "code",
   "execution_count": 125,
   "metadata": {},
   "outputs": [
    {
     "name": "stdout",
     "output_type": "stream",
     "text": [
      "(118, 2)\n",
      "(118, 28)\n"
     ]
    }
   ],
   "source": [
    "ones = X[y==1]\n",
    "zeros = X[y==0] # features X where y == 0\n",
    "print(X.shape)\n",
    "X = mapFeature(X[0], X[1])\n",
    "print(X.shape)"
   ]
  },
  {
   "cell_type": "code",
   "execution_count": 74,
   "metadata": {},
   "outputs": [
    {
     "name": "stdout",
     "output_type": "stream",
     "text": [
      "cost=>  2.1348483146658572\n",
      "theta=>  [0.34604507 0.08508073 0.11852457 0.1505916  0.01591449 0.16811439\n",
      " 0.06712094 0.03217053 0.02604321 0.10719727 0.09725885 0.01098433\n",
      " 0.04195657 0.00957212 0.12367776 0.05895534 0.01870409 0.01729323\n",
      " 0.02352665 0.01513039 0.09858123 0.07328323 0.01051447 0.02270567\n",
      " 0.00904832 0.02563548 0.00823079 0.10601204]\n"
     ]
    }
   ],
   "source": [
    "rol , col = X.shape\n",
    "theta = np.ones(col)\n",
    "(cost , theta ) = costFunctionNorm_2(theta, X, y,lambda_=1)\n",
    "print('cost=> ',cost)\n",
    "print('theta=> ',theta)"
   ]
  },
  {
   "cell_type": "code",
   "execution_count": 128,
   "metadata": {},
   "outputs": [
    {
     "name": "stdout",
     "output_type": "stream",
     "text": [
      "cost =>  0.6544877952479263\n",
      "theta =>  [ 0.         -0.00602678  0.39178171 -0.45600964 -0.16345792 -0.14868217\n",
      " -0.08286216 -0.05165688 -0.07950304 -0.03803833 -0.39959037 -0.02030656\n",
      " -0.1246764  -0.04280453 -0.27166959 -0.14715523 -0.04113254 -0.02632121\n",
      " -0.05234921 -0.05335967 -0.18084988 -0.3162826  -0.00485563 -0.06747121\n",
      " -0.00138271 -0.07169554 -0.01909383 -0.29410679]\n",
      "min => -18.981540721177556 , max => 0.13261799669806132\n"
     ]
    },
    {
     "data": {
      "text/plain": [
       "<matplotlib.contour.QuadContourSet at 0x198fbc2dba8>"
      ]
     },
     "execution_count": 128,
     "metadata": {},
     "output_type": "execute_result"
    },
    {
     "data": {
      "image/png": "[encoded data removed]",
      "text/plain": [
       "<Figure size 432x288 with 1 Axes>"
      ]
     },
     "metadata": {
      "needs_background": "light"
     },
     "output_type": "display_data"
    }
   ],
   "source": [
    "row , col = X.shape\n",
    "# Add intercept term to X\n",
    "#X = np.concatenate([np.ones((row, 1)), X], axis=1)\n",
    "# get cost , theta values to plot the threshold 0.5 that decides where the feature X belongs to class A or B\n",
    "(cost,theta)=get_theta_reg_2(costFunctionNorm_2 , X , y )\n",
    "\n",
    "print('cost => ',cost)\n",
    "print('theta => ',theta)\n",
    "\n",
    "plt.scatter(ones[0],ones[1] , label=\"1's \")\n",
    "plt.scatter(zeros[0],zeros[1], label=\"0's \")\n",
    "plt.legend(loc=\"upper right\")\n",
    "\n",
    "\n",
    "u = np.linspace(-1, 1.5, 50)\n",
    "v = np.linspace(-1, 1.5, 50)\n",
    "\n",
    "z = np.zeros((u.size, v.size))\n",
    "# Evaluate z = theta*x over the grid\n",
    "for i, ui in enumerate(u):\n",
    "    for j, vj in enumerate(v):\n",
    "        z[i, j] = np.dot(mapFeature(ui, vj), theta)\n",
    "\n",
    "z = z.T  # important to transpose z before calling contour\n",
    "\n",
    "plt.contour(u, v, z, levels=[0], linewidths=2, colors='g')\n",
    "print('min => {} , max => {}'.format(np.min(z) , np.max(z) ) )\n",
    "plt.contourf(u, v, z, levels=[np.min(z), 0, np.max(z)], cmap='Greens', alpha=0.4)\n"
   ]
  }
 ],
 "metadata": {
  "kernelspec": {
   "display_name": "Python 3",
   "language": "python",
   "name": "python3"
  },
  "language_info": {
   "codemirror_mode": {
    "name": "ipython",
    "version": 3
   },
   "file_extension": ".py",
   "mimetype": "text/x-python",
   "name": "python",
   "nbconvert_exporter": "python",
   "pygments_lexer": "ipython3",
   "version": "3.7.3"
  }
 },
 "nbformat": 4,
 "nbformat_minor": 2
}

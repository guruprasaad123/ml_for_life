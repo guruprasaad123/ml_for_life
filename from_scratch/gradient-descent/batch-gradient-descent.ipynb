{
 "cells": [
  {
   "cell_type": "markdown",
   "metadata": {},
   "source": [
    "## Lets start with importing the neccessary libaries and neccessary functions"
   ]
  },
  {
   "cell_type": "code",
   "execution_count": 1,
   "metadata": {},
   "outputs": [],
   "source": [
    "from numpy import *\n",
    "import matplotlib.pyplot as plt\n",
    "import numpy as np"
   ]
  },
  {
   "cell_type": "markdown",
   "metadata": {},
   "source": [
    " This function is used for computing mean_sqaured_error for provided weights and Biases.<br>\n",
    " ```python\n",
    "loss function :\n",
    "y_=(m*x)+b\n",
    "mean_squared_loss = (1/N)((y-y_))**2\n",
    "```"
   ]
  },
  {
   "cell_type": "code",
   "execution_count": 2,
   "metadata": {},
   "outputs": [],
   "source": [
    "\n",
    "def compute_error(data,m,b):\n",
    "        total_error=0\n",
    "        N=float(len(data))\n",
    "        for i in range(len(data)):\n",
    "                [x,y]=data[i]\n",
    "                y_ = (m * x ) + b\n",
    "                total_error += (y-y_)** 2\n",
    "        return ((1/N)*total_error) \n"
   ]
  },
  {
   "cell_type": "markdown",
   "metadata": {},
   "source": [
    "`step_gradient_descent` performs gradient-descent operation that is finding partial deriavatives of weights m and bias b.<br>\n",
    "\n",
    "```python\n",
    "partial deriatives of loss function with respect to weight m and bias b :\n",
    "w_ = -(2/N)(x*(y-(m*x+b))) \n",
    "b_ = -(2/N)(y-(m*x+b))\n",
    "```"
   ]
  },
  {
   "cell_type": "code",
   "execution_count": 15,
   "metadata": {},
   "outputs": [],
   "source": [
    "\n",
    "def step_gradient_descent(data,m,b,learning_rate=0.0001):\n",
    "        b_gradient= m_gradient = 0\n",
    "        N=float(len(data))\n",
    "        for i in range(len(data)):\n",
    "                [x,y]=data[i]\n",
    "                y_=(m*x)+b\n",
    "                m_gradient+= - (2/N)*(x*(y-y_))\n",
    "                b_gradient+= -(2/N)*(y-y_)\n",
    "        #print(\"m ={}, b ={}\".format(m_gradient,b_gradient))\n",
    "        m_new = m-(learning_rate*m_gradient)\n",
    "        b_new = b-(learning_rate*b_gradient)\n",
    "        return (m_new,b_new)"
   ]
  },
  {
   "cell_type": "markdown",
   "metadata": {},
   "source": [
    "`plot()` is utility function that lets visualize the X ,Y plots and also plot the `line-of-best-fit`"
   ]
  },
  {
   "cell_type": "code",
   "execution_count": 16,
   "metadata": {},
   "outputs": [],
   "source": [
    "def plot(data,m , b):\n",
    "        x=np.array(data[:,0])\n",
    "        y=np.array(data[:,1])\n",
    "        m=float(format(m,'.4g')[:3])\n",
    "        b=float(format(b,'.4g')[:3])\n",
    "        #print(format(m,'.2g'),float(format(b,'.4g')[:4]))\n",
    "        #print(m,b)\n",
    "        y_=[ b+(m*y_s) for y_s in y]\n",
    "        y_ = (m*x)+b\n",
    "        #print(y_)\n",
    "        fig=plt.figure()\n",
    "        ax=fig.add_subplot(111)\n",
    "        #print(data[0],data[1])\n",
    "        #print(data[:,0],data[:,1])\n",
    "        ax.scatter(x,y,c='red')\n",
    "        ax.plot(x,y_)\n",
    "        plt.show()"
   ]
  },
  {
   "cell_type": "markdown",
   "metadata": {},
   "source": [
    "let's the run the `batch-gradient-descent-runner` so that we can perform step-gradient-descent on very points in Data for `1000 epochs` and `learning_rate of 0.001`"
   ]
  },
  {
   "cell_type": "code",
   "execution_count": 17,
   "metadata": {},
   "outputs": [
    {
     "name": "stdout",
     "output_type": "stream",
     "text": [
      "Running\n",
      "Error @ inital stage : 5565.107834483212\n",
      "Running 0/1000\n",
      "Running 100/1000\n",
      "Running 200/1000\n",
      "Running 300/1000\n",
      "Running 400/1000\n",
      "Running 500/1000\n",
      "Running 600/1000\n",
      "Running 700/1000\n",
      "Running 800/1000\n",
      "Running 900/1000\n"
     ]
    },
    {
     "data": {
      "image/png": "[encoded data removed]",
      "text/plain": [
       "<Figure size 432x288 with 1 Axes>"
      ]
     },
     "metadata": {
      "needs_background": "light"
     },
     "output_type": "display_data"
    },
    {
     "name": "stdout",
     "output_type": "stream",
     "text": [
      "Error after Performing Gradient Descent : 112.61481011613475\n"
     ]
    }
   ],
   "source": [
    "\n",
    "def perform_gradient_descent(data,m,b,epochs=1000):\n",
    "        m_array=b_array=[]\n",
    "        for i in range(epochs):\n",
    "                if(i % 100 == 0 ):\n",
    "                        print(\"Running {}/{}\".format(i,epochs))\n",
    "                (m,b) = step_gradient_descent(data,m,b)\n",
    "                m_array.append(m)\n",
    "                b_array.append(b)\n",
    "        #np.array(m_array),np.array(b_array)\n",
    "\n",
    "        plot(data,m,b)\n",
    "\n",
    "        return (m,b)\n",
    "                \n",
    "def run():\n",
    "        print('Running')\n",
    "        data = genfromtxt('data.csv',delimiter=',')\n",
    "        initial_m = 0\n",
    "        initial_b = 0\n",
    "        error=compute_error(data,initial_m,initial_b)\n",
    "        print(\"Error @ inital stage : {}\".format(error))\n",
    "        (m,b)=perform_gradient_descent(data,initial_m,initial_b)\n",
    "        #print('gradient ',m,b)\n",
    "        error=compute_error(data,m,b)\n",
    "        print(\"Error after Performing Gradient Descent : {}\".format(error))\n",
    "        \n",
    "run()"
   ]
  },
  {
   "cell_type": "markdown",
   "metadata": {},
   "source": [
    "# Conclusion :\n",
    "Thanks to the `batch-gradient-descent`,We could see that blue line i.e `line-of-best-fit` covered all the points it could "
   ]
  },
  {
   "cell_type": "code",
   "execution_count": null,
   "metadata": {},
   "outputs": [],
   "source": []
  }
 ],
 "metadata": {
  "kernelspec": {
   "display_name": "Python 3",
   "language": "python",
   "name": "python3"
  },
  "language_info": {
   "codemirror_mode": {
    "name": "ipython",
    "version": 3
   },
   "file_extension": ".py",
   "mimetype": "text/x-python",
   "name": "python",
   "nbconvert_exporter": "python",
   "pygments_lexer": "ipython3",
   "version": "3.7.3"
  }
 },
 "nbformat": 4,
 "nbformat_minor": 2
}

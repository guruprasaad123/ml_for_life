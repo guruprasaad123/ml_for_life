{
 "cells": [
  {
   "cell_type": "code",
   "execution_count": 1,
   "metadata": {},
   "outputs": [],
   "source": [
    "import numpy as np\n",
    "from sklearn import datasets\n",
    "from sklearn.pipeline import Pipeline\n",
    "from sklearn.preprocessing import StandardScaler\n",
    "from sklearn.svm import LinearSVC , SVC\n",
    "from matplotlib import pyplot as plt\n",
    "from sklearn.datasets.samples_generator import make_blobs \n"
   ]
  },
  {
   "cell_type": "code",
   "execution_count": 2,
   "metadata": {},
   "outputs": [
    {
     "data": {
      "text/plain": [
       "SVC(C=10, cache_size=200, class_weight=None, coef0=0.0,\n",
       "  decision_function_shape='ovr', degree=3, gamma='auto_deprecated',\n",
       "  kernel='linear', max_iter=-1, probability=False, random_state=None,\n",
       "  shrinking=True, tol=0.001, verbose=False)"
      ]
     },
     "execution_count": 2,
     "metadata": {},
     "output_type": "execute_result"
    }
   ],
   "source": [
    "iris = datasets.load_iris()\n",
    "X = iris[\"data\"][:, (2, 3)]\n",
    "Y = iris['target']\n",
    "                 \n",
    "\n",
    "#X, Y = make_blobs(n_samples=100, centers=2,random_state=0, cluster_std=0.40) \n",
    "setosa_or_versicolor = (Y == 0) | (Y == 1)\n",
    "X = X[setosa_or_versicolor]\n",
    "Y = Y[setosa_or_versicolor]\n",
    "svm_clf = SVC(kernel=\"linear\", C=10)\n",
    "svm_clf.fit(X,Y)"
   ]
  },
  {
   "cell_type": "code",
   "execution_count": 3,
   "metadata": {},
   "outputs": [
    {
     "data": {
      "text/plain": [
       "array([1])"
      ]
     },
     "execution_count": 3,
     "metadata": {},
     "output_type": "execute_result"
    }
   ],
   "source": [
    "svm_clf.predict([[5.7,8.9]])"
   ]
  },
  {
   "cell_type": "code",
   "execution_count": 4,
   "metadata": {},
   "outputs": [
    {
     "data": {
      "text/plain": [
       "array([[1.9, 0.4],\n",
       "       [3. , 1.1]])"
      ]
     },
     "execution_count": 4,
     "metadata": {},
     "output_type": "execute_result"
    }
   ],
   "source": [
    "#W=svm_clf.named_steps['linear_SVC'].coef_\n",
    "W=svm_clf.coef_\n",
    "W = W[0]\n",
    "b = svm_clf.intercept_\n",
    "b=b[0]\n",
    "svm_clf.support_vectors_"
   ]
  },
  {
   "cell_type": "code",
   "execution_count": 5,
   "metadata": {},
   "outputs": [],
   "source": [
    "def plot_svc_decision_boundary(svm_clf, xmin, xmax):\n",
    "    w = svm_clf.coef_[0]\n",
    "    b = svm_clf.intercept_[0]\n",
    "\n",
    "    # At the decision boundary, w0*x0 + w1*x1 + b = 0\n",
    "    # => x1 = -w0/w1 * x0 - b/w1\n",
    "    x0 = np.linspace(xmin, xmax, 200)\n",
    "    decision_boundary = -w[0]/w[1] * x0 - b/w[1]\n",
    "\n",
    "    margin = 1/w[1]\n",
    "    gutter_up = decision_boundary + margin\n",
    "    gutter_down = decision_boundary - margin\n",
    "\n",
    "    svs = svm_clf.support_vectors_\n",
    "    plt.scatter(svs[:, 0], svs[:, 1], s=180, facecolors='#FFAAAA')\n",
    "    plt.plot(x0, decision_boundary, \"k-\", linewidth=2)\n",
    "    plt.plot(x0, gutter_up, \"k--\", linewidth=2)\n",
    "    plt.plot(x0, gutter_down, \"k--\", linewidth=2)"
   ]
  },
  {
   "cell_type": "code",
   "execution_count": 6,
   "metadata": {},
   "outputs": [
    {
     "data": {
      "image/png": "[encoded data removed]",
      "text/plain": [
       "<Figure size 432x288 with 1 Axes>"
      ]
     },
     "metadata": {},
     "output_type": "display_data"
    }
   ],
   "source": [
    "plt.xlabel('Petal length (x0)')\n",
    "plt.ylabel('Petal width (x1)')\n",
    "plt.title('SVC With Linear Kernal')\n",
    "plt.plot(X[:,0][Y==0],X[:,1][Y==0],'bs',label=\"Setaso\")\n",
    "plt.plot(X[:,0][Y==1],X[:,1][Y==1],'ys',label=\"Versicolor\")\n",
    "\n",
    "plt.legend()\n",
    "\n",
    "min = np.amin(X[:,0])\n",
    "max = np.amax(X[:,0])\n",
    "\n",
    "X_0 = np.linspace(min,max,X.shape[0])\n",
    "X_1 = -W[0]/ W[1] * X_0 - b/W[1]\n",
    "# Calculating margins / Width length so that we plot the Decision Margins\n",
    "margin = 1/W[1]\n",
    "\n",
    "# Substract the margin from the main Decision Boundry , we get Lower Bound\n",
    "gutter_down = X_1 - margin\n",
    "\n",
    "# Add the margin from the main Decision Boundry , we get Upper Bound\n",
    "gutter_up = X_1 + margin\n",
    "\n",
    "plt.plot(X_0,X_1,'k-')\n",
    "plt.plot(X_0,gutter_down,'k--')\n",
    "plt.plot(X_0,gutter_up,'k--')\n",
    "\n",
    "svs = svm_clf.support_vectors_\n",
    "plt.scatter(svs[:, 0], svs[:, 1], s=180, facecolors='#FFAAAA')\n",
    "plt.show()"
   ]
  },
  {
   "cell_type": "code",
   "execution_count": 12,
   "metadata": {},
   "outputs": [
    {
     "data": {
      "text/plain": [
       "Pipeline(memory=None,\n",
       "     steps=[('scalar', StandardScaler(copy=True, with_mean=True, with_std=True)), ('linear_SVC', LinearSVC(C=10, class_weight=None, dual=True, fit_intercept=True,\n",
       "     intercept_scaling=1, loss='hinge', max_iter=1000, multi_class='ovr',\n",
       "     penalty='l2', random_state=42, tol=0.0001, verbose=0))])"
      ]
     },
     "execution_count": 12,
     "metadata": {},
     "output_type": "execute_result"
    }
   ],
   "source": [
    "iris = datasets.load_iris()\n",
    "\n",
    "svm_clf =Pipeline( (\n",
    "    ('scalar', StandardScaler()),\n",
    "    ('linear_SVC',LinearSVC(C=10,loss='hinge',random_state=42))\n",
    "))\n",
    "svm_clf.fit(X,Y)"
   ]
  },
  {
   "cell_type": "code",
   "execution_count": 13,
   "metadata": {},
   "outputs": [
    {
     "name": "stdout",
     "output_type": "stream",
     "text": [
      "[[1.0536456  1.09903032]]\n",
      "[0.28474027]\n"
     ]
    }
   ],
   "source": [
    "print(svm_clf.named_steps['linear_SVC'].coef_)\n",
    "print(svm_clf.named_steps['linear_SVC'].intercept_)"
   ]
  },
  {
   "cell_type": "markdown",
   "metadata": {},
   "source": [
    "let's unscale the weights since we have used the StandardScaler"
   ]
  },
  {
   "cell_type": "code",
   "execution_count": 18,
   "metadata": {},
   "outputs": [
    {
     "name": "stdout",
     "output_type": "stream",
     "text": [
      "[0.3511911  6.18099844]\n"
     ]
    }
   ],
   "source": [
    "scale = svm_clf.named_steps['scalar'].scale_\n",
    "mean = svm_clf.named_steps['scalar'].mean_\n",
    "\n",
    "b = svm_clf.named_steps['linear_SVC'].intercept_ = np.array([svm_clf.named_steps['linear_SVC'].decision_function([-mean/scale])])\n",
    "W = svm_clf.named_steps['linear_SVC'].coef_ = np.array([svm_clf.named_steps['linear_SVC'].coef_[0] / scale])\n",
    "\n",
    "W = W[0]\n",
    "t = Y * 2 - 1\n",
    "\n",
    "support_vectors_idx = (t * (X.dot(W) + b) < 1).ravel()\n",
    "\n",
    "svm_clf.named_steps['linear_SVC'].support_vectors_ = X[support_vectors_idx]\n",
    "print(W)\n"
   ]
  },
  {
   "cell_type": "code",
   "execution_count": 15,
   "metadata": {},
   "outputs": [],
   "source": [
    "# Convert to unscaled parameters\n",
    "b = svm_clf.named_steps['linear_SVC'].decision_function([-svm_clf.named_steps['scalar'].mean_ / svm_clf.named_steps['scalar'].scale_])\n",
    "\n",
    "W = svm_clf.named_steps['linear_SVC'].coef_[0] / svm_clf.named_steps['scalar'].scale_\n",
    "\n",
    "svm_clf.intercept_ = np.array([b])\n",
    "\n",
    "svm_clf.coef_ = np.array([W])\n",
    "\n",
    "# Find support vectors (LinearSVC does not do this automatically)\n",
    "t = Y * 2 - 1\n",
    "\n",
    "support_vectors_idx = (t * (X.dot(W) + b) < 1).ravel()\n",
    "\n",
    "svm_clf.named_steps['linear_SVC'].support_vectors_ = X[support_vectors_idx]"
   ]
  },
  {
   "cell_type": "code",
   "execution_count": 16,
   "metadata": {},
   "outputs": [
    {
     "name": "stdout",
     "output_type": "stream",
     "text": [
      "[1.         1.04141414 1.08282828 1.12424242 1.16565657 1.20707071\n",
      " 1.24848485 1.28989899 1.33131313 1.37272727 1.41414141 1.45555556\n",
      " 1.4969697  1.53838384 1.57979798 1.62121212 1.66262626 1.7040404\n",
      " 1.74545455 1.78686869 1.82828283 1.86969697 1.91111111 1.95252525\n",
      " 1.99393939 2.03535354 2.07676768 2.11818182 2.15959596 2.2010101\n",
      " 2.24242424 2.28383838 2.32525253 2.36666667 2.40808081 2.44949495\n",
      " 2.49090909 2.53232323 2.57373737 2.61515152 2.65656566 2.6979798\n",
      " 2.73939394 2.78080808 2.82222222 2.86363636 2.90505051 2.94646465\n",
      " 2.98787879 3.02929293 3.07070707 3.11212121 3.15353535 3.19494949\n",
      " 3.23636364 3.27777778 3.31919192 3.36060606 3.4020202  3.44343434\n",
      " 3.48484848 3.52626263 3.56767677 3.60909091 3.65050505 3.69191919\n",
      " 3.73333333 3.77474747 3.81616162 3.85757576 3.8989899  3.94040404\n",
      " 3.98181818 4.02323232 4.06464646 4.10606061 4.14747475 4.18888889\n",
      " 4.23030303 4.27171717 4.31313131 4.35454545 4.3959596  4.43737374\n",
      " 4.47878788 4.52020202 4.56161616 4.6030303  4.64444444 4.68585859\n",
      " 4.72727273 4.76868687 4.81010101 4.85151515 4.89292929 4.93434343\n",
      " 4.97575758 5.01717172 5.05858586 5.1       ]\n",
      "[ 3.02857147  2.9634921   2.89841274  2.83333337  2.76825401  2.70317464\n",
      "  2.63809528  2.57301591  2.50793655  2.44285718  2.37777782  2.31269845\n",
      "  2.24761909  2.18253972  2.11746036  2.05238099  1.98730163  1.92222226\n",
      "  1.8571429   1.79206353  1.72698417  1.6619048   1.59682544  1.53174607\n",
      "  1.46666671  1.40158734  1.33650798  1.27142861  1.20634925  1.14126988\n",
      "  1.07619052  1.01111115  0.94603179  0.88095242  0.81587306  0.75079369\n",
      "  0.68571433  0.62063496  0.5555556   0.49047623  0.42539687  0.3603175\n",
      "  0.29523814  0.23015877  0.16507941  0.10000004  0.03492068 -0.03015869\n",
      " -0.09523805 -0.16031742 -0.22539678 -0.29047615 -0.35555551 -0.42063488\n",
      " -0.48571424 -0.55079361 -0.61587298 -0.68095234 -0.74603171 -0.81111107\n",
      " -0.87619044 -0.9412698  -1.00634917 -1.07142853 -1.1365079  -1.20158726\n",
      " -1.26666663 -1.33174599 -1.39682536 -1.46190472 -1.52698409 -1.59206345\n",
      " -1.65714282 -1.72222218 -1.78730155 -1.85238091 -1.91746028 -1.98253964\n",
      " -2.04761901 -2.11269837 -2.17777774 -2.2428571  -2.30793647 -2.37301583\n",
      " -2.4380952  -2.50317456 -2.56825393 -2.63333329 -2.69841266 -2.76349202\n",
      " -2.82857139 -2.89365075 -2.95873012 -3.02380948 -3.08888885 -3.15396821\n",
      " -3.21904758 -3.28412694 -3.34920631 -3.41428567]\n"
     ]
    },
    {
     "data": {
      "image/png": "[encoded data removed]",
      "text/plain": [
       "<Figure size 432x288 with 1 Axes>"
      ]
     },
     "metadata": {},
     "output_type": "display_data"
    }
   ],
   "source": [
    "plt.xlabel('Petal length (x0)')\n",
    "plt.ylabel('Petal width (x1)')\n",
    "plt.title('SVC With Linear Kernal')"
   ]
  }
 ],
 "metadata": {
  "kernelspec": {
   "display_name": "Python 3",
   "language": "python",
   "name": "python3"
  },
  "language_info": {
   "codemirror_mode": {
    "name": "ipython",
    "version": 3
   },
   "file_extension": ".py",
   "mimetype": "text/x-python",
   "name": "python",
   "nbconvert_exporter": "python",
   "pygments_lexer": "ipython3",
   "version": "3.7.3"
  }
 },
 "nbformat": 4,
 "nbformat_minor": 2
}

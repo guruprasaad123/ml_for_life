{
 "cells": [
  {
   "cell_type": "code",
   "execution_count": null,
   "metadata": {},
   "outputs": [],
   "source": []
  },
  {
   "cell_type": "code",
   "execution_count": 2,
   "metadata": {},
   "outputs": [],
   "source": [
    "from cvxopt import matrix , solvers\n",
    "import numpy as np\n",
    "from matplotlib import pyplot as plt\n",
    "from sklearn.datasets.samples_generator import make_blobs "
   ]
  },
  {
   "cell_type": "code",
   "execution_count": null,
   "metadata": {},
   "outputs": [],
   "source": []
  },
  {
   "cell_type": "code",
   "execution_count": 3,
   "metadata": {},
   "outputs": [
    {
     "data": {
      "image/png": "[encoded data removed]",
      "text/plain": [
       "<Figure size 432x288 with 1 Axes>"
      ]
     },
     "metadata": {
      "needs_background": "light"
     },
     "output_type": "display_data"
    }
   ],
   "source": [
    "X, Y = make_blobs( n_samples=100, centers=2, random_state=0, cluster_std=0.49 ) \n",
    "ones = Y==1\n",
    "zeros = Y==0\n",
    "\n",
    "plt.plot(X[:,0][ones] , X[:,1][ones],'b.')\n",
    "plt.plot(X[:,0][zeros] ,X[:,1][zeros],'r.')\n",
    "plt.show()"
   ]
  },
  {
   "cell_type": "code",
   "execution_count": 4,
   "metadata": {},
   "outputs": [
    {
     "name": "stdout",
     "output_type": "stream",
     "text": [
      "100 2\n",
      "(100, 1)\n",
      "[[2.58073434e-05]\n",
      " [9.80638189e-06]] [-5.52931125e-05]\n"
     ]
    }
   ],
   "source": [
    "row , col = X.shape\n",
    "print(row , col)\n",
    "_y = Y.reshape(-1,1) * 1.\n",
    "x_dash = _y * X\n",
    "H = np.dot(x_dash , x_dash.T) * 1.\n",
    "\n",
    "p = matrix(H)\n",
    "q = matrix( - np.ones((row,1)) )\n",
    "G = matrix( - np.eye(row) )\n",
    "H = matrix( np.zeros(row) )\n",
    "A = matrix( _y.reshape(1,-1) )\n",
    "B = matrix( np.zeros(1) )\n",
    "\n",
    "#Setting solver parameters (change default to decrease tolerance) \n",
    "solvers.options['show_progress'] = False\n",
    "solvers.options['abstol'] = 1e-10\n",
    "solvers.options['reltol'] = 1e-10\n",
    "solvers.options['feastol'] = 1e-10\n",
    "\n",
    "sol = solvers.qp(p,q,G,H,A,B)\n",
    "alphas = np.array(sol['x'])\n",
    "\n",
    "print(alphas.shape)\n",
    "\n",
    "w = (( alphas * _y ).T @ X).reshape(-1,1)\n",
    "S = (alphas > 1e-4).flatten()\n",
    "b = _y[S] - np.dot(X[S],w)\n",
    "\n",
    "print( w,b[0])"
   ]
  },
  {
   "cell_type": "code",
   "execution_count": null,
   "metadata": {},
   "outputs": [],
   "source": []
  },
  {
   "cell_type": "code",
   "execution_count": 5,
   "metadata": {},
   "outputs": [
    {
     "name": "stdout",
     "output_type": "stream",
     "text": [
      "[-2.19180388  7.25966727]\n",
      "[array([11.40662777]), array([-1.58979572e-05])]\n"
     ]
    },
    {
     "data": {
      "image/png": "[encoded data removed]",
      "text/plain": [
       "<Figure size 432x288 with 1 Axes>"
      ]
     },
     "metadata": {
      "needs_background": "light"
     },
     "output_type": "display_data"
    }
   ],
   "source": [
    "slope = -w[0] / w[1]\n",
    "intercept = -b[0] / w[1]\n",
    "\n",
    "x_treme = np.array([ np.min(X[:,1]) - 2 , np.max(X[:,1]) + 2 ]) \n",
    "\n",
    "#x_treme = np.arange(0,6)\n",
    "print( x_treme )\n",
    "#y_treme = - (( np.dot(x_treme,w[1]) ) + b[0] ) / w[0] \n",
    "\n",
    "#x_treme = np.arange(np.min(X[:,0]) , np.max(X[:,0]) )\n",
    "\n",
    "c=0\n",
    "\n",
    "y_treme = [(-w[0] * x_treme[0] - b[0] + c) / w[1] , (-w[1] * x_treme[1] - b[0] + c) ]\n",
    "\n",
    "print( y_treme )\n",
    "\n",
    "#plt.plot(x_treme ,  x_treme * slope  / intercept ,'k-' )\n",
    "\n",
    "#plt.plot(x_treme ,  y_treme ,'k-' )\n",
    "\n",
    "sepX1 = np.linspace(np.min(X[:,1]) - 2 , np.max(X[:,1]) + 2 , 100)\n",
    "sepX2 = -b[0]/w[1] - w[0]*sepX1/w[1]\n",
    "\n",
    "plt.plot(sepX1,sepX2,'k-')\n",
    "\n",
    "plt.plot(X[:,0][ones] , X[:,1][ones],'b.')\n",
    "plt.plot(X[:,0][zeros] ,X[:,1][zeros],'r.')\n",
    "\n",
    "plt.show()"
   ]
  },
  {
   "cell_type": "code",
   "execution_count": null,
   "metadata": {},
   "outputs": [],
   "source": []
  },
  {
   "cell_type": "code",
   "execution_count": null,
   "metadata": {},
   "outputs": [],
   "source": [
    "\n",
    "plt.plot(X[:,0][Y==0],X[:,1][Y==0],'bs',label=\"Setaso\")\n",
    "plt.plot(X[:,0][Y==1],X[:,1][Y==1],'ys',label=\"Versicolor\")\n",
    "\n",
    "plt.legend()\n",
    "\n",
    "#W = W[0]\n",
    "\n",
    "min = np.amin(X[:,0])\n",
    "max = np.amax(X[:,0])\n",
    "\n",
    "X_0 = np.linspace(min,max,X.shape[0])\n",
    "#X_1 = -W[0]/ W[1] * X_0 - b/W[1]\n",
    "#X_1 = X_1[0]\n",
    "# Calculating margins / Width length so that we plot the Decision Margins\n",
    "#margin = 1/W[1]\n",
    "\n",
    "# Substract the margin from the main Decision Boundry , we get Lower Bound\n",
    "gutter_down = X_1 - margin\n",
    "\n",
    "# Add the margin from the main Decision Boundry , we get Upper Bound\n",
    "gutter_up = X_1 + margin\n",
    "\n",
    "print(X_0)\n",
    "print(X_1)\n",
    "#plt.plot(X_0,X_1,'k-')\n",
    "#plt.plot(X_0,gutter_down,'k--')\n",
    "#plt.plot(X_0,gutter_up,'k--')\n",
    "\n",
    "plot_svc_decision_boundary( svm_clf.named_steps['linear_SVC'] , 0,6)\n",
    "\n",
    "#svs = svm_clf.support_vectors_\n",
    "#plt.scatter(svs[:, 0], svs[:, 1], s=180, facecolors='#FFAAAA')\n",
    "plt.show()"
   ]
  }
 ],
 "metadata": {
  "kernelspec": {
   "display_name": "Python 3",
   "language": "python",
   "name": "python3"
  },
  "language_info": {
   "codemirror_mode": {
    "name": "ipython",
    "version": 3
   },
   "file_extension": ".py",
   "mimetype": "text/x-python",
   "name": "python",
   "nbconvert_exporter": "python",
   "pygments_lexer": "ipython3",
   "version": "3.7.3"
  }
 },
 "nbformat": 4,
 "nbformat_minor": 2
}

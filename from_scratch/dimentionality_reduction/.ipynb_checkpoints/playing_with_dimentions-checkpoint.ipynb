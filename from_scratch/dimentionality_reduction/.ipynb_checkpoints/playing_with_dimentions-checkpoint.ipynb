{
 "cells": [
  {
   "cell_type": "markdown",
   "metadata": {},
   "source": [
    "# Dimentionality Reduction\n"
   ]
  },
  {
   "cell_type": "markdown",
   "metadata": {},
   "source": [
    "# Introduction\n",
    "\n",
    "In the previous lesson you learned about the different approaches for reducing the dimensionality of a dataset using different feature selection techniques. An alternative approach to feature selection for dimensionality reduction is **feature extraction**.\n",
    "\n",
    "In this lesson, you will learn about three fundamental techniques that will help us to summarize the information content of a dataset by transforming it onto a new feature subspace of lower dimensionality than the original one. Data compression is an important topic in machine learning, and it helps us to store and analyze the increasing amounts of data that are produced and collected in the modern age of technology.\n",
    "\n",
    "We will cover the following topics:\n",
    "\n",
    "- **Principal Component Analysis** (**PCA**) for unsupervised data compression\n",
    "- **Linear Discriminant Analysis** (**LDA**) as a supervised dimensionality reduction technique for maximizing class separability\n",
    "- Nonlinear dimensionality reduction via **Kernel Principal Component Analysis** (**KPCA**)\n",
    "\n",
    "# Principal Component Analysis\n",
    "\n",
    "Similar to feature selection, we can use different feature extraction techniques to reduce the number of features in a dataset. The difference between feature selection and feature extraction is that while we maintain the original features when we used feature selection algorithms, such as **sequential backward selection**, we use feature extraction to transform or project the data onto a new feature space.\n",
    "\n",
    "In the context of dimensionality reduction, feature extraction can be understood as an approach to data compression with the goal of maintaining most of the relevant information. In practice, feature extraction is not only used to improve storage space or the computational efficiency of the learning algorithm, but can also improve the predictive performance by reducing the **curse of dimensionality**—especially if we are working with non-regularized models.\n",
    "\n",
    "### **The Main Steps Behind PCA**\n",
    "\n",
    "In this step, we will discuss PCA, an unsupervised linear transformation technique that is widely used across different fields, most prominently for feature extraction and dimensionality reduction. Other popular applications of PCA include exploratory data analyses and de-noising of signals in stock market trading, and the analysis of genome data and gene expression levels in the field of bioinformatics.\n",
    "\n",
    "PCA helps us to identify patterns in data based on the correlation between features. In a nutshell, PCA aims to find the directions of maximum variance in high-dimensional data and projects it onto a new subspace with equal or fewer dimensions than the original one. The orthogonal axes (principal components) of the new subspace can be interpreted as the directions of maximum variance given the constraint that the new feature axes are orthogonal to each other, as illustrated in the following figure\n",
    "\n",
    "![iamg](https://cdn.filestackcontent.com/URUouEblQ3Gq36aXAGcK)\n",
    "\n",
    "In the preceding figure, *x1* and *x2* are the original feature axes, and **PC1** and **PC2** are the principal components.\n",
    "\n",
    "If we use PCA for dimensionality reduction, we construct a d \\times k*d*×*k*–dimensional transformation matrix ***W*** that allows us to map a sample vector ***x*** onto a new *k*–dimensional feature subspace that has fewer dimensions than the original *d*–dimensional feature space:\n",
    "\n",
    "$$dx=[x  1 ​\t  ,x  2 ​\t  ,…,x  d ​ ],  x∈R  d  \\\\ ↓xW,  W∈R  d×k \\\\ z=[z  1 ​\t  ,z  2 ​\t  ,…,z  k ​\t  ],  z∈R  k$$\n",
    "\n",
    "As a result of transforming the original *d*-dimensional data onto this new *k*-dimensional subspace (typically *k* << *d*), the first principal component will have the largest possible variance, and all consequent principal components will have the largest variance given the constraint that these components are uncorrelated (orthogonal) to the other principal components—even if the input features are correlated, the resulting principal components will be mutually orthogonal (uncorrelated).\n",
    "\n",
    "Note that the PCA directions are highly sensitive to data scaling, and we need to standardize the features *prior* to PCA if the features were measured on different scales and we want to assign equal importance to all features.\n",
    "\n",
    "Before looking at the PCA algorithm for dimensionality reduction in more detail, let's summarize the approach in a few simple steps:\n",
    "\n",
    "1. Standardize the *d*-dimensional dataset.\n",
    "2. Construct the covariance matrix.\n",
    "3. Decompose the covariance matrix into its eigenvectors and eigenvalues.\n",
    "4. Sort the eigenvalues by decreasing order to rank the corresponding eigenvectors.\n",
    "5. Select *k* eigenvectors which correspond to the *k* largest eigenvalues, where *k* is the dimensionality of the new feature subspace (*k*≤*d*).\n",
    "\n",
    "    $$k \\le d$$\n",
    "\n",
    "6. Construct a projection matrix ***W*** from the \"top\" *k* eigenvectors.\n",
    "7. Transform the *d*-dimensional input dataset ***X*** using the projection matrix ***W*** to obtain the new *k*-dimensional feature subspace.\n",
    "\n",
    "Let’s perform a PCA step by step, using Python as a learning exercise. Then, we will see how to perform a PCA more conveniently using `scikit-learn`.\n",
    "\n",
    "### **Extracting the Principal Components Step By Step**\n",
    "\n",
    "In this subsection, we will tackle the first four steps of a PCA. Open the Jupyter notebook `dimensionality_reduction.ipynb` to get started!\n",
    "\n",
    "First, we will start by loading the *Wine* dataset that we worked with in *Lesson 1*, *Data Preprocessing*:"
   ]
  },
  {
   "cell_type": "code",
   "execution_count": 3,
   "metadata": {},
   "outputs": [],
   "source": [
    "import pandas as pd\n",
    "import numpy as np\n",
    "import matplotlib.pyplot as plt\n",
    "\n",
    "from sklearn.model_selection import train_test_split\n",
    "from sklearn.preprocessing import StandardScaler\n",
    "\n",
    "from helper import plot_decision_regions\n",
    "from rbf_kernel_pca import rbf_kernel_pca"
   ]
  },
  {
   "cell_type": "code",
   "execution_count": 4,
   "metadata": {},
   "outputs": [],
   "source": [
    "df_wine = pd.read_csv('https://archive.ics.uci.edu/ml/machine-learning-databases/wine/wine.data',header=None);"
   ]
  },
  {
   "cell_type": "code",
   "execution_count": 5,
   "metadata": {},
   "outputs": [
    {
     "data": {
      "text/plain": [
       "(178, 14)"
      ]
     },
     "execution_count": 5,
     "metadata": {},
     "output_type": "execute_result"
    }
   ],
   "source": [
    "df_wine.shape"
   ]
  },
  {
   "cell_type": "code",
   "execution_count": 6,
   "metadata": {},
   "outputs": [
    {
     "data": {
      "text/html": [
       "<div>\n",
       "<style scoped>\n",
       "    .dataframe tbody tr th:only-of-type {\n",
       "        vertical-align: middle;\n",
       "    }\n",
       "\n",
       "    .dataframe tbody tr th {\n",
       "        vertical-align: top;\n",
       "    }\n",
       "\n",
       "    .dataframe thead th {\n",
       "        text-align: right;\n",
       "    }\n",
       "</style>\n",
       "<table border=\"1\" class=\"dataframe\">\n",
       "  <thead>\n",
       "    <tr style=\"text-align: right;\">\n",
       "      <th></th>\n",
       "      <th>0</th>\n",
       "      <th>1</th>\n",
       "      <th>2</th>\n",
       "      <th>3</th>\n",
       "      <th>4</th>\n",
       "      <th>5</th>\n",
       "      <th>6</th>\n",
       "      <th>7</th>\n",
       "      <th>8</th>\n",
       "      <th>9</th>\n",
       "      <th>10</th>\n",
       "      <th>11</th>\n",
       "      <th>12</th>\n",
       "      <th>13</th>\n",
       "    </tr>\n",
       "  </thead>\n",
       "  <tbody>\n",
       "    <tr>\n",
       "      <th>0</th>\n",
       "      <td>1</td>\n",
       "      <td>14.23</td>\n",
       "      <td>1.71</td>\n",
       "      <td>2.43</td>\n",
       "      <td>15.6</td>\n",
       "      <td>127</td>\n",
       "      <td>2.80</td>\n",
       "      <td>3.06</td>\n",
       "      <td>0.28</td>\n",
       "      <td>2.29</td>\n",
       "      <td>5.64</td>\n",
       "      <td>1.04</td>\n",
       "      <td>3.92</td>\n",
       "      <td>1065</td>\n",
       "    </tr>\n",
       "    <tr>\n",
       "      <th>1</th>\n",
       "      <td>1</td>\n",
       "      <td>13.20</td>\n",
       "      <td>1.78</td>\n",
       "      <td>2.14</td>\n",
       "      <td>11.2</td>\n",
       "      <td>100</td>\n",
       "      <td>2.65</td>\n",
       "      <td>2.76</td>\n",
       "      <td>0.26</td>\n",
       "      <td>1.28</td>\n",
       "      <td>4.38</td>\n",
       "      <td>1.05</td>\n",
       "      <td>3.40</td>\n",
       "      <td>1050</td>\n",
       "    </tr>\n",
       "    <tr>\n",
       "      <th>2</th>\n",
       "      <td>1</td>\n",
       "      <td>13.16</td>\n",
       "      <td>2.36</td>\n",
       "      <td>2.67</td>\n",
       "      <td>18.6</td>\n",
       "      <td>101</td>\n",
       "      <td>2.80</td>\n",
       "      <td>3.24</td>\n",
       "      <td>0.30</td>\n",
       "      <td>2.81</td>\n",
       "      <td>5.68</td>\n",
       "      <td>1.03</td>\n",
       "      <td>3.17</td>\n",
       "      <td>1185</td>\n",
       "    </tr>\n",
       "    <tr>\n",
       "      <th>3</th>\n",
       "      <td>1</td>\n",
       "      <td>14.37</td>\n",
       "      <td>1.95</td>\n",
       "      <td>2.50</td>\n",
       "      <td>16.8</td>\n",
       "      <td>113</td>\n",
       "      <td>3.85</td>\n",
       "      <td>3.49</td>\n",
       "      <td>0.24</td>\n",
       "      <td>2.18</td>\n",
       "      <td>7.80</td>\n",
       "      <td>0.86</td>\n",
       "      <td>3.45</td>\n",
       "      <td>1480</td>\n",
       "    </tr>\n",
       "    <tr>\n",
       "      <th>4</th>\n",
       "      <td>1</td>\n",
       "      <td>13.24</td>\n",
       "      <td>2.59</td>\n",
       "      <td>2.87</td>\n",
       "      <td>21.0</td>\n",
       "      <td>118</td>\n",
       "      <td>2.80</td>\n",
       "      <td>2.69</td>\n",
       "      <td>0.39</td>\n",
       "      <td>1.82</td>\n",
       "      <td>4.32</td>\n",
       "      <td>1.04</td>\n",
       "      <td>2.93</td>\n",
       "      <td>735</td>\n",
       "    </tr>\n",
       "    <tr>\n",
       "      <th>5</th>\n",
       "      <td>1</td>\n",
       "      <td>14.20</td>\n",
       "      <td>1.76</td>\n",
       "      <td>2.45</td>\n",
       "      <td>15.2</td>\n",
       "      <td>112</td>\n",
       "      <td>3.27</td>\n",
       "      <td>3.39</td>\n",
       "      <td>0.34</td>\n",
       "      <td>1.97</td>\n",
       "      <td>6.75</td>\n",
       "      <td>1.05</td>\n",
       "      <td>2.85</td>\n",
       "      <td>1450</td>\n",
       "    </tr>\n",
       "  </tbody>\n",
       "</table>\n",
       "</div>"
      ],
      "text/plain": [
       "   0      1     2     3     4    5     6     7     8     9     10    11    12  \\\n",
       "0   1  14.23  1.71  2.43  15.6  127  2.80  3.06  0.28  2.29  5.64  1.04  3.92   \n",
       "1   1  13.20  1.78  2.14  11.2  100  2.65  2.76  0.26  1.28  4.38  1.05  3.40   \n",
       "2   1  13.16  2.36  2.67  18.6  101  2.80  3.24  0.30  2.81  5.68  1.03  3.17   \n",
       "3   1  14.37  1.95  2.50  16.8  113  3.85  3.49  0.24  2.18  7.80  0.86  3.45   \n",
       "4   1  13.24  2.59  2.87  21.0  118  2.80  2.69  0.39  1.82  4.32  1.04  2.93   \n",
       "5   1  14.20  1.76  2.45  15.2  112  3.27  3.39  0.34  1.97  6.75  1.05  2.85   \n",
       "\n",
       "     13  \n",
       "0  1065  \n",
       "1  1050  \n",
       "2  1185  \n",
       "3  1480  \n",
       "4   735  \n",
       "5  1450  "
      ]
     },
     "execution_count": 6,
     "metadata": {},
     "output_type": "execute_result"
    }
   ],
   "source": [
    "df_wine.head(6)"
   ]
  },
  {
   "cell_type": "code",
   "execution_count": 7,
   "metadata": {},
   "outputs": [
    {
     "data": {
      "text/plain": [
       "(178,)"
      ]
     },
     "execution_count": 7,
     "metadata": {},
     "output_type": "execute_result"
    }
   ],
   "source": [
    "Y =  df_wine.iloc[:, 0].values\n",
    "Y.shape"
   ]
  },
  {
   "cell_type": "code",
   "execution_count": 8,
   "metadata": {},
   "outputs": [
    {
     "data": {
      "text/plain": [
       "(178, 13)"
      ]
     },
     "execution_count": 8,
     "metadata": {},
     "output_type": "execute_result"
    }
   ],
   "source": [
    "X = df_wine.iloc[:, 1:].values\n",
    "X.shape"
   ]
  },
  {
   "cell_type": "markdown",
   "metadata": {},
   "source": [
    "Next, we will process the *Wine* data into separate training and test sets—using a 70:30 split—and standardize it to unit variance:"
   ]
  },
  {
   "cell_type": "code",
   "execution_count": 9,
   "metadata": {},
   "outputs": [],
   "source": [
    "X_train, X_test, y_train, y_test = train_test_split(\n",
    "    X, Y , test_size=0.3,\n",
    "    stratify=Y, random_state=0\n",
    ")"
   ]
  },
  {
   "cell_type": "code",
   "execution_count": 10,
   "metadata": {},
   "outputs": [],
   "source": [
    "scaler = StandardScaler()\n",
    "X_train_std = scaler.fit_transform(X_train)\n",
    "X_test_std = scaler.transform(X_test)"
   ]
  },
  {
   "cell_type": "markdown",
   "metadata": {},
   "source": [
    "After completing the mandatory preprocessing, let's advance to the second step: constructing the covariance matrix. The symmetric $d \\times d$-dimensional covariance matrix, where $d$ is the number of dimensions in the dataset, stores the pairwise covariances between the different features. For example, the covariance between two features $x_j$ and $x_k$ on the population level can be calculated via the following equation:\n",
    "\n",
    "$$σ_{jk}​=\\frac{1}{n}\\sum_{i=1}^{n}​(x_j^{(i)}​−μ_j​)(x_k^{(i)}​−μ_k​)$$\n",
    "\n",
    "Here,  $\\mu_j$ and  $\\mu_k$are the sample means of features *j* and *k*, respectively.\n",
    "\n",
    "Note that the sample means are zero if we standardized the dataset. A positive covariance between two features indicates that the features increase or decrease together, whereas a negative covariance indicates that the features vary in opposite directions. For example, the covariance matrix of three features can then be written as follows (note that $\\Sigma$ stands for the Greek uppercase letter **sigma**, which is not to be confused with the **sum** symbol):\n",
    "\n",
    "$$\\Sigma = \\begin{bmatrix} \\sigma_1^2 & \\sigma_{12} & \\sigma_{13} \\\\ \\sigma_{21} & \\sigma_2^2 & \\sigma_{23} \\\\ \\sigma_{31} & \\sigma_{32} & \\sigma_3^2 \\end{bmatrix}$$\n",
    "\n",
    "The eigenvectors of the covariance matrix represent the principal components (the directions of maximum variance), whereas the corresponding eigenvalues will define their magnitude. In the case of the *Wine* dataset, we would obtain 13 eigenvectors and eigenvalues from the 13 x 13-dimensional covariance matrix.\n",
    "\n",
    "Now, for our third step, let's obtain the eigenpairs of the covariance matrix. As we remember from our introductory linear algebra classes, an eigenvector ***v*** satisfies the following condition:\n",
    "\n",
    "$$Σv=λv$$\n",
    "\n",
    "Here, $\\lambda$ is a scalar: the eigenvalue. Since the manual computation of eigenvectors and eigenvalues is a somewhat tedious and elaborate task, we will use the `linalg.eig` function from `NumPy` to obtain the eigenpairs of the *Wine* covariance matrix:"
   ]
  },
  {
   "cell_type": "code",
   "execution_count": 11,
   "metadata": {},
   "outputs": [
    {
     "name": "stdout",
     "output_type": "stream",
     "text": [
      "Eigen Values \n",
      " [4.84274532 2.41602459 1.54845825 0.96120438 0.84166161 0.6620634\n",
      " 0.51828472 0.34650377 0.3131368  0.10754642 0.21357215 0.15362835\n",
      " 0.1808613 ] \n",
      "\n",
      "Eigen Vectors \n",
      " [[-1.37242175e-01  5.03034778e-01 -1.37748734e-01 -3.29610003e-03\n",
      "  -2.90625226e-01  2.99096847e-01  7.90529293e-02 -3.68176414e-01\n",
      "  -3.98377017e-01 -9.44869777e-02  3.74638877e-01 -1.27834515e-01\n",
      "   2.62834263e-01]\n",
      " [ 2.47243265e-01  1.64871190e-01  9.61503863e-02  5.62646692e-01\n",
      "   8.95378697e-02  6.27036396e-01 -2.74002014e-01 -1.25775752e-02\n",
      "   1.10458230e-01  2.63652406e-02 -1.37405597e-01  8.06401578e-02\n",
      "  -2.66769211e-01]\n",
      " [-2.54515927e-02  2.44564761e-01  6.77775667e-01 -1.08977111e-01\n",
      "  -1.60834991e-01  3.89128239e-04  1.32328045e-01  1.77578177e-01\n",
      "   3.82496856e-01  1.42747511e-01  4.61583035e-01  1.67924873e-02\n",
      "  -1.15542548e-01]\n",
      " [ 2.06945084e-01 -1.13529045e-01  6.25040550e-01  3.38187002e-02\n",
      "   5.15873402e-02 -4.05836452e-02  2.23999097e-01 -4.40592110e-01\n",
      "  -2.43373853e-01 -1.30485780e-01 -4.18953989e-01 -1.10845657e-01\n",
      "   1.99483410e-01]\n",
      " [-1.54365821e-01  2.89745182e-01  1.96135481e-01 -3.67511070e-01\n",
      "   6.76487073e-01  6.57772614e-02 -4.05268966e-01  1.16617503e-01\n",
      "  -2.58982359e-01 -6.76080782e-02  1.00470630e-02  7.93879562e-02\n",
      "   2.89018810e-02]\n",
      " [-3.93769523e-01  5.08010391e-02  1.40310572e-01  2.40245127e-01\n",
      "  -1.18511144e-01 -5.89776247e-02 -3.47419412e-02  3.50192127e-01\n",
      "  -3.42312860e-01  4.59917661e-01 -2.21254241e-01 -4.91459313e-01\n",
      "  -6.63868598e-02]\n",
      " [-4.17351064e-01 -2.28733792e-02  1.17053859e-01  1.87053299e-01\n",
      "  -1.07100349e-01 -3.01103180e-02  4.17835724e-02  2.18718183e-01\n",
      "  -3.61231642e-02 -8.14583947e-01 -4.17513600e-02 -5.03074004e-02\n",
      "  -2.13349079e-01]\n",
      " [ 3.05728961e-01  9.04888470e-02  1.31217777e-01 -2.29262234e-02\n",
      "  -5.07581610e-01 -2.71728086e-01 -6.31145686e-01  1.97129425e-01\n",
      "  -1.71436883e-01 -9.57480885e-02 -8.87569452e-02  1.75328030e-01\n",
      "   1.86391279e-01]\n",
      " [-3.06683469e-01  8.35232677e-03  3.04309008e-02  4.96262330e-01\n",
      "   2.01634619e-01 -4.39997519e-01 -3.23122775e-01 -4.33055871e-01\n",
      "   2.44370210e-01  6.72468934e-02  1.99921861e-01 -3.67595797e-03\n",
      "   1.68082985e-01]\n",
      " [ 7.55406578e-02  5.49775805e-01 -7.99299713e-02  1.06482939e-01\n",
      "   5.73607091e-03 -4.11743459e-01  2.69082623e-01 -6.68411823e-02\n",
      "  -1.55514919e-01  8.73336218e-02 -2.21668868e-01  3.59756535e-01\n",
      "  -4.66369031e-01]\n",
      " [-3.26132628e-01 -2.07164328e-01  5.30591506e-02 -3.69053747e-01\n",
      "  -2.76914216e-01  1.41673377e-01 -3.02640661e-01 -4.59762295e-01\n",
      "   2.11961247e-02  1.29061125e-01 -9.84694573e-02  4.04669797e-02\n",
      "  -5.32483880e-01]\n",
      " [-3.68610222e-01 -2.49025357e-01  1.32391030e-01  1.42016088e-01\n",
      "  -6.66275572e-02  1.75842384e-01  1.30540143e-01  1.10827548e-01\n",
      "  -2.38089559e-01  1.87646268e-01  1.91205783e-02  7.42229543e-01\n",
      "   2.37835283e-01]\n",
      " [-2.96696514e-01  3.80229423e-01 -7.06502178e-02 -1.67682173e-01\n",
      "  -1.28029045e-01  1.38018388e-01  8.11335043e-04  5.60817288e-03\n",
      "   5.17278463e-01  1.21112574e-02 -5.42532072e-01  3.87395209e-02\n",
      "   3.67763359e-01]] \n",
      "\n"
     ]
    }
   ],
   "source": [
    "cov_matrix = np.cov(X_train_std.T)\n",
    "eig_values , eig_vectors = np.linalg.eig(cov_matrix)\n",
    "\n",
    "print('Eigen Values \\n',eig_values,'\\n')\n",
    "print('Eigen Vectors \\n',eig_vectors,'\\n')"
   ]
  },
  {
   "cell_type": "markdown",
   "metadata": {},
   "source": [
    "Using the `numpy.cov` function, we computed the covariance matrix of the standardized training dataset. Using the `linalg.eig` function, we performed the eigen decomposition, which yielded a vector (`eigen_vals`) consisting of 13 eigenvalues and the corresponding eigenvectors stored as columns in a 13 x 13-dimensional matrix (`eigen_vecs`).\n",
    "\n",
    "### **Total and Explained Variance**\n",
    "\n",
    "Since we want to reduce the dimensionality of our dataset by compressing it onto a new feature subspace, we only select the subset of the eigenvectors (principal components) that contains most of the information (variance). The eigenvalues define the magnitude of the eigenvectors, so we have to sort the eigenvalues by decreasing magnitude; we are interested in the top *k* eigenvectors based on the values of their corresponding eigenvalues.\n",
    "\n",
    "But before we collect those *k* most informative eigenvectors, let us plot the **variance explained ratios** of the eigenvalues. The variance explained ratio of an eigenvalue $\\lambda_j$​ is simply the fraction of an eigenvalue $\\lambda_j$​ and the total sum of the eigenvalues:\n",
    "\n",
    "$$\\frac{\\lambda_j}{\\sum_{j=1}^d \\lambda_j}$$\n",
    "\n",
    "Using the `NumPy` `cumsum` function, we can then calculate the cumulative sum of explained variances, which we will then plot via `matplotlib`'s `step` function:"
   ]
  },
  {
   "cell_type": "code",
   "execution_count": 15,
   "metadata": {},
   "outputs": [
    {
     "name": "stdout",
     "output_type": "stream",
     "text": [
      "sorted in Descending Order [4.842745315655898, 2.4160245870352255, 1.5484582488203513, 0.9612043774977367, 0.8416616104578422, 0.6620634040383039, 0.5182847213561953, 0.34650376641286657, 0.3131368004720887, 0.2135721466052733, 0.18086130479496634, 0.15362835006711043, 0.10754642369670996]\n"
     ]
    }
   ],
   "source": [
    "total = sum(eig_values)\n",
    "sorted_evalues = sorted(eig_values,reverse=True)\n",
    "print('sorted in Descending Order', sorted_evalues)\n",
    "var_exp = [i/total for i in sorted_evalues]\n",
    "cum_var_exp = np.cumsum(var_exp)"
   ]
  },
  {
   "cell_type": "code",
   "execution_count": 20,
   "metadata": {},
   "outputs": [
    {
     "name": "stdout",
     "output_type": "stream",
     "text": [
      " no  13 13\n"
     ]
    },
    {
     "data": {
      "image/png": "[encoded data removed]",
      "text/plain": [
       "<Figure size 720x576 with 1 Axes>"
      ]
     },
     "metadata": {
      "needs_background": "light"
     },
     "output_type": "display_data"
    }
   ],
   "source": [
    "print('  ',len(var_exp) , len(cum_var_exp) )\n",
    "# plot explained variances\n",
    "plt.figure(figsize=(10, 8))\n",
    "plt.bar(range(1,len(var_exp)+1), var_exp, alpha=0.5,\n",
    "        align='center', label='individual explained variance')\n",
    "plt.step(range(1,len(cum_var_exp)+1), cum_var_exp, where='mid',\n",
    "         label='cumulative explained variance')\n",
    "plt.ylabel('Explained variance ratio')\n",
    "plt.xlabel('Principal component index')\n",
    "plt.legend(loc='best')\n",
    "plt.show()"
   ]
  },
  {
   "cell_type": "markdown",
   "metadata": {},
   "source": [
    "The resulting plot indicates that the first principal component alone accounts for approximately 40% of the variance. Also, we can see that the first two principal components combined explain almost 60% of the variance in the dataset.\n",
    "\n",
    "Although the explained variance plot reminds us of the feature importance values that we computed in *Lesson 1*, *Data Preprocessing*, via random forests, we should remind ourselves that PCA is an unsupervised method, which means that information about the class labels is ignored. Whereas a random forest uses the class membership information to compute the node impurities, variance measures the spread of values along a feature axis.\n",
    "\n",
    "### **Feature Transformation**\n",
    "\n",
    "After we have successfully decomposed the covariance matrix into eigenpairs, let's now proceed with the last three steps to transform the *Wine* dataset onto the new principal component axes. The remaining steps we are going to tackle in this section are the following ones:\n",
    "\n",
    "- Select *k* eigenvectors, which correspond to the *k* largest eigenvalues, where *k* is the dimensionality of the new feature subspace (*k*≤*d*).\n",
    "\n",
    "    $$k \\le d$$\n",
    "\n",
    "- Construct a projection matrix ***W*** from the \"top\" *k* eigenvectors.\n",
    "- Transform the *d*-dimensional input dataset ***X*** using the projection matrix ***W*** to obtain the new *k*-dimensional feature subspace.\n",
    "\n",
    "Or, in less technical terms, we will sort the eigenpairs by descending order of the eigenvalues, construct a projection matrix from the selected eigenvectors, and use the projection matrix to transform the data onto the lower-dimensional subspace.\n",
    "\n",
    "We start by sorting the eigenpairs by decreasing order of the eigenvalues:"
   ]
  },
  {
   "cell_type": "code",
   "execution_count": 25,
   "metadata": {},
   "outputs": [],
   "source": [
    "eigen_pair = [ (np.abs(eig_values[i]) ,eig_vectors[:,i] ) for i in range(len(eig_values)) ]\n",
    "# print('eigen pair => ',eigen_pair)\n",
    "eigen_pair.sort( key=lambda k : k[0] , reverse=True )"
   ]
  },
  {
   "cell_type": "markdown",
   "metadata": {},
   "source": [
    "Next, we collect the two eigenvectors that correspond to the two largest eigenvalues, to capture about 60 percent of the variance in this dataset. Note that we only chose two eigenvectors for the purpose of illustration, since we are going to plot the data via a two-dimensional scatter plot later in this subsection. In practice, the number of principal components has to be determined by a trade-off between computational efficiency and the performance of the classifier:"
   ]
  },
  {
   "cell_type": "markdown",
   "metadata": {},
   "source": [
    "\n",
    "## About np.newaxis\n",
    "```\n",
    "# 1D array\n",
    "In [7]: arr = np.arange(4)\n",
    "In [8]: arr.shape\n",
    "Out[8]: (4,)\n",
    "\n",
    "# make it as row vector by inserting an axis along first dimension\n",
    "In [9]: row_vec = arr[np.newaxis, :]\n",
    "In [10]: row_vec.shape\n",
    "Out[10]: (1, 4)\n",
    "\n",
    "# make it as column vector by inserting an axis along second dimension\n",
    "In [11]: col_vec = arr[:, np.newaxis]\n",
    "In [12]: col_vec.shape\n",
    "Out[12]: (4, 1)\n",
    "```"
   ]
  },
  {
   "cell_type": "code",
   "execution_count": 31,
   "metadata": {},
   "outputs": [
    {
     "name": "stdout",
     "output_type": "stream",
     "text": [
      "(13, 1) (13, 1)\n"
     ]
    }
   ],
   "source": [
    "first_eigen = eigen_pair[0][1][: , np.newaxis]\n",
    "second_eigen = eigen_pair[1][1][: , np.newaxis]\n",
    "\n",
    "print(first_eigen.shape , second_eigen.shape)"
   ]
  },
  {
   "cell_type": "markdown",
   "metadata": {},
   "source": [
    "Next, we collect the two eigenvectors that correspond to the two largest eigenvalues, to capture about **60 percent of the variance** in this dataset. Note that we only chose two eigenvectors for the purpose of illustration, since we are going to plot the data via a two-dimensional scatter plot later in this subsection. In practice, the number of principal components has to be determined by a trade-off between computational efficiency and the performance of the classifier:"
   ]
  },
  {
   "cell_type": "code",
   "execution_count": 35,
   "metadata": {},
   "outputs": [
    {
     "name": "stdout",
     "output_type": "stream",
     "text": [
      "Weight matrix  [[-0.13724218  0.50303478]\n",
      " [ 0.24724326  0.16487119]\n",
      " [-0.02545159  0.24456476]\n",
      " [ 0.20694508 -0.11352904]\n",
      " [-0.15436582  0.28974518]\n",
      " [-0.39376952  0.05080104]\n",
      " [-0.41735106 -0.02287338]\n",
      " [ 0.30572896  0.09048885]\n",
      " [-0.30668347  0.00835233]\n",
      " [ 0.07554066  0.54977581]\n",
      " [-0.32613263 -0.20716433]\n",
      " [-0.36861022 -0.24902536]\n",
      " [-0.29669651  0.38022942]]\n",
      "shape  (13, 2)\n"
     ]
    }
   ],
   "source": [
    "W = np.hstack( (first_eigen , second_eigen) )\n",
    "print('Weight matrix ',W)\n",
    "print('shape ',W.shape)"
   ]
  },
  {
   "cell_type": "markdown",
   "metadata": {},
   "source": [
    "By executing the preceding code, we have created a 13 x 2-dimensional projection matrix ***W*** from the top two eigenvectors.\n",
    "\n",
    "Using the projection matrix, we can now transform a sample ***x*** (represented as a 1 x 13-dimensional row vector) onto the PCA subspace (the principal components one and two) obtaining $\\boldsymbol x’$ , now a two-dimensional sample vector consisting of two new features:\n",
    "\n",
    "$$x’=xW$$"
   ]
  },
  {
   "cell_type": "code",
   "execution_count": 38,
   "metadata": {},
   "outputs": [
    {
     "data": {
      "text/plain": [
       "(124, 13)"
      ]
     },
     "execution_count": 38,
     "metadata": {},
     "output_type": "execute_result"
    }
   ],
   "source": [
    "X_train_std.shape"
   ]
  },
  {
   "cell_type": "code",
   "execution_count": 39,
   "metadata": {},
   "outputs": [
    {
     "data": {
      "text/plain": [
       "(13, 2)"
      ]
     },
     "execution_count": 39,
     "metadata": {},
     "output_type": "execute_result"
    }
   ],
   "source": [
    "W.shape"
   ]
  },
  {
   "cell_type": "code",
   "execution_count": 41,
   "metadata": {},
   "outputs": [
    {
     "data": {
      "text/plain": [
       "array([2.38299011, 0.45458499])"
      ]
     },
     "execution_count": 41,
     "metadata": {},
     "output_type": "execute_result"
    }
   ],
   "source": [
    "X_train_std[0].dot(W)"
   ]
  },
  {
   "cell_type": "markdown",
   "metadata": {},
   "source": [
    "Similarly, we can transform the entire 124 x 13-dimensional training dataset onto the two principal components by calculating the matrix dot product:\n",
    "\n",
    "$$X’=XW$$"
   ]
  },
  {
   "cell_type": "code",
   "execution_count": 42,
   "metadata": {},
   "outputs": [],
   "source": [
    "X_train_pca = X_train_std.dot(W)"
   ]
  },
  {
   "cell_type": "markdown",
   "metadata": {},
   "source": [
    "Lastly, let us visualize the transformed Wine training set, now stored as an 124 x 2-dimensional matrix, in a two-dimensional scatterplot:"
   ]
  },
  {
   "cell_type": "code",
   "execution_count": 68,
   "metadata": {},
   "outputs": [
    {
     "name": "stdout",
     "output_type": "stream",
     "text": [
      "labels  [1 2 3]\n",
      "124 (41,)\n",
      "124 (50,)\n",
      "124 (33,)\n",
      "(124,) (124,) (124,)\n"
     ]
    },
    {
     "data": {
      "text/plain": [
       "<Figure size 720x720 with 0 Axes>"
      ]
     },
     "metadata": {},
     "output_type": "display_data"
    }
   ],
   "source": [
    "# Visualize transformed dataset\n",
    "colors = ['r', 'b', 'g']\n",
    "markers = ['s', 'x', 'o']\n",
    "plt.figure(figsize=(10, 10))\n",
    "labels = np.unique(y_train)\n",
    "print('labels ',labels)\n",
    "\n",
    "X_0 , X_1 = np.array([]) , np.array([]) \n",
    "\n",
    "for l in labels:\n",
    "    print(len(y_train == l) , X_train_pca[y_train == l , 0].shape )\n",
    "    X_0 = np.append(X_0 , X_train_pca[y_train == l ,0] )\n",
    "    X_1 = np.append(X_1 , X_train_pca[y_train == l ,1] )\n",
    "\n",
    "print( X_0.shape , X_1.shape , y_train.shape )"
   ]
  },
  {
   "cell_type": "code",
   "execution_count": 70,
   "metadata": {},
   "outputs": [
    {
     "data": {
      "image/png": "[encoded data removed]",
      "text/plain": [
       "<Figure size 432x288 with 1 Axes>"
      ]
     },
     "metadata": {
      "needs_background": "light"
     },
     "output_type": "display_data"
    }
   ],
   "source": [
    "for (label,color,marker) in zip(labels,colors,markers):\n",
    "    plt.scatter( X_train_pca[y_train == label ,0] , X_train_pca[y_train == label ,1] ,\n",
    "                c=color,\n",
    "                label=label,\n",
    "                marker=marker\n",
    "               )\n",
    "plt.xlabel('PC 1')\n",
    "plt.ylabel('PC 2')\n",
    "plt.legend(loc='lower left')\n",
    "plt.show()"
   ]
  },
  {
   "cell_type": "markdown",
   "metadata": {},
   "source": [
    "As we can see in the resulting plot, the data is more spread along the *x*-axis—the first principal component—than the second principal component (*y*-axis), which is consistent with the explained variance ratio plot that we created in the previous subsection. However, we can intuitively see that a linear classifier will likely be able to separate the classes well.\n",
    "\n",
    "Although we encoded the class label information for the purpose of illustration in the preceding scatter plot, we have to keep in mind that PCA is an unsupervised technique that doesn't use any class label information.\n",
    "\n",
    "### **PCA in `scikit-learn`**\n",
    "\n",
    "Although the verbose approach in the previous subsection helped us to follow the inner workings of PCA, we will now discuss how to use the `PCA` class implemented in `scikit-learn`. The `PCA` class is another one of `scikit-learn`'s transformer classes, where we first fit the model using the training data before we transform both the training data and the test dataset using the same model parameters.\n",
    "\n",
    "Let's use the `PCA` class on the *Wine* training dataset, classify the transformed samples via logistic regression, and visualize the decision regions via our custom `plot_decision_regions` function:"
   ]
  },
  {
   "cell_type": "code",
   "execution_count": 72,
   "metadata": {},
   "outputs": [],
   "source": [
    "from sklearn.linear_model import LogisticRegression\n",
    "from sklearn.decomposition import PCA\n",
    "\n",
    "# intialize pca and logistic regression model\n",
    "pca = PCA(n_components=2)\n",
    "lr = LogisticRegression(multi_class='auto', solver='liblinear')"
   ]
  },
  {
   "cell_type": "code",
   "execution_count": 73,
   "metadata": {},
   "outputs": [
    {
     "data": {
      "text/plain": [
       "LogisticRegression(C=1.0, class_weight=None, dual=False, fit_intercept=True,\n",
       "                   intercept_scaling=1, l1_ratio=None, max_iter=100,\n",
       "                   multi_class='auto', n_jobs=None, penalty='l2',\n",
       "                   random_state=None, solver='liblinear', tol=0.0001, verbose=0,\n",
       "                   warm_start=False)"
      ]
     },
     "execution_count": 73,
     "metadata": {},
     "output_type": "execute_result"
    }
   ],
   "source": [
    "# fit and transform data\n",
    "X_train_pca = pca.fit_transform(X_train_std)\n",
    "X_test_pca = pca.transform(X_test_std)\n",
    "lr.fit(X_train_pca, y_train)"
   ]
  },
  {
   "cell_type": "raw",
   "metadata": {},
   "source": [
    "By executing the preceding code, we should now see the decision regions for the training data reduced to two principal component axes.\n",
    "\n",
    "For the sake of completeness, let's plot the decision regions of the logistic regression on the transformed test dataset as well to see if it can separate the classes well:"
   ]
  },
  {
   "cell_type": "code",
   "execution_count": 74,
   "metadata": {},
   "outputs": [
    {
     "data": {
      "image/png": "[encoded data removed]",
      "text/plain": [
       "<Figure size 720x720 with 1 Axes>"
      ]
     },
     "metadata": {
      "needs_background": "light"
     },
     "output_type": "display_data"
    }
   ],
   "source": [
    "# plot decision regions for training set\n",
    "plt.figure(figsize=(10, 10))\n",
    "plot_decision_regions(X_train_pca, y_train, classifier=lr)\n",
    "plt.xlabel('PC 1')\n",
    "plt.ylabel('PC 2')\n",
    "plt.legend(loc='lower left')\n",
    "plt.show()"
   ]
  },
  {
   "cell_type": "code",
   "execution_count": 75,
   "metadata": {},
   "outputs": [
    {
     "data": {
      "image/png": "[encoded data removed]",
      "text/plain": [
       "<Figure size 720x720 with 1 Axes>"
      ]
     },
     "metadata": {
      "needs_background": "light"
     },
     "output_type": "display_data"
    }
   ],
   "source": [
    "# plot decision regions for test set\n",
    "plt.figure(figsize=(10, 10))\n",
    "plot_decision_regions(X_test_pca, y_test, classifier=lr)\n",
    "plt.xlabel('PC1')\n",
    "plt.ylabel('PC2')\n",
    "plt.legend(loc='lower left')\n",
    "plt.show()"
   ]
  },
  {
   "cell_type": "markdown",
   "metadata": {},
   "source": [
    "After we plotted the decision regions for the test set by executing the preceding code, we can see that logistic regression performs quite well on this small two-dimensional feature subspace and only misclassifies very few samples in the test dataset.\n",
    "\n",
    "If we are interested in the explained variance ratios of the different principal components, we can simply initialize the `PCA` class with the `n_components` parameter set to `None`, so all principal components are kept and the explained variance ratio can then be accessed via the `explained_variance_ratio_` attribute:"
   ]
  },
  {
   "cell_type": "code",
   "execution_count": 79,
   "metadata": {},
   "outputs": [
    {
     "data": {
      "text/plain": [
       "array([0.36951469, 0.18434927, 0.11815159, 0.07334252, 0.06422108,\n",
       "       0.05051724, 0.03954654, 0.02643918, 0.02389319, 0.01629614,\n",
       "       0.01380021, 0.01172226, 0.00820609])"
      ]
     },
     "execution_count": 79,
     "metadata": {},
     "output_type": "execute_result"
    }
   ],
   "source": [
    "pca = PCA(n_components=None)\n",
    "X_train_pca = pca.fit_transform(X_train_std)\n",
    "pca.explained_variance_ratio_"
   ]
  },
  {
   "cell_type": "markdown",
   "metadata": {},
   "source": [
    "# **Linear Discriminant Analysis**\n",
    "\n",
    "**Linear Discriminant Analysis** (**LDA**) can be used as a technique for feature extraction to increase the computational efficiency and reduce the degree of overfitting due to the curse of dimensionality in non-regularized models.\n",
    "\n",
    "The general concept behind LDA is very similar to PCA. Whereas PCA attempts to find the orthogonal component axes of maximum variance in a dataset, the goal in LDA is to find the feature subspace that optimizes class separability. In the following step, we will discuss the similarities between LDA and PCA in more detail and walk through the LDA approach step by step.\n",
    "\n",
    "### **PCA vs. LDA**\n",
    "\n",
    "Both PCA and LDA are linear transformation techniques that can be used to reduce the number of dimensions in a dataset; the former is an *unsupervised* algorithm, whereas the latter is *supervised*.\n",
    "\n",
    "The following figure summarizes the concept of LDA for a two-class problem. Samples from class `1` are shown as circles, and samples from class `2` are shown as crosses:\n",
    "\n",
    "\n",
    "![lda](https://cdn.filestackcontent.com/n8pXwPLYSdCfGM1qsx4T)\n",
    "\n",
    "A linear discriminant, as shown on the *x*-axis (LD 1), would separate the two normal distributed classes well. Although the exemplary linear discriminant shown on the *y*-axis (LD 2) captures a lot of the variance in the dataset, it would fail as a good linear discriminant since it does not capture any of the class-discriminatory information.\n",
    "\n",
    "One assumption in LDA is that the data is normally distributed. Also, we assume that the classes have identical covariance matrices and that the samples are statistically independent of each other. However, even if one or more of those assumptions are (slightly) violated, LDA for dimensionality reduction can still work reasonably well.\n",
    "\n",
    "### **The Inner Workings of LDA**\n",
    "\n",
    "Before we dive into the code implementation, let's briefly summarize the main steps that are required to perform LDA:\n",
    "\n",
    "1. Standardize the *d*-dimensional dataset (*d* is the number of features).\n",
    "2. For each class, compute the *d*-dimensional mean vector.\n",
    "3. Construct the between-class scatter matrix $S_{B}$ and the within-class scatter matrix $S_W$.\n",
    "4. Compute the eigenvectors and corresponding eigenvalues of the matrix $S_W-1_{S_B}$.\n",
    "5. Sort the eigenvalues by decreasing order to rank the corresponding eigenvectors.\n",
    "6. Choose the *k* eigenvectors that correspond to the *k* largest eigenvalues to construct a $d×k$-dimensional transformation matrix ***W***; the eigenvectors are the columns of this matrix.\n",
    "7. Project the samples onto the new feature subspace using the transformation matrix ***W***.\n",
    "\n",
    "As we can see, LDA is quite similar to PCA in the sense that we are decomposing matrices into eigenvalues and eigenvectors, which will form the new lower-dimensional feature space. However, as mentioned before, LDA takes class label information into account, which is represented in the form of the mean vectors computed in *Step 2*.Let’s now discuss these seven steps in more detail by illustrative code implementations.\n",
    "\n",
    "Since we already standardized the features of the *Wine* dataset in the PCA section at the beginning of this lesson, we can skip the first step and proceed with the calculation of the mean vectors, which we will use to construct the within-class scatter matrix and between-class scatter matrix, respectively. Each mean vector $m_i$ stores the mean feature value $μ_m$ with respect to the samples of class *i*:\n",
    "\n",
    "$$\\boldsymbol m_i = \\frac{1}{n_i} \\sum\\limits_{\\boldsymbol x \\in D_i}^c \\boldsymbol x_m$$\n",
    "\n",
    "This results in three mean vectors:\n",
    "\n",
    "$$m_{i} =\n",
    "\\begin{bmatrix}\n",
    "μi,alcohol​\\\\\n",
    "μi,malicacid​ \\\\\n",
    "\\vdots \\\\                    μi,proline \\\\ \n",
    "\\end{bmatrix}                                  i∈{1,2,3}\n",
    "$$"
   ]
  },
  {
   "cell_type": "code",
   "execution_count": 81,
   "metadata": {},
   "outputs": [
    {
     "name": "stdout",
     "output_type": "stream",
     "text": [
      "MV 1: [ 0.9066 -0.3497  0.3201 -0.7189  0.5056  0.8807  0.9589 -0.5516  0.5416\n",
      "  0.2338  0.5897  0.6563  1.2075] len : 13 \n",
      "\n",
      "MV 2: [-0.8749 -0.2848 -0.3735  0.3157 -0.3848 -0.0433  0.0635 -0.0946  0.0703\n",
      " -0.8286  0.3144  0.3608 -0.7253] len : 13 \n",
      "\n",
      "MV 3: [ 0.1992  0.866   0.1682  0.4148 -0.0451 -1.0286 -1.2876  0.8287 -0.7795\n",
      "  0.9649 -1.209  -1.3622 -0.4013] len : 13 \n",
      "\n"
     ]
    }
   ],
   "source": [
    "# find mean vectors\n",
    "np.set_printoptions(precision=4)\n",
    "mean_vecs = []\n",
    "for label in labels:\n",
    "    mean_vecs.append(np.mean(\n",
    "               X_train_std[y_train==label], axis=0))\n",
    "    print(f'MV {label}: {mean_vecs[label-1]} len : { len(mean_vecs[label-1]) } \\n')"
   ]
  },
  {
   "cell_type": "markdown",
   "metadata": {},
   "source": [
    "Using the mean vectors, we can now compute the within-class scatter matrix $S_W$:\n",
    "\n",
    "$$\\boldsymbol S_W = \\sum \\limits_{i=1}^c \\boldsymbol S_i$$\n",
    "\n",
    "This is calculated by summing up the individual scatter matrices $S_i$ of each individual class $i$:\n",
    "\n",
    "$$\\boldsymbol S_i = \\sum \\limits_{x \\in D_i}^c (\\boldsymbol x - \\boldsymbol m_i)(\\boldsymbol x - \\boldsymbol m_i)^T$$"
   ]
  },
  {
   "cell_type": "code",
   "execution_count": 84,
   "metadata": {},
   "outputs": [
    {
     "name": "stdout",
     "output_type": "stream",
     "text": [
      "Within-class scatter matrix: 13x13\n"
     ]
    }
   ],
   "source": [
    "# compute within-class scatter matrix\n",
    "d = len(mean_vecs[0])  # number of features\n",
    "S_W = np.zeros((d, d))\n",
    "for label, mv in zip(range(1, 4), mean_vecs):\n",
    "    class_scatter = np.zeros((d, d))\n",
    "    for row in X_train_std[y_train == label]:\n",
    "        row, mv = row.reshape(d, 1), mv.reshape(d, 1)  \n",
    "        class_scatter += (row - mv).dot((row - mv).T)\n",
    "        # print('class_scatter shape ',class_scatter.shape)\n",
    "    S_W += class_scatter\n",
    "    # print('S_W shape ',S_W.shape)\n",
    "print(f'Within-class scatter matrix: {S_W.shape[0]}x{S_W.shape[1]}')"
   ]
  },
  {
   "cell_type": "markdown",
   "metadata": {},
   "source": [
    "The assumption that we are making when we are computing the scatter matrices is that the class labels in the training set are uniformly distributed. However, if we print the number of class labels, we see that this assumption is violated:"
   ]
  },
  {
   "cell_type": "code",
   "execution_count": 88,
   "metadata": {},
   "outputs": [
    {
     "name": "stdout",
     "output_type": "stream",
     "text": [
      "[ 0 41 50 33]\n",
      "Class label distribution: [41 50 33]\n"
     ]
    }
   ],
   "source": [
    "print(np.bincount(y_train) )\n",
    "print(f'Class label distribution: {np.bincount(y_train)[1:]}')"
   ]
  },
  {
   "cell_type": "markdown",
   "metadata": {},
   "source": [
    "Thus, we want to scale the individual scatter matrices $S_i$ before we sum them up as scatter matrix $S_W$. When we divide the scatter matrices by the number of class-samples $n_i$, we can see that computing the scatter matrix is in fact the same as computing the covariance matrix $∑i$ — the covariance matrix is a normalized version of the scatter matrix:\n",
    "\n",
    "$$\\sum_i = \\frac{1}{n_i} \\boldsymbol S_W = \\frac{1}{n_i} \\sum \\limits_{\\boldsymbol x \\in D_i}^c (\\boldsymbol x - \\boldsymbol m_i)(\\boldsymbol x - \\boldsymbol m_i)^T$$"
   ]
  },
  {
   "cell_type": "code",
   "execution_count": null,
   "metadata": {},
   "outputs": [],
   "source": [
    "# scale individual scatter matrices before computing within-class matrix\n",
    "d = 13  # number of features\n",
    "S_W = np.zeros((d, d))\n",
    "for label,mv in zip(range(1, 4), mean_vecs):\n",
    "    class_scatter = np.cov(X_train_std[y_train==label].T)\n",
    "    S_W += class_scatter\n",
    "print(f'Scaled within-class scatter matrix: {S_W.shape[0]}x{S_W.shape[1]}')"
   ]
  },
  {
   "cell_type": "markdown",
   "metadata": {},
   "source": [
    "After we computed the scaled within-class scatter matrix (or covariance matrix), we can move on to the next step and compute the between-class scatter matrix $S_B$:\n",
    "\n",
    "$$\\boldsymbol S_B = \\sum \\limits_{i=1}^c n_i (\\boldsymbol m_i - \\boldsymbol m)(\\boldsymbol m_i - \\boldsymbol m)^T$$\n",
    "\n",
    "Here, ***m*** is the overall mean that is computed, including samples from all classes:"
   ]
  },
  {
   "cell_type": "code",
   "execution_count": 93,
   "metadata": {},
   "outputs": [
    {
     "name": "stdout",
     "output_type": "stream",
     "text": [
      "Between-class scatter matrix: 13x13\n"
     ]
    }
   ],
   "source": [
    "# compute between-class scatter matrix\n",
    "mean_overall = np.mean(X_train_std, axis=0)\n",
    "d =  len(mean_vecs[0])  # number of features\n",
    "S_B = np.zeros((d, d))\n",
    "for i, mean_vec in enumerate(mean_vecs):\n",
    "    n = X_train[y_train == i + 1, :].shape[0]\n",
    "    mean_vec = mean_vec.reshape(d, 1)  # make column vector\n",
    "    mean_overall = mean_overall.reshape(d, 1) \n",
    "    S_B += n * (mean_vec - mean_overall).dot(\n",
    "               (mean_vec - mean_overall).T)\n",
    "print(f'Between-class scatter matrix: {S_B.shape[0]}x{S_B.shape[1]}')"
   ]
  },
  {
   "cell_type": "markdown",
   "metadata": {},
   "source": [
    "### **Selecting Linear Discriminants for New Feature Subspace**\n",
    "\n",
    "The remaining steps of the LDA are similar to the steps of the PCA. However, instead of performing the eigen decomposition on the covariance matrix, we solve the generalized eigenvalue problem of the matrix $S_W-1_{S_B}$:"
   ]
  },
  {
   "cell_type": "code",
   "execution_count": 94,
   "metadata": {},
   "outputs": [],
   "source": [
    "# compute eigenpairs\n",
    "eigen_vals, eigen_vecs = np.linalg.eig(np.linalg.inv(S_W).dot(S_B))"
   ]
  },
  {
   "cell_type": "markdown",
   "metadata": {},
   "source": [
    "After we computed the eigenpairs, we can now sort the eigenvalues in descending order:"
   ]
  },
  {
   "cell_type": "code",
   "execution_count": 96,
   "metadata": {},
   "outputs": [
    {
     "name": "stdout",
     "output_type": "stream",
     "text": [
      "Eigenvalues in descending order:\n",
      "\n",
      "349.617808905994\n",
      "172.76152218979385\n",
      "2.902486757115975e-14\n",
      "2.842170943040401e-14\n",
      "1.8792598864684247e-14\n",
      "1.8792598864684247e-14\n",
      "1.570137094529844e-14\n",
      "1.570137094529844e-14\n",
      "6.116988201454594e-15\n",
      "5.6936028514646926e-15\n",
      "5.6936028514646926e-15\n",
      "4.663614910753138e-15\n",
      "1.3177428408410096e-15\n"
     ]
    }
   ],
   "source": [
    "# sort eigenvalues\n",
    "eigen_pairs = [(np.abs(eigen_vals[i]), eigen_vecs[:,i]) \n",
    "             for i in range(len(eigen_vals))]\n",
    "eigen_pairs = sorted(eigen_pairs, \n",
    "              key=lambda k: k[0], reverse=True)\n",
    "print('Eigenvalues in descending order:\\n')\n",
    "for eigen_val in eigen_pairs:\n",
    "    print(eigen_val[0])"
   ]
  },
  {
   "cell_type": "markdown",
   "metadata": {},
   "source": [
    "In LDA, the number of linear discriminants is at most *c−1*, where *c* is the number of class labels, since the in-between scatter matrix $S_B$ is the sum of *c* matrices with rank 1 or less. We can indeed see that we only have two nonzero eigenvalues (the eigenvalues 3-13 are not exactly zero, but this is due to the floating point arithmetic in `NumPy`).\n",
    "\n",
    "> Note that in the rare case of perfect collinearity (all aligned sample points fall on a straight line), the covariance matrix would have rank one, which would result in only one eigenvector with a nonzero eigenvalue.\n",
    "\n",
    "To measure how much of the class-discriminatory information is captured by the linear discriminants (eigenvectors), let's plot the linear discriminants by decreasing eigenvalues similar to the explained variance plot that we created in the PCA section. For simplicity, we will call the content of class-discriminatory information **discriminability**:"
   ]
  },
  {
   "cell_type": "code",
   "execution_count": 97,
   "metadata": {},
   "outputs": [
    {
     "data": {
      "image/png": "[encoded data removed]",
      "text/plain": [
       "<Figure size 720x576 with 1 Axes>"
      ]
     },
     "metadata": {
      "needs_background": "light"
     },
     "output_type": "display_data"
    }
   ],
   "source": [
    "# plot eigenvectors by decreasing eigenvalues\n",
    "tot = sum(eigen_vals.real)\n",
    "discr = [(i / tot) for i in sorted(eigen_vals.real, reverse=True)]\n",
    "cum_discr = np.cumsum(discr)\n",
    "plt.figure(figsize=(10, 8))\n",
    "plt.bar(range(1, 14), discr, alpha=0.5, align='center',\n",
    "        label='individual \"discriminability\"')\n",
    "plt.step(range(1, 14), cum_discr, where='mid',\n",
    "         label='cumulative \"discriminability\"')\n",
    "plt.ylabel('\"discriminability\" ratio')\n",
    "plt.xlabel('Linear Discriminants')\n",
    "plt.ylim([-0.1, 1.1])\n",
    "plt.legend(loc='best')\n",
    "plt.show()"
   ]
  },
  {
   "cell_type": "markdown",
   "metadata": {},
   "source": [
    "As we can see in the resulting figure, the first two linear discriminants alone capture 100% of the useful information in the *Wine* training dataset.\n",
    "\n",
    "Let's now stack the two most discriminative eigenvector columns to create the transformation matrix $W$:"
   ]
  },
  {
   "cell_type": "code",
   "execution_count": 98,
   "metadata": {},
   "outputs": [
    {
     "name": "stdout",
     "output_type": "stream",
     "text": [
      "Matrix W:\n",
      " [[-0.1481 -0.4092]\n",
      " [ 0.0908 -0.1577]\n",
      " [-0.0168 -0.3537]\n",
      " [ 0.1484  0.3223]\n",
      " [-0.0163 -0.0817]\n",
      " [ 0.1913  0.0842]\n",
      " [-0.7338  0.2823]\n",
      " [-0.075  -0.0102]\n",
      " [ 0.0018  0.0907]\n",
      " [ 0.294  -0.2152]\n",
      " [-0.0328  0.2747]\n",
      " [-0.3547 -0.0124]\n",
      " [-0.3915 -0.5958]]\n"
     ]
    }
   ],
   "source": [
    "# create transformation matrix\n",
    "w = np.hstack((eigen_pairs[0][1][:, np.newaxis].real,\n",
    "               eigen_pairs[1][1][:, np.newaxis].real))\n",
    "print('Matrix W:\\n', w)"
   ]
  },
  {
   "cell_type": "markdown",
   "metadata": {},
   "source": [
    "### **Projecting Samples onto the New Feature Space**\n",
    "\n",
    "Using the transformation matrix $W$ that we created in the previous subsection, we can now transform the training dataset by multiplying the matrices:\n",
    "\n",
    "$$X’ =  XW$$"
   ]
  },
  {
   "cell_type": "code",
   "execution_count": 99,
   "metadata": {},
   "outputs": [
    {
     "data": {
      "image/png": "[encoded data removed]",
      "text/plain": [
       "<Figure size 720x720 with 1 Axes>"
      ]
     },
     "metadata": {
      "needs_background": "light"
     },
     "output_type": "display_data"
    }
   ],
   "source": [
    "# plot subspace\n",
    "X_train_lda = X_train_std.dot(w)\n",
    "colors = ['r', 'b', 'g']\n",
    "markers = ['s', 'x', 'o']\n",
    "plt.figure(figsize=(10, 10))\n",
    "for l, c, m in zip(np.unique(y_train), colors, markers):\n",
    "    plt.scatter(X_train_lda[y_train==l, 0], \n",
    "                X_train_lda[y_train==l, 1] * (-1), \n",
    "                c=c, label=l, marker=m)\n",
    "plt.xlabel('LD 1')\n",
    "plt.ylabel('LD 2')\n",
    "plt.legend(loc='lower right')\n",
    "plt.show()"
   ]
  },
  {
   "cell_type": "markdown",
   "metadata": {},
   "source": [
    "As we can see in the resulting plot, the three wine classes are now perfectly linearly separable in the new feature subspace.\n",
    "\n",
    "### **LDA via `scikit-learn`**\n",
    "\n",
    "The step-by-step implementation was a good exercise to understand the inner workings of an LDA and understand the differences between LDA and PCA. Now, let's look at the `LDA` class implemented in `scikit-learn`:"
   ]
  },
  {
   "cell_type": "code",
   "execution_count": 100,
   "metadata": {},
   "outputs": [],
   "source": [
    "from sklearn.discriminant_analysis import LinearDiscriminantAnalysis as LDA\n",
    "\n",
    "lda = LDA(n_components=2)\n",
    "X_train_lda = lda.fit_transform(X_train_std, y_train)"
   ]
  },
  {
   "cell_type": "markdown",
   "metadata": {},
   "source": [
    "As we can see in the resulting plot, the three wine classes are now perfectly linearly separable in the new feature subspace.\n",
    "\n",
    "### **LDA via `scikit-learn`**\n",
    "\n",
    "The step-by-step implementation was a good exercise to understand the inner workings of an LDA and understand the differences between LDA and PCA. Now, let's look at the `LDA` class implemented in `scikit-learn`:"
   ]
  },
  {
   "cell_type": "code",
   "execution_count": 101,
   "metadata": {},
   "outputs": [],
   "source": [
    "# initialize and fit logistic regression model\n",
    "lr = LogisticRegression(multi_class='auto', solver='liblinear')\n",
    "lr = lr.fit(X_train_lda, y_train)"
   ]
  },
  {
   "cell_type": "markdown",
   "metadata": {},
   "source": [
    "Next, let's see how the logistic regression classifier handles the lower-dimensional training dataset after the LDA transformation:"
   ]
  },
  {
   "cell_type": "code",
   "execution_count": 102,
   "metadata": {},
   "outputs": [
    {
     "data": {
      "image/png": "[encoded data removed]",
      "text/plain": [
       "<Figure size 720x720 with 1 Axes>"
      ]
     },
     "metadata": {
      "needs_background": "light"
     },
     "output_type": "display_data"
    }
   ],
   "source": [
    "# plot decision regions for training set\n",
    "plt.figure(figsize=(10, 10))\n",
    "plot_decision_regions(X_train_lda, y_train, classifier=lr)\n",
    "plt.xlabel('LD 1')\n",
    "plt.ylabel('LD 2')\n",
    "plt.legend(loc='lower left')\n",
    "plt.show()"
   ]
  },
  {
   "cell_type": "markdown",
   "metadata": {},
   "source": [
    "Looking at the resulting plot, we see that the logistic regression model misclassifies one of the samples from class `2`.\n",
    "\n",
    "By lowering the regularization strength, we could probably shift the decision boundaries so that the logistic regression model classifies all samples in the training dataset correctly. However, and more importantly, let us take a look at the results on the test set:"
   ]
  },
  {
   "cell_type": "code",
   "execution_count": 105,
   "metadata": {},
   "outputs": [
    {
     "data": {
      "image/png": "[encoded data removed]",
      "text/plain": [
       "<Figure size 720x720 with 1 Axes>"
      ]
     },
     "metadata": {
      "needs_background": "light"
     },
     "output_type": "display_data"
    }
   ],
   "source": [
    "# plot decision regions for test set\n",
    "X_test_lda = lda.transform(X_test_std)\n",
    "\n",
    "plt.figure(figsize=(10, 10))\n",
    "plot_decision_regions(X_test_lda, y_test, classifier=lr)\n",
    "plt.xlabel('LD 1')\n",
    "plt.ylabel('LD 2')\n",
    "plt.legend(loc='lower left')\n",
    "plt.show()"
   ]
  },
  {
   "cell_type": "markdown",
   "metadata": {},
   "source": [
    "Looking at the resulting plot, we see that the logistic regression model misclassifies one of the samples from class `2`.\n",
    "\n",
    "By lowering the regularization strength, we could probably shift the decision boundaries so that the logistic regression model classifies all samples in the training dataset correctly. However, and more importantly, let us take a look at the results on the test set:"
   ]
  },
  {
   "cell_type": "code",
   "execution_count": null,
   "metadata": {},
   "outputs": [],
   "source": []
  }
 ],
 "metadata": {
  "kernelspec": {
   "display_name": "Python 3",
   "language": "python",
   "name": "python3"
  },
  "language_info": {
   "codemirror_mode": {
    "name": "ipython",
    "version": 3
   },
   "file_extension": ".py",
   "mimetype": "text/x-python",
   "name": "python",
   "nbconvert_exporter": "python",
   "pygments_lexer": "ipython3",
   "version": "3.7.3"
  }
 },
 "nbformat": 4,
 "nbformat_minor": 4
}

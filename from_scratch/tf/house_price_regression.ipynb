{
 "cells": [
  {
   "cell_type": "markdown",
   "metadata": {
    "colab_type": "text",
    "id": "gpzj90oD__lN"
   },
   "source": [
    "# TensorFlow House Price Prediction\n",
    "\n",
    "This is a simple TensorFlow based notebook that applies the steps of the machine learning workflow to create, train, and test a model that will predict house prices.\n",
    "\n",
    "The notebook:\n",
    "\n",
    "*  Uses the steps of the machine learning workflow discussed in the course\n",
    "*  Illustrates how TensorFlow makes it easier to implement a machine learning solution\n",
    "*  Describes what is happening in various processing steps\n",
    "\n"
   ]
  },
  {
   "cell_type": "markdown",
   "metadata": {
    "colab_type": "text",
    "id": "HMyAUbOqOGgU"
   },
   "source": [
    "## Load correct version of TensorFlow\n",
    "Before we use TensorFlow we must load the correct version.  We want version 2.x."
   ]
  },
  {
   "cell_type": "code",
   "execution_count": 2,
   "metadata": {
    "colab": {},
    "colab_type": "code",
    "id": "uwTnmk_IPQbz"
   },
   "outputs": [],
   "source": [
    "# Install TensorFlow using Colab's tensorflow_version command\n",
    "try:\n",
    "  # %tensorflow_version only exists in Colab.\n",
    "  %tensorflow_version 2.x\n",
    "except Exception:\n",
    "  pass"
   ]
  },
  {
   "cell_type": "markdown",
   "metadata": {
    "colab_type": "text",
    "id": "SaSlAAqoIiv6"
   },
   "source": [
    "## Import Libraries\n",
    "\n",
    "We import TensorFlow, Numpy, and Matplotlib libraries.  \n",
    "\n",
    "Numpy is a powerful n-dimensional array library that\n",
    "allows us to easily create and manipulate arrays of data, and more!\n",
    "\n",
    "Numpy also allows us to convert TensorFlow's native data structures,\n",
    "to Python native data types.\n",
    "\n",
    "Matplotlib is a graphics plot library"
   ]
  },
  {
   "cell_type": "code",
   "execution_count": 0,
   "metadata": {
    "colab": {},
    "colab_type": "code",
    "id": "qVJKEAqsIXEi"
   },
   "outputs": [],
   "source": [
    "# Import libraries\n",
    "import tensorflow as tf\n",
    "import numpy as np\n",
    "import matplotlib.pyplot as plt"
   ]
  },
  {
   "cell_type": "code",
   "execution_count": 0,
   "metadata": {
    "colab": {},
    "colab_type": "code",
    "id": "_vjZGJOwSxmR"
   },
   "outputs": [],
   "source": [
    "# Check TensorFlow version\n",
    "print(\"TensorFlow version:\", tf.__version__)"
   ]
  },
  {
   "cell_type": "markdown",
   "metadata": {
    "colab_type": "text",
    "id": "MHIiwqsORnEb"
   },
   "source": [
    "## Problem Statement\n",
    "\n",
    "Using example data, develop a model that predicts house prices based on the size of a house.\n"
   ]
  },
  {
   "cell_type": "markdown",
   "metadata": {
    "colab_type": "text",
    "id": "I7iNMKHlJa-F"
   },
   "source": [
    "## Get Data\n",
    "\n",
    "In this example we will be using a truncated version of the Ames dataset that only contains information on homes sold in May 2010.\n",
    "\n",
    "### About the Ames dataset\n",
    "\n",
    "The Ames dataset is a widely available dataset that has become one of the standard datasets used when\n",
    "predicting home prices based on features of the home. It is based on the great work of Dean De Cock.  His rational\n",
    "and insight into this dataset can be found at http://jse.amstat.org/v19n3/decock.pdf.\n",
    "\n",
    "\n",
    "### Getting the truncated dataset we use\n",
    "This dataset can be found with the exercise files for this course.  The filename is **AmesHousing-05-2010.csv** .\n",
    "\n",
    "Before you run the code below, ensure you have downloaded the file to your computer.  \n",
    "\n",
    "And when prompted, browse to the file's location on your computer and upload the file.\n",
    "\n",
    "*Warning: The file upload function will only show the file selection dialog for 30 seconds.  After that time it will close and cause an error because a file was not specified.  This timeout prevents the file dialog from blocking events in Colab.  If you experience this timeout select the dataset file sooner.  It may help to move the dataset file to an easier to specify location such as your desktop.*\n",
    "\n"
   ]
  },
  {
   "cell_type": "code",
   "execution_count": 0,
   "metadata": {
    "colab": {},
    "colab_type": "code",
    "id": "UtsmZTmC6qcS"
   },
   "outputs": [],
   "source": [
    "# You need to upload the file, AmesHousing-05-2001.csv provided with this course\n",
    "from google.colab import files\n",
    "\n",
    "# only load the single file\n",
    "uploaded = files.upload()\n",
    "# csv_housefile contains the name of the first, and only file uploaded\n",
    "csv_housefile = next(iter(uploaded.keys()))\n",
    "\n",
    "print('User uploaded file \"{name}\" with length {length} bytes'.format(\n",
    "      name=csv_housefile, length=len(uploaded[csv_housefile])))\n"
   ]
  },
  {
   "cell_type": "markdown",
   "metadata": {
    "colab_type": "text",
    "id": "-hiXAp_v6urP"
   },
   "source": [
    "### Load the data into a pandas dataframe\n",
    "\n",
    "Pandas let's us easily review and manipulate the data.  If you are new to pandas, see https://pandas.pydata.org/ and the pandas 10 minute intro  http://pandas.pydata.org/pandas-docs/stable/getting_started/10min.html to understand how pandas, and pandas dataframes makes working with tabular data in Python easy."
   ]
  },
  {
   "cell_type": "code",
   "execution_count": 0,
   "metadata": {
    "colab": {},
    "colab_type": "code",
    "id": "zveOHSXBItTU"
   },
   "outputs": [],
   "source": [
    "import pandas as pd\n",
    "\n",
    "# load the housing data into a pandas dataframe for easy viewing and manipulation\n",
    "df_housing = pd.read_csv(csv_housefile)"
   ]
  },
  {
   "cell_type": "markdown",
   "metadata": {
    "colab_type": "text",
    "id": "QC9Ygn0jynyW"
   },
   "source": [
    "### Visualize the House Price data\n",
    "\n",
    "We use panda's  head method to look at the first few rows of data.  This will give us an understanding of the data we are working with.\n"
   ]
  },
  {
   "cell_type": "code",
   "execution_count": 0,
   "metadata": {
    "colab": {},
    "colab_type": "code",
    "id": "YtdGnno4zBeT"
   },
   "outputs": [],
   "source": [
    "# Visualize the dataset\n",
    " \n",
    "# turn on option to display all columns, otherwise some columns may be hidden\n",
    "pd.set_option('display.max_columns', None)  \n",
    "# print the column names and first 5 rows of data\n",
    "df_housing.head(5)"
   ]
  },
  {
   "cell_type": "markdown",
   "metadata": {
    "colab_type": "text",
    "id": "H8urfea9zAhH"
   },
   "source": [
    "Lots of feature columns.  From documentation of previous work with this data we can account for most of the difference in price (SalePrice) based on the size of the house. \n",
    "\n",
    "Looking through the columns we see the following features contains square feet ('SF'): BsmtFin SF 1, BsmtFin SF 2, Bsmt Unf SF, Total Bsmt SF,  1st Flr SF, 2nd Flr SF, Low Qual Fin SF. \n",
    "\n",
    "A little more checking of the data and we see in the data that there are summary columns for the basement square footage and the above basement square footage.  Specifically the feature columns Total Bsmt SF and Gr Liv Area sum the space as follows:\n",
    "\n",
    "\n",
    "\n",
    ">  Total Bsmt SF = BsmtFin SF 1 +  BsmtFin SF 2 + Bsmt Unf SF \n",
    "\n",
    "> Gr Liv Area =  1st Flr SF +  2nd Flr SF\n",
    "\n",
    "But, there is no feature for the total space in the house which is the sum of Basement and Upper floors or (Total Bsmt SF + Gr Liv Area ).  So let's add a new feature column containing this value called 'Total SF' to the dataset.\n",
    "\n",
    "But, before we proceed, let's see if the feature columns we are dependent upon contain missing values that will effect our results.  If so, we can remove the rows with missing columns or determine a way of imputing (updating the values) the missing columns.\n"
   ]
  },
  {
   "cell_type": "code",
   "execution_count": 0,
   "metadata": {
    "colab": {},
    "colab_type": "code",
    "id": "9gc0jzZYvLsl"
   },
   "outputs": [],
   "source": [
    " df_housing[['Total Bsmt SF', 'Gr Liv Area']].isnull().values.any()"
   ]
  },
  {
   "cell_type": "markdown",
   "metadata": {
    "colab_type": "text",
    "id": "oDHSGCWCw6KJ"
   },
   "source": [
    "No missing values, so no additional work is required.  So we can add the new column Total SF."
   ]
  },
  {
   "cell_type": "code",
   "execution_count": 0,
   "metadata": {
    "colab": {},
    "colab_type": "code",
    "id": "Lh3dHm0U-aY9"
   },
   "outputs": [],
   "source": [
    "# Add new feature column Total SF = Total Bsmt SF + Gr Liv Area\n",
    "df_housing['Total SF'] = df_housing['Total Bsmt SF'] + df_housing['Gr Liv Area']\n"
   ]
  },
  {
   "cell_type": "markdown",
   "metadata": {
    "colab_type": "text",
    "id": "I8WXLZlB3l0N"
   },
   "source": [
    "And we can check that the numbers add and see associated sale price "
   ]
  },
  {
   "cell_type": "code",
   "execution_count": 0,
   "metadata": {
    "colab": {},
    "colab_type": "code",
    "id": "l4LQHNxWDBRc"
   },
   "outputs": [],
   "source": [
    "# see the basement and living area, total sf, and price columns\n",
    "print(df_housing[['Total Bsmt SF', 'Gr Liv Area', 'Total SF', 'SalePrice']].head(5) )"
   ]
  },
  {
   "cell_type": "markdown",
   "metadata": {
    "colab_type": "text",
    "id": "aORObOZrKIMA"
   },
   "source": [
    "### Visualize the data.  \n",
    "\n",
    "We visualize the data to give us some idea of the relationships between the various features.  To do that we create a  function to plot the data.\n",
    " \n",
    " \n",
    " \n"
   ]
  },
  {
   "cell_type": "code",
   "execution_count": 0,
   "metadata": {
    "colab": {},
    "colab_type": "code",
    "id": "E7hTDDs6qw0R"
   },
   "outputs": [],
   "source": [
    "# This function visualizes our data and optionally a learned line\n",
    "def visualize_data(x_vals, y_vals,\n",
    "                   addn_x_vals=None, addn_y_vals=None, add_addn_reg_line=False):\n",
    "  \n",
    "  f, ax = plt.subplots(figsize=(8,8))\n",
    "  plt.plot(x_vals, y_vals, 'ro')   # red dot for each data point\n",
    "  # Optionally plot another set of data points in a different color and symbol\n",
    "  if (addn_x_vals is not None):\n",
    "    plt.plot(addn_x_vals, addn_y_vals, 'g^') # green triangles for additional data points\n",
    "    # Optionally, plot a regression line.\n",
    "    if (add_addn_reg_line):\n",
    "      x_min_index = addn_x_vals.argmin()\n",
    "      x_max_index = addn_x_vals.argmax()\n",
    "      print(x_min_index,[addn_x_vals[x_min_index],addn_y_vals[x_min_index]] ) \n",
    "      print(x_max_index,[addn_x_vals[x_max_index],addn_y_vals[x_max_index]] ) \n",
    "      plt.plot([addn_x_vals[x_min_index],addn_y_vals[x_min_index]], \n",
    "               [addn_x_vals[x_max_index],addn_y_vals[x_max_index]], \n",
    "               'b-')  # draw a blue regression line\n",
    "    \n",
    "  plt.tick_params(axis='both', which='major', labelsize=14)\n",
    "  \n",
    "  plt.show()  # now plot the line showing the data and the optional line"
   ]
  },
  {
   "cell_type": "markdown",
   "metadata": {
    "colab_type": "text",
    "id": "7d887fwIbFP1"
   },
   "source": [
    "### Visualizing Total SF and Price\n",
    "\n",
    "Using the visualize_data function we can see the relationship between Total Square Feet (Total SF) and Price."
   ]
  },
  {
   "cell_type": "code",
   "execution_count": 0,
   "metadata": {
    "colab": {},
    "colab_type": "code",
    "id": "9PyYXnSZ9v9R"
   },
   "outputs": [],
   "source": [
    "# Plot Total SF vs. Price\n",
    "visualize_data(df_housing['Total SF'], df_housing['SalePrice'])\n",
    "\n"
   ]
  },
  {
   "cell_type": "markdown",
   "metadata": {
    "colab_type": "text",
    "id": "eJjuAi3sb76r"
   },
   "source": [
    "### What does the visualization tell us?\n",
    "\n",
    "There seems to be a **linear** relationship between the size of the house (as shown in Total SF) and Price.  \n",
    "\n",
    "This suggests that we should perform Linear Regression. Where the relationship in the data is:\n",
    " y = mx + b.  \n",
    " Or in our case, Price = m * Total SF + b\n",
    " \n",
    "With respect to defining the appropriate equation, we can see the difference between traditional programming and Machine Learning as:\n",
    "\n",
    "* In tradition programming **we define what the equation** is through structures such as conditional statements\n",
    "\n",
    "* In Machine Learning, our model **learns from the data** what the appropriate equation is."
   ]
  },
  {
   "cell_type": "markdown",
   "metadata": {
    "colab_type": "text",
    "id": "kWm_EBhwfTvX"
   },
   "source": [
    "## Prepare Data\n",
    "\n",
    "If values are on very different scales it will be difficult for the model to determine the relationships between features.  With our data, Square Footage (SF) ranges from 800-4200, and Prices range from 80,000 to 400,0000.  This means there is a nearly 100 times difference in scale.  When we normalize we will reduce both qualtities to the same scale while preserving the differences between prices and sizes of homes.  This will help our model learn the relationship between price and size."
   ]
  },
  {
   "cell_type": "code",
   "execution_count": 0,
   "metadata": {
    "colab": {},
    "colab_type": "code",
    "id": "5n-zGuMN6np6"
   },
   "outputs": [],
   "source": [
    "# Scale data so SF and Sale Price are on similar scales with values \n",
    "#  from 0.0 to 1.0\n",
    "\n",
    "from sklearn.preprocessing import MinMaxScaler\n",
    "\n",
    "sf_scaler = MinMaxScaler()\n",
    "sf_scaled = sf_scaler.fit_transform(df_housing['Total SF'].values.reshape(-1,1).astype(np.float64))\n",
    "    \n",
    "price_scaler = MinMaxScaler()\n",
    "price_scaled = price_scaler.fit_transform(df_housing['SalePrice'].values.reshape(-1,1).astype(np.float64))"
   ]
  },
  {
   "cell_type": "markdown",
   "metadata": {
    "colab_type": "text",
    "id": "2VSO8dVIW5Fb"
   },
   "source": [
    "## Create Model\n",
    "\n",
    "Here we create a model to learn from our data.  Our data looks linearly related, so we can use a straight line\n",
    "to fit our data.  So we are going to create a model that is based on the equation of a straight line.\n",
    "\n",
    "From our training data we will learn that once we can define this line's parameters we can use it's equation to predict the value of any future data.\n",
    "\n",
    "We use TensorFlow's Keras library to make the process easy.\n",
    "\n",
    "We create a sequential model where the output of one layer becomes the input of the next layer.\n",
    "\n",
    "This model is a simple Neural Network that implements y = wx + bias, where **w is a weight** and **bias is an offset**.\n",
    "\n",
    "*You may recognize from Algebra or Geometry that y = wx + bias is the equation of straight line, where w is the slope and bias is the offset.  (See https://en.wikipedia.org/wiki/Line_(geometry) for a description.)*\n",
    "\n",
    "Therefore the goal is to use our data to train the model and learn the best values for w and bias.\n"
   ]
  },
  {
   "cell_type": "markdown",
   "metadata": {
    "colab_type": "text",
    "id": "o30MyqTYepiV"
   },
   "source": [
    "### Our Model\n",
    "\n",
    "We create our linear model using TensorFlow's Keras library.   Using Keras makes it easy for us to create, train, and evaluate our model.\n",
    "\n"
   ]
  },
  {
   "cell_type": "code",
   "execution_count": 0,
   "metadata": {
    "colab": {},
    "colab_type": "code",
    "id": "SgcsUBmf_guO"
   },
   "outputs": [],
   "source": [
    "# Create model using the TensorFlow Keras library\n",
    "model = tf.keras.Sequential()\n",
    "model.add(tf.keras.layers.Dense(units=1, activation='linear', input_shape=(1,),\n",
    "                                kernel_initializer='random_uniform',\n",
    "                                bias_initializer='zeros'))\n"
   ]
  },
  {
   "cell_type": "markdown",
   "metadata": {
    "colab_type": "text",
    "id": "LH040S8DdMTS"
   },
   "source": [
    "### Compile the model\n",
    "\n",
    "The model is now defined, but is not trained, or even ready to be trained.\n",
    "\n",
    "We will train the model by passing training data throught it and adjusting the weight and bias to reduce loss (error).  To perform these tasks we need a method for \n",
    "*  measuring loss and \n",
    "*  optimizing the values of the weight and bias to minimize this loss. \n",
    "\n",
    "There are many ways of measuring loss and optimizing the values.  We are going to use **Mean-Squared Error** ('mean_squared_error') to measure loss, and the process of **Stochasitic Gradient Descent** ('sgd') to find the optimal weight and bias to minimize the loss. *Note: We use the variant of sgd called mini-batch gradient descent.  And set the batch size in the fit method below.*\n",
    "\n",
    "We set these parameters for the model with the **compile** statement. "
   ]
  },
  {
   "cell_type": "code",
   "execution_count": 0,
   "metadata": {
    "colab": {},
    "colab_type": "code",
    "id": "KMYudNJpY9dY"
   },
   "outputs": [],
   "source": [
    "# Compile model\n",
    "optimizer = \"sgd\"\n",
    "model.compile(loss='mean_squared_error', optimizer=optimizer )\n"
   ]
  },
  {
   "cell_type": "markdown",
   "metadata": {
    "colab_type": "text",
    "id": "O8a2y8xinVmf"
   },
   "source": [
    "## Train the Model\n",
    "\n",
    "Once the model has been defined and compiled we can train the model.  We do this with training data.  \n",
    "\n",
    "We want to split our prepared dataset into 2 datasets.  One dataset will be used for training, and the other dataset will used for testing.  **We never used testing data for training or training data for testing.**"
   ]
  },
  {
   "cell_type": "code",
   "execution_count": 0,
   "metadata": {
    "colab": {},
    "colab_type": "code",
    "id": "EeE7HxU_l0MP"
   },
   "outputs": [],
   "source": [
    "# Split the dataset into training dataset - 70%, Testing dataset - 30%\n",
    "# we do this using the sklearn train_test_split method\n",
    "from sklearn.model_selection import train_test_split\n",
    "\n",
    "sf_train_scaled, sf_test_scaled, price_train_scaled, price_test_scaled = train_test_split(sf_scaled, \n",
    "                                                    price_scaled, \n",
    "                                                    test_size=0.3, random_state=42)"
   ]
  },
  {
   "cell_type": "markdown",
   "metadata": {
    "colab_type": "text",
    "id": "RJPTS2h1yGD3"
   },
   "source": [
    "We pass the training data through the model multiple times.  On each pass, the loss function (that we defined in the model compile) will be used to calculate loss.  And the optimizer will be used to make adjustments to the weights and bias (just called weights from here on) to minimize this error.  \n",
    "\n",
    "We repeat this process of calculating the loss with the current weights and updating the weights to minimize loss for the specified number of **epochs**.  *We should see the loss decrease over time.*\n",
    "\n",
    "We can set the *verbose* flag to tell Keras how much information to show during the training process, 0 is none, 1 and 2 show more in-progress information."
   ]
  },
  {
   "cell_type": "code",
   "execution_count": 0,
   "metadata": {
    "colab": {},
    "colab_type": "code",
    "id": "HOCRKtgMnSLk"
   },
   "outputs": [],
   "source": [
    "\n",
    "# Train model using data\n",
    "initial_epochs = 8\n",
    "batch_size = 10\n",
    "train_hist = model.fit(sf_train_scaled, price_train_scaled, \n",
    "                       epochs=initial_epochs, batch_size=batch_size, verbose=1)\n",
    "\n",
    "# Is 8 epochs enough??? Maybe/Maybe not"
   ]
  },
  {
   "cell_type": "markdown",
   "metadata": {
    "colab_type": "text",
    "id": "NXB_5zlkvEpt"
   },
   "source": [
    "### Visually Confirm Model Training\n",
    "\n",
    "Our model learned the best weight and bias for our training data that it could through the defined number of epochs.  Let's see if a line drawn with the learned weight and bias looks reasonable."
   ]
  },
  {
   "cell_type": "code",
   "execution_count": 0,
   "metadata": {
    "colab": {},
    "colab_type": "code",
    "id": "1KPJ8zLCJYw1"
   },
   "outputs": [],
   "source": [
    "\n",
    "#  predict the price with our trained model\n",
    "price_predicted_scaled =  model.predict(sf_train_scaled)\n",
    "visualize_data(sf_scaler.inverse_transform(sf_train_scaled), price_scaler.inverse_transform(price_train_scaled),\n",
    "               sf_scaler.inverse_transform(sf_train_scaled), price_scaler.inverse_transform(price_predicted_scaled),\n",
    "               add_addn_reg_line=False)\n",
    "               \n",
    "# If line looks bad, what do we do?"
   ]
  },
  {
   "cell_type": "markdown",
   "metadata": {
    "colab_type": "text",
    "id": "vP7E7zNb71zw"
   },
   "source": [
    "### Evaluate Training\n",
    "\n",
    "\n",
    "Our trained model does not looks too good !!!\n",
    "\n",
    "What can we do?  \n",
    "\n",
    "Should we change model architecture?  Does linear look incorrect?  \n",
    "\n",
    "> NO\n",
    "\n",
    "\n",
    "What does loss look like?\n"
   ]
  },
  {
   "cell_type": "code",
   "execution_count": 0,
   "metadata": {
    "colab": {},
    "colab_type": "code",
    "id": "bVoztVaenFsr"
   },
   "outputs": [],
   "source": [
    "def plot_loss(hist):\n",
    "  # plot the loss\n",
    "  plt.title('Loss History')\n",
    "  plt.plot(hist.history['loss'])\n",
    "  plt.ylabel('loss')\n",
    "  plt.xlabel('epoch')\n",
    "  plt.show()\n",
    "\n",
    "print(type(train_hist))\n",
    "plot_loss(train_hist)"
   ]
  },
  {
   "cell_type": "markdown",
   "metadata": {
    "colab_type": "text",
    "id": "bWEO8ONjm9gm"
   },
   "source": [
    "\n",
    "\n",
    "> LOSS STILL LOOKS HIGH.  BUT IS DECREASING.\n",
    "\n",
    "\n",
    "\n",
    "Perhaps we have not converged to the lowest loss.  What can we do????  \n",
    "\n",
    "Train with more data?  \n",
    "\n",
    "> NO.  WE HAVE ALL THE DATA\n",
    "\n",
    "Train for more epochs and check loss to ensure values have converged?\n",
    " > YES!!!"
   ]
  },
  {
   "cell_type": "markdown",
   "metadata": {
    "colab_type": "text",
    "id": "Nez9pMAyhNll"
   },
   "source": [
    "### Training more epochs\n",
    "\n",
    "The model is partially trained but the results are not great.  Let's go back and train the model some more. \n",
    "\n",
    "The question is how much more?  \n",
    "\n",
    "We want to ensure the model is converged to a range of loss values.   So what we will see in the training output is the loss value starts to stay in a specific range .   It may go up or down a little, but there should be a stable range."
   ]
  },
  {
   "cell_type": "code",
   "execution_count": 0,
   "metadata": {
    "colab": {},
    "colab_type": "code",
    "id": "h2azhJj0hd7t"
   },
   "outputs": [],
   "source": [
    "# Train model using data.  This time, train for additional epochs\n",
    "# Also capture the changes over time in the history variable, train_hist_addn so we \n",
    "#   can see if loss is converging\n",
    "addn_epochs = 1200\n",
    "train_hist_addn =model.fit(sf_train_scaled, price_train_scaled,  \n",
    "                     epochs=addn_epochs, verbose=1)"
   ]
  },
  {
   "cell_type": "markdown",
   "metadata": {
    "colab_type": "text",
    "id": "KRhVDSCDj_pu"
   },
   "source": [
    "Plot the loss history values to see if our model converged.\n",
    "\n",
    "Because a model can have a history of many  different metrics over time, there is a history object which has a keys dictionary of \n",
    "metrics whose values were stored on each epoch. By plotting the values for the 'loss' key we can answer:\n",
    "\n",
    "\n",
    "1.   Did the loss converge?\n",
    "2.   How many epochs were required for the loss to converge?\n",
    "\n"
   ]
  },
  {
   "cell_type": "code",
   "execution_count": 0,
   "metadata": {
    "colab": {},
    "colab_type": "code",
    "id": "OEXR-tQpjmJw"
   },
   "outputs": [],
   "source": [
    "# add the addition epochs to the  training history\n",
    "train_hist.history['loss'].extend(train_hist_addn.history['loss'])   \n",
    "plot_loss(train_hist)"
   ]
  },
  {
   "cell_type": "markdown",
   "metadata": {
    "colab_type": "text",
    "id": "XoTv9B0Inx19"
   },
   "source": [
    "### Visually Confirm Model after Additional Training\n",
    "\n",
    "As the  plot showed, the model's loss converged by 1000 epochs.  So the model should be trained to allow us to make accurate predictions.  \n",
    "\n",
    "Let's again plot the predicted price for each size.  And see if a line drawn with the learned weight and bias looks reasonable.\n"
   ]
  },
  {
   "cell_type": "code",
   "execution_count": 0,
   "metadata": {
    "colab": {},
    "colab_type": "code",
    "id": "lUntqHjoko-n"
   },
   "outputs": [],
   "source": [
    "# Visualize data and regression line for learned weights\n",
    "price_predicted_scaled =  model.predict(sf_train_scaled)\n",
    "visualize_data(sf_scaler.inverse_transform(sf_train_scaled), \n",
    "               price_scaler.inverse_transform(price_train_scaled),\n",
    "               sf_scaler.inverse_transform(sf_train_scaled), \n",
    "               price_scaler.inverse_transform(price_predicted_scaled),\n",
    "               add_addn_reg_line=False)\n"
   ]
  },
  {
   "cell_type": "markdown",
   "metadata": {
    "colab_type": "text",
    "id": "YrrEbGQOvUrv"
   },
   "source": [
    "**Yes.  The predicted line looks good!!!**"
   ]
  },
  {
   "cell_type": "markdown",
   "metadata": {
    "colab_type": "text",
    "id": "fZmXIWpZXmwe"
   },
   "source": [
    "## Evaluate Trained Model\n",
    "\n",
    "Once we have the model trained, we want to test **with data not used to train the model!!!**\n",
    "\n",
    "The use of data not used in training to test the model is key.  If you use training data our testing results will be overly accurate and will not reflect *real-life* usage of the trained model to make predictions."
   ]
  },
  {
   "cell_type": "code",
   "execution_count": 0,
   "metadata": {
    "colab": {},
    "colab_type": "code",
    "id": "XjV3pUQ4bP2t"
   },
   "outputs": [],
   "source": [
    "# Make a price prediction on data the model has never seen before, i.e. \n",
    "#    the Test data square footage\n",
    "price_test_pred_scaled = model.predict(sf_test_scaled)\n",
    "\n",
    "# calculate the mean squared error for the prediction, lower is better\n",
    "from sklearn.metrics import mean_squared_error\n",
    "print(\"prediction mean squared error:\", \n",
    "          mean_squared_error(price_test_scaled, price_test_pred_scaled ))\n",
    "\n",
    "# Visualize data\n",
    "#    plus the test square footage and predicted price\n",
    "print('\\nGreen triangles are Test square footage with predicted Price')\n",
    "visualize_data(sf_scaler.inverse_transform(sf_test_scaled),\n",
    "               price_scaler.inverse_transform(price_test_scaled),\n",
    "               sf_scaler.inverse_transform(sf_test_scaled), \n",
    "               price_scaler.inverse_transform(price_test_pred_scaled),\n",
    "               add_addn_reg_line=False)\n",
    "print('\\nOur predicted values fit the data well!')"
   ]
  },
  {
   "cell_type": "markdown",
   "metadata": {
    "colab_type": "text",
    "id": "r-otP7n7v4QJ"
   },
   "source": [
    "## What we have learned\n",
    "\n",
    "\n",
    "\n",
    "*   In Machine Learning we often spend considerable effort getting data in a form that our models can learn from the data.\n",
    "* A single neuron model can learn the appropriate slope and offset for the data. \n",
    "*   Building this model was made easier by TensorFlow's implementation of the Keras library.\n",
    "*   But to learn from the data we need to pass the data through the model enough times to get the loss to converge.\n",
    "*   When we do that, the model learns the data's slope and offset more accurately.\n",
    "*  And when we apply these learned values, the predict prices from the test data's square footage are reasonable. \n",
    "\n"
   ]
  }
 ],
 "metadata": {
  "accelerator": "GPU",
  "colab": {
   "collapsed_sections": [],
   "name": "House_price_regression.ipynb",
   "provenance": []
  },
  "kernelspec": {
   "display_name": "Python 3",
   "language": "python",
   "name": "python3"
  },
  "language_info": {
   "codemirror_mode": {
    "name": "ipython",
    "version": 3
   },
   "file_extension": ".py",
   "mimetype": "text/x-python",
   "name": "python",
   "nbconvert_exporter": "python",
   "pygments_lexer": "ipython3",
   "version": "3.7.3"
  }
 },
 "nbformat": 4,
 "nbformat_minor": 1
}

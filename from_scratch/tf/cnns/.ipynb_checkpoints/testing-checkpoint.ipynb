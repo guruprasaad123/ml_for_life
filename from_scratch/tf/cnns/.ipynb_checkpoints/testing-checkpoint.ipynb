{
 "cells": [
  {
   "cell_type": "code",
   "execution_count": 16,
   "metadata": {},
   "outputs": [],
   "source": [
    "# To support both python 2 and python 3\n",
    "from __future__ import division, print_function, unicode_literals\n",
    "from io import open\n",
    "\n",
    "# Common imports\n",
    "import numpy as np\n",
    "import os\n",
    "import h5py\n",
    "\n",
    "# to make this notebook's output stable across runs\n",
    "def reset_graph(seed=42):\n",
    "    tf.reset_default_graph()\n",
    "    tf.set_random_seed(seed)\n",
    "    np.random.seed(seed)\n",
    "\n",
    "# To plot pretty figures\n",
    "%matplotlib inline\n",
    "import matplotlib\n",
    "import matplotlib.pyplot as plt\n",
    "plt.rcParams['axes.labelsize'] = 14\n",
    "plt.rcParams['xtick.labelsize'] = 12\n",
    "plt.rcParams['ytick.labelsize'] = 12\n",
    "\n",
    "# import cnn_utils\n",
    "from cnn_utils import * \n",
    "\n",
    "# Where to save the figures\n",
    "PROJECT_ROOT_DIR = \".\"\n",
    "CHAPTER_ID = \"cnn\"\n",
    "\n",
    "def save_fig(fig_id, tight_layout=True):\n",
    "    path = os.path.join(PROJECT_ROOT_DIR, \"images\", CHAPTER_ID, fig_id + \".png\")\n",
    "    print(\"Saving figure\", fig_id)\n",
    "    if tight_layout:\n",
    "        plt.tight_layout()\n",
    "    plt.savefig(path, format='png', dpi=300)"
   ]
  },
  {
   "cell_type": "markdown",
   "metadata": {},
   "source": [
    "And of course we will need TensorFlow:"
   ]
  },
  {
   "cell_type": "code",
   "execution_count": 17,
   "metadata": {},
   "outputs": [],
   "source": [
    "import tensorflow as tf"
   ]
  },
  {
   "cell_type": "code",
   "execution_count": 18,
   "metadata": {},
   "outputs": [
    {
     "data": {
      "text/plain": [
       "'1.15.0'"
      ]
     },
     "execution_count": 18,
     "metadata": {},
     "output_type": "execute_result"
    }
   ],
   "source": [
    "tf.__version__"
   ]
  },
  {
   "cell_type": "code",
   "execution_count": 19,
   "metadata": {},
   "outputs": [
    {
     "name": "stdout",
     "output_type": "stream",
     "text": [
      " train_x : (1080, 64, 64, 3) \n",
      " train_y : (1, 1080) \n",
      " test_x : (120, 64, 64, 3) \n",
      " test_y : (1, 120) \n",
      " classes : (6,) \n",
      "number of training examples = 1080\n",
      "number of test examples = 120\n",
      "X_train shape: (1080, 64, 64, 3)\n",
      "Y_train shape: (1080, 6)\n",
      "X_test shape: (120, 64, 64, 3)\n",
      "Y_test shape: (120, 6)\n"
     ]
    }
   ],
   "source": [
    "\n",
    "# import training dataset\n",
    "train_dataset_path = os.path.join('datasets','signs_train','train_signs.h5')\n",
    "# import testing dataset\n",
    "test_dataset_path = os.path.join('datasets','signs_test','test_signs.h5')\n",
    "\n",
    "train_dataset = h5py.File(train_dataset_path,'r')\n",
    "test_dataset = h5py.File(test_dataset_path,'r')\n",
    "\n",
    "# training data features\n",
    "train_x = train_dataset['train_set_x'][:]\n",
    "# wrap the values with numpy array\n",
    "train_x = np.array(train_x)\n",
    "\n",
    "# training data labels\n",
    "train_y = train_dataset['train_set_y'][:]\n",
    "# wrap the values with numpy array\n",
    "train_y = np.array(train_y)\n",
    "# reshape y to 1 x D\n",
    "train_y = train_y.reshape((1,-1))\n",
    "\n",
    "# training data features\n",
    "test_x = test_dataset['test_set_x'][:]\n",
    "# wrap the values with numpy array\n",
    "test_x = np.array(test_x)\n",
    "\n",
    "# training data labels\n",
    "test_y = test_dataset['test_set_y'][:]\n",
    "# wrap the values with numpy array\n",
    "test_y = np.array(test_y)\n",
    "# reshape y to 1 x D\n",
    "test_y = test_y.reshape((1,-1))\n",
    "\n",
    "# list of classes\n",
    "classes = test_dataset['list_classes'][:]\n",
    "# wrap yhe values with numpy array\n",
    "classes = np.array(classes)\n",
    "\n",
    "\n",
    "print(' train_x : {} \\n train_y : {} \\n test_x : {} \\n test_y : {} \\n classes : {} '.format( train_x.shape,train_y.shape,test_x.shape , test_y.shape,classes.shape ))\n",
    "\n",
    "# values of X_train could be Standardized/Regularized by dividing all the values by 255 ( Maxinum [0-255] )\n",
    "X_train = train_x/255.\n",
    "# values of X_test  could be Standardized/Regularized by dividing all the values by 255 ( Maxinum [0-255] )\n",
    "X_test = test_x/255.\n",
    "Y_train = convert_to_one_hot(train_y, classes.shape[0]).T\n",
    "Y_test = convert_to_one_hot(test_y, classes.shape[0]).T\n",
    "print (\"number of training examples = \" + str(X_train.shape[0]))\n",
    "print (\"number of test examples = \" + str(X_test.shape[0]))\n",
    "print (\"X_train shape: \" + str(X_train.shape))\n",
    "print (\"Y_train shape: \" + str(Y_train.shape))\n",
    "print (\"X_test shape: \" + str(X_test.shape))\n",
    "print (\"Y_test shape: \" + str(Y_test.shape))\n",
    "\n",
    "\n",
    "height = X_train.shape[1]\n",
    "width = X_train.shape[2]\n",
    "channels = X_train.shape[3]\n",
    "n_inputs = height * width * channels\n"
   ]
  },
  {
   "cell_type": "code",
   "execution_count": 20,
   "metadata": {},
   "outputs": [],
   "source": [
    "X_train = X_train.astype(np.float32).reshape(-1, height*width*channels) / 255.0\n",
    "X_test = X_test.astype(np.float32).reshape(-1, height*width*channels) / 255.0\n",
    "train_y = train_y.reshape((-1))\n",
    "Y_train = train_y.astype(np.int32)\n",
    "Y_test = test_y.astype(np.int32)"
   ]
  },
  {
   "cell_type": "code",
   "execution_count": 21,
   "metadata": {},
   "outputs": [],
   "source": [
    "def shuffle_batch(X, y, batch_size):\n",
    "    print('length of X',len(X) , X.shape , len(y) ,y.shape)\n",
    "    rnd_idx = np.random.permutation(len(X))\n",
    "    n_batches = len(X) // batch_size\n",
    "    for batch_idx in np.array_split(rnd_idx, n_batches):\n",
    "        X_batch, y_batch = X[batch_idx], y[batch_idx]\n",
    "        yield X_batch, y_batch"
   ]
  },
  {
   "cell_type": "markdown",
   "metadata": {},
   "source": [
    "Convolution Neural Networks , configuration"
   ]
  },
  {
   "cell_type": "code",
   "execution_count": 22,
   "metadata": {},
   "outputs": [],
   "source": [
    "\n",
    "conv1_fmaps = 64\n",
    "conv1_ksize = 3\n",
    "conv1_stride = 1\n",
    "conv1_pad = \"SAME\"\n",
    "\n",
    "conv2_fmaps = 128\n",
    "conv2_ksize = 3\n",
    "conv2_stride = 2\n",
    "conv2_pad = \"SAME\"\n",
    "\n",
    "pool3_fmaps = conv2_fmaps\n",
    "\n",
    "n_fc1 = 64\n",
    "n_outputs = 10\n"
   ]
  },
  {
   "cell_type": "code",
   "execution_count": 28,
   "metadata": {},
   "outputs": [],
   "source": [
    "reset_graph()\n",
    "\n",
    "with tf.name_scope(\"inputs\"):\n",
    "    X = tf.placeholder(tf.float32, shape=[None, n_inputs], name=\"X\")\n",
    "    X_reshaped = tf.reshape(X, shape=[-1, height, width, channels])\n",
    "    y = tf.placeholder(tf.int32, shape=[None], name=\"y\")\n",
    "\n",
    "    conv1 = tf.layers.conv2d(X_reshaped, filters=conv1_fmaps, kernel_size=conv1_ksize,\n",
    "                         strides=conv1_stride, padding=conv1_pad,\n",
    "                         activation=tf.nn.relu, name=\"conv1\")\n",
    "    conv2 = tf.layers.conv2d(conv1, filters=conv2_fmaps, kernel_size=conv2_ksize,\n",
    "                         strides=conv2_stride, padding=conv2_pad,\n",
    "                         activation=tf.nn.relu, name=\"conv2\")\n",
    "\n",
    "with tf.name_scope(\"pool3\"):\n",
    "    pool3 = tf.nn.max_pool(conv2, ksize=[1, 2, 2, 1], strides=[1, 2, 2, 1], padding=\"VALID\")\n",
    "\n",
    "with tf.name_scope(\"init_and_save\"):\n",
    "    init = tf.global_variables_initializer()\n",
    "    saver = tf.train.Saver()\n"
   ]
  },
  {
   "cell_type": "code",
   "execution_count": 29,
   "metadata": {},
   "outputs": [
    {
     "name": "stdout",
     "output_type": "stream",
     "text": [
      "conv1  (100, 64, 64, 64)\n",
      "conv2  (100, 32, 32, 128)\n",
      "pool3  (100, 16, 16, 128)\n"
     ]
    }
   ],
   "source": [
    "batch_size = 100\n",
    "\n",
    "x_batch , y_batch = X_train[0:100] , Y_train[0:100]\n",
    "\n",
    "with tf.Session() as sess:\n",
    "    \n",
    "    init.run()\n",
    "    \n",
    "\n",
    "    conv1_layer , conv2_layer , pool3_layer = sess.run([conv1,conv2,pool3], feed_dict={X: x_batch, y: y_batch})\n",
    "    print('conv1 ',conv1_layer.shape)\n",
    "    print('conv2 ',conv2_layer.shape)\n",
    "    print('pool3 ',pool3_layer.shape)\n",
    "        "
   ]
  },
  {
   "cell_type": "code",
   "execution_count": null,
   "metadata": {},
   "outputs": [],
   "source": []
  }
 ],
 "metadata": {
  "kernelspec": {
   "display_name": "Python 3.7 (tensorflow-legacy)",
   "language": "python",
   "name": "tensorflow-legacy"
  },
  "language_info": {
   "codemirror_mode": {
    "name": "ipython",
    "version": 3
   },
   "file_extension": ".py",
   "mimetype": "text/x-python",
   "name": "python",
   "nbconvert_exporter": "python",
   "pygments_lexer": "ipython3",
   "version": "3.7.9"
  }
 },
 "nbformat": 4,
 "nbformat_minor": 4
}

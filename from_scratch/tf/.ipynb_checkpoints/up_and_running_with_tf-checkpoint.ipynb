{
 "cells": [
  {
   "cell_type": "markdown",
   "metadata": {},
   "source": [
    "# Initialization "
   ]
  },
  {
   "cell_type": "code",
   "execution_count": 1,
   "metadata": {},
   "outputs": [],
   "source": [
    "import numpy as np \n",
    "from sklearn.datasets import fetch_california_housing\n",
    "from sklearn.preprocessing import StandardScaler \n",
    "import tensorflow as tf"
   ]
  },
  {
   "cell_type": "markdown",
   "metadata": {},
   "source": [
    "# Checking the tensorflow version"
   ]
  },
  {
   "cell_type": "code",
   "execution_count": 2,
   "metadata": {},
   "outputs": [
    {
     "name": "stdout",
     "output_type": "stream",
     "text": [
      "1.13.1\n"
     ]
    }
   ],
   "source": [
    "print(tf.__version__)"
   ]
  },
  {
   "cell_type": "code",
   "execution_count": 3,
   "metadata": {},
   "outputs": [
    {
     "name": "stdout",
     "output_type": "stream",
     "text": [
      "WARNING:tensorflow:From /home/buckaroo/nlp/lib/python3.7/site-packages/tensorflow/python/framework/op_def_library.py:263: colocate_with (from tensorflow.python.framework.ops) is deprecated and will be removed in a future version.\n",
      "Instructions for updating:\n",
      "Colocations handled automatically by placer.\n"
     ]
    }
   ],
   "source": [
    "x = tf.Variable(5,name=\"X\")\n",
    "y = tf.Variable(7,name=\"Y\")\n",
    "f=(x*x*y) + y +2\n",
    "f2=(x*x*y)\n",
    "result =None\n"
   ]
  },
  {
   "cell_type": "markdown",
   "metadata": {},
   "source": [
    "# Method 0\n",
    "## Using Initializer \n"
   ]
  },
  {
   "cell_type": "code",
   "execution_count": 4,
   "metadata": {},
   "outputs": [
    {
     "name": "stdout",
     "output_type": "stream",
     "text": [
      "X =>  Tensor(\"X/read:0\", shape=(), dtype=int32)\n",
      "Y =>  Tensor(\"Y/read:0\", shape=(), dtype=int32)\n",
      "result =>  184\n"
     ]
    }
   ],
   "source": [
    "sess = tf.Session()\n",
    "sess.run(x.initializer)\n",
    "\n",
    "print('X => ', x.value())\n",
    "\n",
    "sess.run(y.initializer)\n",
    "\n",
    "print('Y => ',y.value())\n",
    "result = sess.run(f)\n",
    "\n",
    "print('result => ',result)"
   ]
  },
  {
   "cell_type": "markdown",
   "metadata": {},
   "source": [
    "# Method 1\n",
    "## Intializing the Session"
   ]
  },
  {
   "cell_type": "code",
   "execution_count": 5,
   "metadata": {},
   "outputs": [
    {
     "name": "stdout",
     "output_type": "stream",
     "text": [
      "x =>  5\n",
      "y =>  7\n",
      "eval =>  184\n"
     ]
    }
   ],
   "source": [
    "with tf.Session() as sess:\n",
    "    x.initializer.run() #tf.get_default_session.run(x.initializer)\n",
    "    print('x => ',x.eval())\n",
    "    y.initializer.run()\n",
    "    print('y => ',y.eval())\n",
    "    result=f.eval()     #tf.get_default_session.run(f)\n",
    "    print('eval => ',f.eval())\n",
    " "
   ]
  },
  {
   "cell_type": "markdown",
   "metadata": {},
   "source": [
    "# Method 2\n",
    "## Using Global Variables Initializer"
   ]
  },
  {
   "cell_type": "code",
   "execution_count": 6,
   "metadata": {},
   "outputs": [
    {
     "name": "stdout",
     "output_type": "stream",
     "text": [
      "result  184\n"
     ]
    }
   ],
   "source": [
    "init = tf.global_variables_initializer()\n",
    "\n",
    "with tf.Session() as sess:\n",
    "    init.run() # handles all the initialisation of x , y\n",
    "    result = f.eval()\n",
    "    print('result ',result)"
   ]
  },
  {
   "cell_type": "markdown",
   "metadata": {},
   "source": [
    "# Method 3\n",
    "## InteractiveSession"
   ]
  },
  {
   "cell_type": "code",
   "execution_count": 7,
   "metadata": {},
   "outputs": [
    {
     "name": "stdout",
     "output_type": "stream",
     "text": [
      "is same graph =  True\n",
      "is same graph =  False\n",
      "is same graph =  True\n",
      "184\n",
      "175\n"
     ]
    }
   ],
   "source": [
    "init = tf.global_variables_initializer()\n",
    "sess = tf.InteractiveSession()\n",
    "init.run()\n",
    "result1,result2 = sess.run([f,f2]) #(x*x*y) will be reused\n",
    "sess.close()\n",
    "\n",
    "\n",
    "x1=  tf.Variable(2)\n",
    "same_graph = x1.graph is tf.get_default_graph()\n",
    "\n",
    "print('is same graph = ',same_graph)\n",
    "\n",
    "x2=None\n",
    "graph_1 = tf.Graph()\n",
    "with graph_1.as_default():\n",
    "    x2=tf.Variable(2)\n",
    "\n",
    "same_graph  = x2.graph is tf.get_default_graph()\n",
    "\n",
    "print('is same graph = ',same_graph)\n",
    "\n",
    "same_graph  = x2.graph is graph_1\n",
    "\n",
    "print('is same graph = ',same_graph)\n",
    "\n",
    "print(result1)\n",
    "print(result2)"
   ]
  },
  {
   "cell_type": "markdown",
   "metadata": {},
   "source": [
    "# Performing linear Regression - Normal Equations\n",
    "\n",
    "$$ \\theta = (X^T . X )^{-1} . X^T.Y  $$"
   ]
  },
  {
   "cell_type": "code",
   "execution_count": 8,
   "metadata": {},
   "outputs": [
    {
     "name": "stdout",
     "output_type": "stream",
     "text": [
      "result =>  [[-3.6959320e+01]\n",
      " [ 4.3698898e-01]\n",
      " [ 9.4245886e-03]\n",
      " [-1.0791138e-01]\n",
      " [ 6.4842808e-01]\n",
      " [-3.9986235e-06]\n",
      " [-3.7866351e-03]\n",
      " [-4.2142656e-01]\n",
      " [-4.3467718e-01]]\n"
     ]
    }
   ],
   "source": [
    "housing = fetch_california_housing()\n",
    "\n",
    "m , n = housing.data.shape\n",
    "\n",
    "data_bias = np.c_[np.ones((m,1)),housing.data]\n",
    "\n",
    "X = tf.constant(data_bias , dtype=tf.float32 , name='X')\n",
    "Y = tf.constant(housing.target.reshape(-1,1) , dtype=tf.float32 , name='Y')\n",
    "\n",
    "X_T = tf.transpose(X)\n",
    "theta = tf.matmul( tf.matmul( tf.matrix_inverse( tf.matmul(X_T ,X) ) , X_T ) , Y )\n",
    "\n",
    "with tf.Session() as sess:\n",
    "    result = sess.run(theta)\n",
    "    print('result => ',result)\n",
    "\n",
    "    "
   ]
  },
  {
   "cell_type": "markdown",
   "metadata": {},
   "source": [
    "# Linear Regression - Batch Gradient Descent"
   ]
  },
  {
   "cell_type": "code",
   "execution_count": 9,
   "metadata": {},
   "outputs": [
    {
     "name": "stdout",
     "output_type": "stream",
     "text": [
      "MSE = 4.294288158416748\n",
      "MSE = 11.378765106201172\n",
      "MSE = 58.51643753051758\n",
      "MSE = 145.70762634277344\n",
      "MSE = 272.9521179199219\n",
      "MSE = 440.24993896484375\n",
      "MSE = 647.6011352539062\n",
      "MSE = 895.005615234375\n",
      "MSE = 1182.461669921875\n",
      "MSE = 1509.9708251953125\n",
      "Reduced MSE = 1877.5333251953125\n",
      "Best m = [[ 24.3935   ]\n",
      " [  1.4634136]\n",
      " [ 11.45731  ]\n",
      " [  1.8728817]\n",
      " [ -4.7743325]\n",
      " [  4.205486 ]\n",
      " [ 13.097265 ]\n",
      " [-17.262383 ]] ,b = [[0.87661934]]\n"
     ]
    }
   ],
   "source": [
    "housing_data = fetch_california_housing()\n",
    "\n",
    "m_,n=housing_data.data.shape\n",
    "\n",
    "housing_data_plus_bias = np.c_[np.ones((m_,1)),housing_data.data]\n",
    "\n",
    "scalar = StandardScaler()\n",
    "\n",
    "# scalar.fit(housing_data_plus_bias)\n",
    "\n",
    "scaled_housing_data_plus_bias = scalar.fit_transform(housing_data_plus_bias)\n",
    "\n",
    "scaled_housing_data = scalar.fit_transform(housing_data.data)\n",
    "\n",
    "# print(scaled_housing_data_plus_bias)\n",
    "\n",
    "# print(housing_data_plus_bias)\n",
    "\n",
    "# print(housing_data_plus_bias.shape)\n",
    "\n",
    "learning_rate=0.01\n",
    "epochs = 1000\n",
    "\n",
    "x = tf.constant(scaled_housing_data , dtype=tf.float32 , name='x')\n",
    "\n",
    "y = tf.constant(housing_data.target.reshape(-1,1) , dtype=tf.float32 , name='y')\n",
    "\n",
    "x_t = tf.transpose(x)\n",
    "# theta = tf.matmul(tf.matrix_inverse(tf.matmul(x_t,x)),tf.matmul(x_t,y))\n",
    "\n",
    "# theta = tf.Variable(tf.random_uniform([n+1,1],-1.0,1.0),name=\"theta\")\n",
    "\n",
    "m = tf.Variable(tf.random_uniform([n,1],-1.0,1.0),name=\"m\")\n",
    "b = tf.Variable(tf.random_uniform([1,1],-1.0,1.0),name=\"b\")\n",
    "\n",
    "y_pred= tf.matmul(x,m)+b\n",
    "\n",
    "error = tf.square(y_pred - y)\n",
    "mse=tf.reduce_mean(error,name='mse')\n",
    "\n",
    "#y_ = (tf.matmul(x,m)+b)\n",
    "\n",
    "m_gradients = tf.Variable(-2/m_ * tf.matmul(x_t,y-y_pred))\n",
    "\n",
    "b_gradients = tf.Variable((-2/m_) * tf.reduce_mean(y-y_pred))\n",
    "\n",
    "# m_gradients_upd = tf.assign(m_gradients,m_gradients)\n",
    "\n",
    "# b_gradients_upd = tf.assign(b_gradients,b_gradients)\n",
    "\n",
    "\n",
    "m_ops = tf.assign(m, m- (learning_rate * m_gradients))\n",
    "b_ops = tf.assign(b, b- (learning_rate * b_gradients))\n",
    "\n",
    "\n",
    "init = tf.global_variables_initializer()\n",
    "\n",
    "with tf.Session() as sess:\n",
    "    sess.run(init)\n",
    "\n",
    "    for i in range(epochs):\n",
    "        if i % 100 == 0 :\n",
    "            print(\"MSE = {}\".format(mse.eval()))\n",
    "        sess.run([m_ops,b_ops])\n",
    "    \n",
    "    print(\"Reduced MSE = {}\".format(mse.eval()))\n",
    "    print(\"Best m = {} ,b = {}\".format(m.eval(),b.eval()))"
   ]
  },
  {
   "cell_type": "markdown",
   "metadata": {},
   "source": [
    "# Linear Regression - using tensorflow Autodiff()"
   ]
  },
  {
   "cell_type": "code",
   "execution_count": 10,
   "metadata": {},
   "outputs": [
    {
     "name": "stdout",
     "output_type": "stream",
     "text": [
      "MSE = 9.7764310836792\n",
      "MSE = 0.692590057849884\n",
      "MSE = 0.5458189845085144\n",
      "MSE = 0.5387470126152039\n",
      "MSE = 0.5352699756622314\n",
      "MSE = 0.5326970815658569\n",
      "MSE = 0.5307618975639343\n",
      "MSE = 0.5292994976043701\n",
      "MSE = 0.5281892418861389\n",
      "MSE = 0.5273421406745911\n",
      "Reduced MSE = 0.5266926288604736\n",
      "Best m = [[ 0.85440785]\n",
      " [ 0.13539515]\n",
      " [-0.2899245 ]\n",
      " [ 0.31600398]\n",
      " [ 0.00122997]\n",
      " [-0.04126274]\n",
      " [-0.7552825 ]\n",
      " [-0.7277376 ]] ,b = [[2.0685523]]\n"
     ]
    }
   ],
   "source": [
    "m_,n=housing_data.data.shape\n",
    "\n",
    "# housing_data_plus_bias = np.c_[np.ones((m_,1)),housing_data.data]\n",
    "\n",
    "# housing_data = housing_data.data\n",
    "\n",
    "\n",
    "scalar = StandardScaler()\n",
    "\n",
    "#scalar.fit(housing_data_plus_bias)\n",
    "\n",
    "scaled_housing_data = scalar.fit_transform(housing_data.data)\n",
    "\n",
    "#print(scaled_housing_data_plus_bias)\n",
    "\n",
    "# print(housing_data_plus_bias)\n",
    "\n",
    "# print(housing_data_plus_bias.shape)\n",
    "\n",
    "learning_rate=0.01\n",
    "epochs = 1000\n",
    "\n",
    "x = tf.constant(scaled_housing_data ,dtype=tf.float32,name='x')\n",
    "y = tf.constant(housing_data.target.reshape(-1,1) ,dtype=tf.float32,name='y')\n",
    "x_t = tf.transpose(x)\n",
    "#theta = tf.matmul(tf.matrix_inverse(tf.matmul(x_t,x)),tf.matmul(x_t,y))\n",
    "\n",
    "#theta = tf.Variable(tf.random_uniform([n+1,1],-1.0,1.0),name=\"theta\")\n",
    "\n",
    "m = tf.Variable(tf.random_uniform([n,1],-1.0,1.0),name=\"m\")\n",
    "b = tf.Variable(tf.random_uniform([1,1],-1.0,1.0),name=\"b\")\n",
    "\n",
    "y_pred= tf.matmul(x,m)+b\n",
    "\n",
    "error = tf.square(y_pred - y)\n",
    "mse=tf.reduce_mean(error,name='mse')\n",
    "\n",
    "#y_ = (tf.matmul(x,m)+b)\n",
    "\n",
    "# m_gradients = tf.Variable(-2/m_ * tf.matmul(x_t,y-y_pred))\n",
    "\n",
    "# b_gradients = tf.Variable((-2/m_) * tf.reduce_mean(y-y_pred))\n",
    "\n",
    "m_gradients = tf.gradients(mse , [m])[0]\n",
    "\n",
    "b_gradients = tf.gradients(mse , [b])[0]\n",
    "\n",
    "# m_gradients_upd = tf.assign(m_gradients,m_gradients)\n",
    "\n",
    "# b_gradients_upd = tf.assign(b_gradients,b_gradients)\n",
    "\n",
    "\n",
    "m_ops = tf.assign(m, m- (learning_rate * m_gradients))\n",
    "b_ops = tf.assign(b, b- (learning_rate * b_gradients))\n",
    "\n",
    "\n",
    "init = tf.global_variables_initializer()\n",
    "\n",
    "with tf.Session() as sess:\n",
    "    sess.run(init)\n",
    "\n",
    "    for i in range(epochs):\n",
    "        if i % 100 == 0 :\n",
    "            print(\"MSE = {}\".format(mse.eval()))\n",
    "        sess.run([m_ops,b_ops])\n",
    "    \n",
    "    print(\"Reduced MSE = {}\".format(mse.eval()))\n",
    "    print(\"Best m = {} ,b = {}\".format(m.eval(),b.eval()))"
   ]
  },
  {
   "cell_type": "markdown",
   "metadata": {},
   "source": [
    "# Mini-batch Gradient Descent"
   ]
  },
  {
   "cell_type": "code",
   "execution_count": 11,
   "metadata": {},
   "outputs": [
    {
     "name": "stdout",
     "output_type": "stream",
     "text": [
      "MSE = 4.117537021636963\n",
      "MSE = 0.6568774580955505\n",
      "MSE = 0.5860236287117004\n",
      "MSE = 0.5692876577377319\n",
      "MSE = 0.5580148100852966\n",
      "MSE = 0.549715518951416\n",
      "MSE = 0.5435497760772705\n",
      "MSE = 0.5389506816864014\n",
      "MSE = 0.5355064868927002\n",
      "MSE = 0.5329166650772095\n",
      "Reduced MSE = 0.5309606194496155\n",
      "Best m = [[ 0.86013514]\n",
      " [ 0.14722975]\n",
      " [-0.2806193 ]\n",
      " [ 0.2994587 ]\n",
      " [ 0.00546122]\n",
      " [-0.04238607]\n",
      " [-0.66363835]\n",
      " [-0.6357864 ]] ,b = [[2.0685523]]\n"
     ]
    }
   ],
   "source": [
    "m_,n=housing_data.data.shape\n",
    "\n",
    "# housing_data_plus_bias = np.c_[np.ones((m_,1)),housing_data.data]\n",
    "\n",
    "# housing_data = housing_data.data\n",
    "\n",
    "\n",
    "scalar = StandardScaler()\n",
    "\n",
    "#scalar.fit(housing_data_plus_bias)\n",
    "\n",
    "scaled_housing_data = scalar.fit_transform(housing_data.data)\n",
    "\n",
    "#print(scaled_housing_data_plus_bias)\n",
    "\n",
    "# print(housing_data_plus_bias)\n",
    "\n",
    "# print(housing_data_plus_bias.shape)\n",
    "\n",
    "learning_rate=0.01\n",
    "epochs = 1000\n",
    "\n",
    "x = tf.constant(scaled_housing_data ,dtype=tf.float32,name='x')\n",
    "y = tf.constant(housing_data.target.reshape(-1,1) ,dtype=tf.float32,name='y')\n",
    "x_t = tf.transpose(x)\n",
    "#theta = tf.matmul(tf.matrix_inverse(tf.matmul(x_t,x)),tf.matmul(x_t,y))\n",
    "\n",
    "#theta = tf.Variable(tf.random_uniform([n+1,1],-1.0,1.0),name=\"theta\")\n",
    "\n",
    "m = tf.Variable(tf.random_uniform([n,1],-1.0,1.0),name=\"m\")\n",
    "b = tf.Variable(tf.random_uniform([1,1],-1.0,1.0),name=\"b\")\n",
    "\n",
    "y_pred= tf.matmul(x,m)+b\n",
    "\n",
    "error = tf.square(y_pred - y)\n",
    "mse=tf.reduce_mean(error,name='mse')\n",
    "\n",
    "#y_ = (tf.matmul(x,m)+b)\n",
    "\n",
    "# m_gradients = tf.Variable(-2/m_ * tf.matmul(x_t,y-y_pred))\n",
    "\n",
    "# b_gradients = tf.Variable((-2/m_) * tf.reduce_mean(y-y_pred))\n",
    "\n",
    "m_gradients = tf.gradients(mse , [m])[0]\n",
    "\n",
    "b_gradients = tf.gradients(mse , [b])[0]\n",
    "\n",
    "# m_gradients_upd = tf.assign(m_gradients,m_gradients)\n",
    "\n",
    "# b_gradients_upd = tf.assign(b_gradients,b_gradients)\n",
    "\n",
    "\n",
    "m_ops = tf.assign(m, m- (learning_rate * m_gradients))\n",
    "b_ops = tf.assign(b, b- (learning_rate * b_gradients))\n",
    "\n",
    "\n",
    "init = tf.global_variables_initializer()\n",
    "\n",
    "with tf.Session() as sess:\n",
    "    sess.run(init)\n",
    "\n",
    "    for i in range(epochs):\n",
    "        if i % 100 == 0 :\n",
    "            print(\"MSE = {}\".format(mse.eval()))\n",
    "        sess.run([m_ops,b_ops])\n",
    "    \n",
    "    print(\"Reduced MSE = {}\".format(mse.eval()))\n",
    "    print(\"Best m = {} ,b = {}\".format(m.eval(),b.eval()))"
   ]
  },
  {
   "cell_type": "code",
   "execution_count": null,
   "metadata": {},
   "outputs": [],
   "source": []
  },
  {
   "cell_type": "code",
   "execution_count": null,
   "metadata": {},
   "outputs": [],
   "source": []
  },
  {
   "cell_type": "code",
   "execution_count": null,
   "metadata": {},
   "outputs": [],
   "source": []
  },
  {
   "cell_type": "code",
   "execution_count": null,
   "metadata": {},
   "outputs": [],
   "source": []
  },
  {
   "cell_type": "code",
   "execution_count": null,
   "metadata": {},
   "outputs": [],
   "source": []
  },
  {
   "cell_type": "code",
   "execution_count": null,
   "metadata": {},
   "outputs": [],
   "source": []
  },
  {
   "cell_type": "code",
   "execution_count": null,
   "metadata": {},
   "outputs": [],
   "source": []
  },
  {
   "cell_type": "code",
   "execution_count": null,
   "metadata": {},
   "outputs": [],
   "source": []
  },
  {
   "cell_type": "code",
   "execution_count": null,
   "metadata": {},
   "outputs": [],
   "source": []
  },
  {
   "cell_type": "code",
   "execution_count": null,
   "metadata": {},
   "outputs": [],
   "source": []
  },
  {
   "cell_type": "code",
   "execution_count": null,
   "metadata": {},
   "outputs": [],
   "source": []
  },
  {
   "cell_type": "code",
   "execution_count": null,
   "metadata": {},
   "outputs": [],
   "source": []
  },
  {
   "cell_type": "code",
   "execution_count": null,
   "metadata": {},
   "outputs": [],
   "source": []
  },
  {
   "cell_type": "code",
   "execution_count": null,
   "metadata": {},
   "outputs": [],
   "source": []
  },
  {
   "cell_type": "code",
   "execution_count": null,
   "metadata": {},
   "outputs": [],
   "source": []
  }
 ],
 "metadata": {
  "kernelspec": {
   "display_name": "Python 3",
   "language": "python",
   "name": "python3"
  },
  "language_info": {
   "codemirror_mode": {
    "name": "ipython",
    "version": 3
   },
   "file_extension": ".py",
   "mimetype": "text/x-python",
   "name": "python",
   "nbconvert_exporter": "python",
   "pygments_lexer": "ipython3",
   "version": "3.7.3"
  }
 },
 "nbformat": 4,
 "nbformat_minor": 4
}

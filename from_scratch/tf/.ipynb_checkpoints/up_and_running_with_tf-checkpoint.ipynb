{
 "cells": [
  {
   "cell_type": "markdown",
   "metadata": {},
   "source": [
    "# Initialization "
   ]
  },
  {
   "cell_type": "code",
   "execution_count": 1,
   "metadata": {},
   "outputs": [],
   "source": [
    "import numpy as np \n",
    "from sklearn.datasets import fetch_california_housing\n",
    "from sklearn.preprocessing import StandardScaler \n",
    "import tensorflow as tf"
   ]
  },
  {
   "cell_type": "markdown",
   "metadata": {},
   "source": [
    "# Checking the tensorflow version"
   ]
  },
  {
   "cell_type": "code",
   "execution_count": 2,
   "metadata": {},
   "outputs": [
    {
     "name": "stdout",
     "output_type": "stream",
     "text": [
      "1.13.1\n"
     ]
    }
   ],
   "source": [
    "print(tf.__version__)"
   ]
  },
  {
   "cell_type": "code",
   "execution_count": 3,
   "metadata": {},
   "outputs": [
    {
     "name": "stdout",
     "output_type": "stream",
     "text": [
      "WARNING:tensorflow:From /home/buckaroo/nlp/lib/python3.7/site-packages/tensorflow/python/framework/op_def_library.py:263: colocate_with (from tensorflow.python.framework.ops) is deprecated and will be removed in a future version.\n",
      "Instructions for updating:\n",
      "Colocations handled automatically by placer.\n"
     ]
    }
   ],
   "source": [
    "x = tf.Variable(5,name=\"X\")\n",
    "y = tf.Variable(7,name=\"Y\")\n",
    "f=(x*x*y) + y +2\n",
    "f2=(x*x*y)\n",
    "result =None\n"
   ]
  },
  {
   "cell_type": "code",
   "execution_count": 4,
   "metadata": {},
   "outputs": [],
   "source": [
    "# to make this notebook's output stable across runs\n",
    "def reset_graph(seed=42):\n",
    "    tf.reset_default_graph()\n",
    "    tf.set_random_seed(seed)\n",
    "    np.random.seed(seed)"
   ]
  },
  {
   "cell_type": "markdown",
   "metadata": {},
   "source": [
    "# Method 0\n",
    "## Using Initializer \n"
   ]
  },
  {
   "cell_type": "code",
   "execution_count": 5,
   "metadata": {},
   "outputs": [
    {
     "name": "stdout",
     "output_type": "stream",
     "text": [
      "X =>  Tensor(\"X/read:0\", shape=(), dtype=int32)\n",
      "Y =>  Tensor(\"Y/read:0\", shape=(), dtype=int32)\n",
      "result =>  184\n"
     ]
    }
   ],
   "source": [
    "sess = tf.Session()\n",
    "sess.run(x.initializer)\n",
    "\n",
    "print('X => ', x.value())\n",
    "\n",
    "sess.run(y.initializer)\n",
    "\n",
    "print('Y => ',y.value())\n",
    "result = sess.run(f)\n",
    "\n",
    "print('result => ',result)"
   ]
  },
  {
   "cell_type": "markdown",
   "metadata": {},
   "source": [
    "# Method 1\n",
    "## Intializing the Session"
   ]
  },
  {
   "cell_type": "code",
   "execution_count": 6,
   "metadata": {},
   "outputs": [
    {
     "name": "stdout",
     "output_type": "stream",
     "text": [
      "x =>  5\n",
      "y =>  7\n",
      "eval =>  184\n"
     ]
    }
   ],
   "source": [
    "with tf.Session() as sess:\n",
    "    x.initializer.run() #tf.get_default_session.run(x.initializer)\n",
    "    print('x => ',x.eval())\n",
    "    y.initializer.run()\n",
    "    print('y => ',y.eval())\n",
    "    result=f.eval()     #tf.get_default_session.run(f)\n",
    "    print('eval => ',f.eval())\n",
    " "
   ]
  },
  {
   "cell_type": "markdown",
   "metadata": {},
   "source": [
    "# Method 2\n",
    "## Using Global Variables Initializer"
   ]
  },
  {
   "cell_type": "code",
   "execution_count": 7,
   "metadata": {},
   "outputs": [
    {
     "name": "stdout",
     "output_type": "stream",
     "text": [
      "result  184\n"
     ]
    }
   ],
   "source": [
    "init = tf.global_variables_initializer()\n",
    "\n",
    "with tf.Session() as sess:\n",
    "    init.run() # handles all the initialisation of x , y\n",
    "    result = f.eval()\n",
    "    print('result ',result)"
   ]
  },
  {
   "cell_type": "markdown",
   "metadata": {},
   "source": [
    "# Method 3\n",
    "## InteractiveSession"
   ]
  },
  {
   "cell_type": "code",
   "execution_count": 8,
   "metadata": {},
   "outputs": [
    {
     "name": "stdout",
     "output_type": "stream",
     "text": [
      "is same graph =  True\n",
      "is same graph =  False\n",
      "is same graph =  True\n",
      "184\n",
      "175\n"
     ]
    }
   ],
   "source": [
    "init = tf.global_variables_initializer()\n",
    "sess = tf.InteractiveSession()\n",
    "init.run()\n",
    "result1,result2 = sess.run([f,f2]) #(x*x*y) will be reused\n",
    "sess.close()\n",
    "\n",
    "\n",
    "x1=  tf.Variable(2)\n",
    "same_graph = x1.graph is tf.get_default_graph()\n",
    "\n",
    "print('is same graph = ',same_graph)\n",
    "\n",
    "x2=None\n",
    "graph_1 = tf.Graph()\n",
    "with graph_1.as_default():\n",
    "    x2=tf.Variable(2)\n",
    "\n",
    "same_graph  = x2.graph is tf.get_default_graph()\n",
    "\n",
    "print('is same graph = ',same_graph)\n",
    "\n",
    "same_graph  = x2.graph is graph_1\n",
    "\n",
    "print('is same graph = ',same_graph)\n",
    "\n",
    "print(result1)\n",
    "print(result2)"
   ]
  },
  {
   "cell_type": "markdown",
   "metadata": {},
   "source": [
    "# Performing linear Regression - Normal Equations\n",
    "\n",
    "$$ \\theta = (X^T . X )^{-1} . X^T.Y  $$"
   ]
  },
  {
   "cell_type": "code",
   "execution_count": 9,
   "metadata": {},
   "outputs": [
    {
     "name": "stdout",
     "output_type": "stream",
     "text": [
      "result =>  [[-3.6959320e+01]\n",
      " [ 4.3698898e-01]\n",
      " [ 9.4245886e-03]\n",
      " [-1.0791138e-01]\n",
      " [ 6.4842808e-01]\n",
      " [-3.9986235e-06]\n",
      " [-3.7866351e-03]\n",
      " [-4.2142656e-01]\n",
      " [-4.3467718e-01]]\n"
     ]
    }
   ],
   "source": [
    "housing = fetch_california_housing()\n",
    "\n",
    "m , n = housing.data.shape\n",
    "\n",
    "data_bias = np.c_[np.ones((m,1)),housing.data]\n",
    "\n",
    "X = tf.constant(data_bias , dtype=tf.float32 , name='X')\n",
    "Y = tf.constant(housing.target.reshape(-1,1) , dtype=tf.float32 , name='Y')\n",
    "\n",
    "X_T = tf.transpose(X)\n",
    "theta = tf.matmul( tf.matmul( tf.matrix_inverse( tf.matmul(X_T ,X) ) , X_T ) , Y )\n",
    "\n",
    "with tf.Session() as sess:\n",
    "    result = sess.run(theta)\n",
    "    print('result => ',result)\n",
    "\n",
    "    "
   ]
  },
  {
   "cell_type": "markdown",
   "metadata": {},
   "source": [
    "# Linear Regression - Batch Gradient Descent"
   ]
  },
  {
   "cell_type": "code",
   "execution_count": 10,
   "metadata": {},
   "outputs": [
    {
     "name": "stdout",
     "output_type": "stream",
     "text": [
      "MSE = 5.537877559661865\n",
      "MSE = 23.244144439697266\n",
      "MSE = 119.84481811523438\n",
      "MSE = 295.3406066894531\n",
      "MSE = 549.7288818359375\n",
      "MSE = 883.0101928710938\n",
      "MSE = 1295.18505859375\n",
      "MSE = 1786.2618408203125\n",
      "MSE = 2356.236328125\n",
      "MSE = 3005.107666015625\n",
      "Reduced MSE = 3732.874755859375\n",
      "Best m = [[  2.7340198 ]\n",
      " [ 14.143022  ]\n",
      " [-27.664331  ]\n",
      " [-27.692518  ]\n",
      " [ 12.352658  ]\n",
      " [  0.81691504]\n",
      " [-11.854529  ]\n",
      " [  4.7563524 ]] ,b = [[0.8202331]]\n"
     ]
    }
   ],
   "source": [
    "housing_data = fetch_california_housing()\n",
    "\n",
    "m_,n=housing_data.data.shape\n",
    "\n",
    "housing_data_plus_bias = np.c_[np.ones((m_,1)),housing_data.data]\n",
    "\n",
    "scalar = StandardScaler()\n",
    "\n",
    "# scalar.fit(housing_data_plus_bias)\n",
    "\n",
    "scaled_housing_data_plus_bias = scalar.fit_transform(housing_data_plus_bias)\n",
    "\n",
    "scaled_housing_data = scalar.fit_transform(housing_data.data)\n",
    "\n",
    "# print(scaled_housing_data_plus_bias)\n",
    "\n",
    "# print(housing_data_plus_bias)\n",
    "\n",
    "# print(housing_data_plus_bias.shape)\n",
    "\n",
    "learning_rate=0.01\n",
    "epochs = 1000\n",
    "\n",
    "x = tf.constant(scaled_housing_data , dtype=tf.float32 , name='x')\n",
    "\n",
    "y = tf.constant(housing_data.target.reshape(-1,1) , dtype=tf.float32 , name='y')\n",
    "\n",
    "x_t = tf.transpose(x)\n",
    "# theta = tf.matmul(tf.matrix_inverse(tf.matmul(x_t,x)),tf.matmul(x_t,y))\n",
    "\n",
    "# theta = tf.Variable(tf.random_uniform([n+1,1],-1.0,1.0),name=\"theta\")\n",
    "\n",
    "m = tf.Variable(tf.random_uniform([n,1],-1.0,1.0),name=\"m\")\n",
    "b = tf.Variable(tf.random_uniform([1,1],-1.0,1.0),name=\"b\")\n",
    "\n",
    "y_pred= tf.matmul(x,m)+b\n",
    "\n",
    "error = tf.square(y_pred - y)\n",
    "mse=tf.reduce_mean(error,name='mse')\n",
    "\n",
    "#y_ = (tf.matmul(x,m)+b)\n",
    "\n",
    "m_gradients = tf.Variable(-2/m_ * tf.matmul(x_t,y-y_pred))\n",
    "\n",
    "b_gradients = tf.Variable((-2/m_) * tf.reduce_mean(y-y_pred))\n",
    "\n",
    "# m_gradients_upd = tf.assign(m_gradients,m_gradients)\n",
    "\n",
    "# b_gradients_upd = tf.assign(b_gradients,b_gradients)\n",
    "\n",
    "\n",
    "m_ops = tf.assign(m, m- (learning_rate * m_gradients))\n",
    "b_ops = tf.assign(b, b- (learning_rate * b_gradients))\n",
    "\n",
    "\n",
    "init = tf.global_variables_initializer()\n",
    "\n",
    "with tf.Session() as sess:\n",
    "    sess.run(init)\n",
    "\n",
    "    for i in range(epochs):\n",
    "        if i % 100 == 0 :\n",
    "            print(\"MSE = {}\".format(mse.eval()))\n",
    "        sess.run([m_ops,b_ops])\n",
    "    \n",
    "    print(\"Reduced MSE = {}\".format(mse.eval()))\n",
    "    print(\"Best m = {} ,b = {}\".format(m.eval(),b.eval()))"
   ]
  },
  {
   "cell_type": "markdown",
   "metadata": {},
   "source": [
    "# Linear Regression - using tensorflow Autodiff()"
   ]
  },
  {
   "cell_type": "code",
   "execution_count": 11,
   "metadata": {},
   "outputs": [
    {
     "name": "stdout",
     "output_type": "stream",
     "text": [
      "MSE = 8.733565330505371\n",
      "MSE = 0.9406896233558655\n",
      "MSE = 0.7124176621437073\n",
      "MSE = 0.6569042801856995\n",
      "MSE = 0.6200796365737915\n",
      "MSE = 0.5936232805252075\n",
      "MSE = 0.5745091438293457\n",
      "MSE = 0.5606892108917236\n",
      "MSE = 0.5506929159164429\n",
      "MSE = 0.5434590578079224\n",
      "Reduced MSE = 0.5382220149040222\n",
      "Best m = [[ 0.7312023 ]\n",
      " [ 0.1456965 ]\n",
      " [ 0.0053277 ]\n",
      " [ 0.04438056]\n",
      " [ 0.00657593]\n",
      " [-0.03950699]\n",
      " [-0.79587525]\n",
      " [-0.7509681 ]] ,b = [[2.0685523]]\n"
     ]
    }
   ],
   "source": [
    "m_,n=housing_data.data.shape\n",
    "\n",
    "scalar = StandardScaler()\n",
    "\n",
    "scaled_housing_data = scalar.fit_transform(housing_data.data)\n",
    "\n",
    "learning_rate=0.01\n",
    "epochs = 1000\n",
    "\n",
    "x = tf.constant(scaled_housing_data ,dtype=tf.float32,name='x')\n",
    "y = tf.constant(housing_data.target.reshape(-1,1) ,dtype=tf.float32,name='y')\n",
    "x_t = tf.transpose(x)\n",
    "\n",
    "m = tf.Variable(tf.random_uniform([n,1],-1.0,1.0),name=\"m\")\n",
    "b = tf.Variable(tf.random_uniform([1,1],-1.0,1.0),name=\"b\")\n",
    "\n",
    "y_pred= tf.matmul(x,m)+b\n",
    "\n",
    "error = tf.square(y_pred - y)\n",
    "mse=tf.reduce_mean(error,name='mse')\n",
    "\n",
    "m_gradients = tf.gradients(mse , [m])[0]\n",
    "\n",
    "b_gradients = tf.gradients(mse , [b])[0]\n",
    "\n",
    "m_ops = tf.assign(m, m- (learning_rate * m_gradients))\n",
    "b_ops = tf.assign(b, b- (learning_rate * b_gradients))\n",
    "\n",
    "init = tf.global_variables_initializer()\n",
    "\n",
    "with tf.Session() as sess:\n",
    "    sess.run(init)\n",
    "\n",
    "    for i in range(epochs):\n",
    "        if i % 100 == 0 :\n",
    "            print(\"MSE = {}\".format(mse.eval()))\n",
    "        sess.run([m_ops,b_ops])\n",
    "    \n",
    "    print(\"Reduced MSE = {}\".format(mse.eval()))\n",
    "    print(\"Best m = {} ,b = {}\".format(m.eval(),b.eval()))"
   ]
  },
  {
   "cell_type": "markdown",
   "metadata": {},
   "source": [
    "# Linear Regression - Using Optimizers\n",
    "\n",
    "    - GradientDescent Optimizer\n",
    "    - Momentem Optimizer"
   ]
  },
  {
   "cell_type": "code",
   "execution_count": 12,
   "metadata": {},
   "outputs": [
    {
     "name": "stdout",
     "output_type": "stream",
     "text": [
      "MSE = 8.344951629638672\n",
      "MSE = 0.6879546642303467\n",
      "MSE = 0.5373018383979797\n",
      "MSE = 0.5309804677963257\n",
      "MSE = 0.5294216871261597\n",
      "MSE = 0.5283674001693726\n",
      "MSE = 0.5275529623031616\n",
      "MSE = 0.5269138216972351\n",
      "MSE = 0.5264092087745667\n",
      "MSE = 0.5260089039802551\n",
      "Reduced MSE = 0.5256898403167725\n",
      "Best m = [[ 8.5848415e-01]\n",
      " [ 1.3021597e-01]\n",
      " [-3.0874085e-01]\n",
      " [ 3.3645096e-01]\n",
      " [-7.0781278e-04]\n",
      " [-4.0911343e-02]\n",
      " [-7.8920072e-01]\n",
      " [-7.6266783e-01]] ,b = [[2.0685523]]\n"
     ]
    }
   ],
   "source": [
    "m_,n=housing_data.data.shape\n",
    "\n",
    "scalar = StandardScaler()\n",
    "\n",
    "scaled_housing_data = scalar.fit_transform(housing_data.data)\n",
    "\n",
    "learning_rate=0.01\n",
    "epochs = 1000\n",
    "\n",
    "x = tf.constant(scaled_housing_data ,dtype=tf.float32,name='x')\n",
    "y = tf.constant(housing_data.target.reshape(-1,1) ,dtype=tf.float32,name='y')\n",
    "x_t = tf.transpose(x)\n",
    "\n",
    "m = tf.Variable(tf.random_uniform([n,1],-1.0,1.0),name=\"m\")\n",
    "b = tf.Variable(tf.random_uniform([1,1],-1.0,1.0),name=\"b\")\n",
    "\n",
    "y_pred= tf.matmul(x,m)+b\n",
    "\n",
    "error = tf.square(y_pred - y)\n",
    "\n",
    "# Optimiser \n",
    "\n",
    "# learning_rate = 0.01;\n",
    "optimizer = tf.train.GradientDescentOptimizer(learning_rate = learning_rate)\n",
    "\n",
    "mse = tf.reduce_mean(error,name='mse')\n",
    "\n",
    "'''\n",
    "m_gradients = tf.gradients(mse , [m])[0]\n",
    "\n",
    "b_gradients = tf.gradients(mse , [b])[0]\n",
    "\n",
    "m_ops = tf.assign(m, m- (learning_rate * m_gradients))\n",
    "\n",
    "b_ops = tf.assign(b, b- (learning_rate * b_gradients))\n",
    "\n",
    "'''\n",
    "\n",
    "m_ops = optimizer.minimize(mse,var_list=[m]) \n",
    "\n",
    "b_ops = optimizer.minimize(mse,var_list=[b]) \n",
    "\n",
    "\n",
    "init = tf.global_variables_initializer()\n",
    "\n",
    "with tf.Session() as sess:\n",
    "    sess.run(init)\n",
    "\n",
    "    for i in range(epochs):\n",
    "        if i % 100 == 0 :\n",
    "            print(\"MSE = {}\".format(mse.eval()))\n",
    "        sess.run([m_ops,b_ops])\n",
    "    \n",
    "    print(\"Reduced MSE = {}\".format(mse.eval()))\n",
    "    print(\"Best m = {} ,b = {}\".format(m.eval(),b.eval()))"
   ]
  },
  {
   "cell_type": "code",
   "execution_count": 13,
   "metadata": {},
   "outputs": [
    {
     "name": "stdout",
     "output_type": "stream",
     "text": [
      "MSE = 11.515134811401367\n",
      "MSE = 0.526669442653656\n",
      "MSE = 0.5243911743164062\n",
      "MSE = 0.524326503276825\n",
      "MSE = 0.5243216156959534\n",
      "MSE = 0.5243210196495056\n",
      "MSE = 0.5243209600448608\n",
      "MSE = 0.5243210196495056\n",
      "MSE = 0.5243209600448608\n",
      "MSE = 0.5243210196495056\n",
      "Reduced MSE = 0.5243210196495056\n",
      "Best m = [[ 0.8296217 ]\n",
      " [ 0.11875208]\n",
      " [-0.26553145]\n",
      " [ 0.3057    ]\n",
      " [-0.00450284]\n",
      " [-0.03932637]\n",
      " [-0.89988035]\n",
      " [-0.870536  ]] ,b = [[2.068558]]\n"
     ]
    }
   ],
   "source": [
    "m_,n=housing_data.data.shape\n",
    "\n",
    "scalar = StandardScaler()\n",
    "\n",
    "scaled_housing_data = scalar.fit_transform(housing_data.data)\n",
    "\n",
    "learning_rate=0.01\n",
    "epochs = 1000\n",
    "\n",
    "x = tf.constant(scaled_housing_data ,dtype=tf.float32,name='x')\n",
    "y = tf.constant(housing_data.target.reshape(-1,1) ,dtype=tf.float32,name='y')\n",
    "x_t = tf.transpose(x)\n",
    "\n",
    "m = tf.Variable(tf.random_uniform([n,1],-1.0,1.0),name=\"m\")\n",
    "b = tf.Variable(tf.random_uniform([1,1],-1.0,1.0),name=\"b\")\n",
    "\n",
    "y_pred= tf.matmul(x,m)+b\n",
    "\n",
    "error = tf.square(y_pred - y)\n",
    "\n",
    "# Optimiser \n",
    "\n",
    "# learning_rate = 0.01;\n",
    "optimizer = tf.train.MomentumOptimizer(learning_rate = learning_rate,momentum=0.9)\n",
    "\n",
    "mse = tf.reduce_mean(error,name='mse')\n",
    "\n",
    "'''\n",
    "m_gradients = tf.gradients(mse , [m])[0]\n",
    "\n",
    "b_gradients = tf.gradients(mse , [b])[0]\n",
    "\n",
    "m_ops = tf.assign(m, m- (learning_rate * m_gradients))\n",
    "\n",
    "b_ops = tf.assign(b, b- (learning_rate * b_gradients))\n",
    "\n",
    "'''\n",
    "\n",
    "m_ops = optimizer.minimize(mse,var_list=[m]) \n",
    "\n",
    "b_ops = optimizer.minimize(mse,var_list=[b]) \n",
    "\n",
    "\n",
    "init = tf.global_variables_initializer()\n",
    "\n",
    "with tf.Session() as sess:\n",
    "    sess.run(init)\n",
    "\n",
    "    for i in range(epochs):\n",
    "        if i % 100 == 0 :\n",
    "            print(\"MSE = {}\".format(mse.eval()))\n",
    "        sess.run([m_ops,b_ops])\n",
    "    \n",
    "    print(\"Reduced MSE = {}\".format(mse.eval()))\n",
    "    print(\"Best m = {} ,b = {}\".format(m.eval(),b.eval()))"
   ]
  },
  {
   "cell_type": "markdown",
   "metadata": {},
   "source": [
    "# Mini-batch Gradient Descent"
   ]
  },
  {
   "cell_type": "code",
   "execution_count": 22,
   "metadata": {},
   "outputs": [
    {
     "name": "stdout",
     "output_type": "stream",
     "text": [
      "Best m = [[6.1880487e+18]\n",
      " [6.1270176e+18]\n",
      " [2.5369268e+18]\n",
      " [4.2534222e+18]\n",
      " [9.9428221e+18]\n",
      " [4.9338939e+20]\n",
      " [1.3064870e+19]\n",
      " [5.5675333e+18]] ,b = [[7.3539197e+18]]\n"
     ]
    }
   ],
   "source": [
    "reset_graph()\n",
    "\n",
    "m_,n=housing_data.data.shape\n",
    "\n",
    "scalar = StandardScaler()\n",
    "\n",
    "scaled_housing_data = scalar.fit_transform(housing_data.data)\n",
    "\n",
    "learning_rate=0.01\n",
    "epochs = 10\n",
    "batch_size = 100\n",
    "n_batches = int( np.ceil( m_ / batch_size) ) \n",
    "\n",
    "x = tf.placeholder(tf.float32 , shape=(None,n) , name='x' )\n",
    "y = tf.placeholder(tf.float32 , shape=(None,1) , name='y' )\n",
    "\n",
    "x_t = tf.transpose(x)\n",
    "\n",
    "m = tf.Variable(tf.random_uniform([n,1],-1.0,1.0),name=\"m\")\n",
    "b = tf.Variable(tf.random_uniform([1,1],-1.0,1.0),name=\"b\")\n",
    "\n",
    "y_pred= tf.matmul(x,m)+b\n",
    "\n",
    "error = tf.square(y_pred - y)\n",
    "mse=tf.reduce_mean(error,name='mse')\n",
    "\n",
    "\n",
    "optimizer = tf.train.MomentumOptimizer(learning_rate = learning_rate,momentum=0.9)\n",
    "\n",
    "mse = tf.reduce_mean(error,name='mse')\n",
    "\n",
    "'''\n",
    "m_gradients = tf.gradients(mse , [m])[0]\n",
    "\n",
    "b_gradients = tf.gradients(mse , [b])[0]\n",
    "\n",
    "m_ops = tf.assign(m, m- (learning_rate * m_gradients))\n",
    "\n",
    "b_ops = tf.assign(b, b- (learning_rate * b_gradients))\n",
    "\n",
    "'''\n",
    "\n",
    "m_ops = optimizer.minimize(mse,var_list=[m]) \n",
    "\n",
    "b_ops = optimizer.minimize(mse,var_list=[b]) \n",
    "\n",
    "def fetch_batch(epoch, batch_index, batch_size):\n",
    "    np.random.seed(epoch * n_batches + batch_index)  # not shown in the book\n",
    "    indices = np.random.randint(m_, size=batch_size) # not shown\n",
    "    X_batch = scaled_housing_data[indices]           # not shown\n",
    "    y_batch = housing.target.reshape(-1, 1)[indices] # not shown\n",
    "    return X_batch, y_batch\n",
    "\n",
    "init = tf.global_variables_initializer()\n",
    "\n",
    "mse_val = None\n",
    "\n",
    "with tf.Session() as sess:\n",
    "    sess.run(init)\n",
    "    for epoch in range(epochs):\n",
    "            \n",
    "        for batch_index in range(n_batches):\n",
    "            X_batch, y_batch = fetch_batch(epoch, batch_index, batch_size)\n",
    "            \n",
    "            # print( \"x = {} , y = {}\".format(X_batch.shape , y_batch.shape) )\n",
    "            \n",
    "            try:\n",
    "                mse_val , m_val , b_val = sess.run([mse,m_ops,b_ops], feed_dict={x: X_batch, y: y_batch})\n",
    "                \n",
    "                \n",
    "            except e :\n",
    "                print('error ',e)\n",
    "                print(X_batch,y_batch)\n",
    "\n",
    "    print(\"Best m = {} ,b = {}\".format(m.eval(),b.eval()))"
   ]
  },
  {
   "cell_type": "code",
   "execution_count": 23,
   "metadata": {},
   "outputs": [
    {
     "name": "stdout",
     "output_type": "stream",
     "text": [
      "n batches = 207\n",
      "best_theta  [[ 2.0714476 ]\n",
      " [ 0.8462012 ]\n",
      " [ 0.11558535]\n",
      " [-0.26835832]\n",
      " [ 0.32982782]\n",
      " [ 0.00608358]\n",
      " [ 0.07052915]\n",
      " [-0.87988573]\n",
      " [-0.8634251 ]]\n"
     ]
    }
   ],
   "source": [
    "n_epochs = 1000\n",
    "learning_rate = 0.01\n",
    "\n",
    "m_,n=housing_data.data.shape\n",
    "\n",
    "reset_graph()\n",
    "\n",
    "scaled_housing_data_plus_bias = np.c_[np.ones((m_, 1)), scaled_housing_data]\n",
    "\n",
    "X = tf.placeholder(tf.float32, shape=(None, n + 1), name=\"X\")\n",
    "y = tf.placeholder(tf.float32, shape=(None, 1), name=\"y\")\n",
    "\n",
    "\n",
    "theta = tf.Variable(tf.random_uniform([n + 1, 1], -1.0, 1.0, seed=42), name=\"theta\")\n",
    "y_pred = tf.matmul(X, theta, name=\"predictions\")\n",
    "error = y_pred - y\n",
    "mse = tf.reduce_mean(tf.square(error), name=\"mse\")\n",
    "optimizer = tf.train.GradientDescentOptimizer(learning_rate=learning_rate)\n",
    "training_op = optimizer.minimize(mse)\n",
    "\n",
    "init = tf.global_variables_initializer()\n",
    "\n",
    "batch_size = 100\n",
    "n_batches = int(np.ceil(m_ / batch_size))\n",
    "\n",
    "print('n batches = {}'.format(n_batches))\n",
    "\n",
    "def fetch_batch(epoch, batch_index, batch_size):\n",
    "    np.random.seed(epoch * n_batches + batch_index)  # not shown in the book\n",
    "    indices = np.random.randint(m_, size=batch_size)  # not shown\n",
    "    X_batch = scaled_housing_data_plus_bias[indices] # not shown\n",
    "    y_batch = housing.target.reshape(-1, 1)[indices] # not shown\n",
    "    return X_batch, y_batch\n",
    "\n",
    "with tf.Session() as sess:\n",
    "    sess.run(init)\n",
    "\n",
    "    for epoch in range(n_epochs):\n",
    "        for batch_index in range(n_batches):\n",
    "            X_batch, y_batch = fetch_batch(epoch, batch_index, batch_size)\n",
    "            sess.run(training_op, feed_dict={X: X_batch, y: y_batch})\n",
    "\n",
    "    best_theta = theta.eval()\n",
    "    print( 'best_theta ',best_theta)"
   ]
  },
  {
   "cell_type": "code",
   "execution_count": null,
   "metadata": {},
   "outputs": [],
   "source": []
  },
  {
   "cell_type": "code",
   "execution_count": null,
   "metadata": {},
   "outputs": [],
   "source": []
  },
  {
   "cell_type": "code",
   "execution_count": null,
   "metadata": {},
   "outputs": [],
   "source": []
  },
  {
   "cell_type": "code",
   "execution_count": null,
   "metadata": {},
   "outputs": [],
   "source": []
  },
  {
   "cell_type": "code",
   "execution_count": null,
   "metadata": {},
   "outputs": [],
   "source": []
  },
  {
   "cell_type": "code",
   "execution_count": null,
   "metadata": {},
   "outputs": [],
   "source": []
  },
  {
   "cell_type": "code",
   "execution_count": null,
   "metadata": {},
   "outputs": [],
   "source": []
  },
  {
   "cell_type": "code",
   "execution_count": null,
   "metadata": {},
   "outputs": [],
   "source": []
  },
  {
   "cell_type": "code",
   "execution_count": null,
   "metadata": {},
   "outputs": [],
   "source": []
  },
  {
   "cell_type": "code",
   "execution_count": null,
   "metadata": {},
   "outputs": [],
   "source": []
  },
  {
   "cell_type": "code",
   "execution_count": null,
   "metadata": {},
   "outputs": [],
   "source": []
  },
  {
   "cell_type": "code",
   "execution_count": null,
   "metadata": {},
   "outputs": [],
   "source": []
  },
  {
   "cell_type": "code",
   "execution_count": null,
   "metadata": {},
   "outputs": [],
   "source": []
  },
  {
   "cell_type": "code",
   "execution_count": null,
   "metadata": {},
   "outputs": [],
   "source": []
  }
 ],
 "metadata": {
  "kernelspec": {
   "display_name": "Python 3",
   "language": "python",
   "name": "python3"
  },
  "language_info": {
   "codemirror_mode": {
    "name": "ipython",
    "version": 3
   },
   "file_extension": ".py",
   "mimetype": "text/x-python",
   "name": "python",
   "nbconvert_exporter": "python",
   "pygments_lexer": "ipython3",
   "version": "3.7.3"
  }
 },
 "nbformat": 4,
 "nbformat_minor": 4
}

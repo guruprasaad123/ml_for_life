{
 "cells": [
  {
   "cell_type": "markdown",
   "metadata": {},
   "source": [
    "# Initialization "
   ]
  },
  {
   "cell_type": "code",
   "execution_count": 27,
   "metadata": {},
   "outputs": [],
   "source": [
    "import numpy as np \n",
    "from sklearn.datasets import fetch_california_housing\n",
    "from sklearn.preprocessing import StandardScaler \n",
    "import tensorflow as tf"
   ]
  },
  {
   "cell_type": "markdown",
   "metadata": {},
   "source": [
    "# Checking the tensorflow version"
   ]
  },
  {
   "cell_type": "code",
   "execution_count": 28,
   "metadata": {},
   "outputs": [
    {
     "name": "stdout",
     "output_type": "stream",
     "text": [
      "1.13.1\n"
     ]
    }
   ],
   "source": [
    "print(tf.__version__)"
   ]
  },
  {
   "cell_type": "code",
   "execution_count": 29,
   "metadata": {},
   "outputs": [],
   "source": [
    "x = tf.Variable(5,name=\"X\")\n",
    "y = tf.Variable(7,name=\"Y\")\n",
    "f=(x*x*y) + y +2\n",
    "f2=(x*x*y)\n",
    "result =None\n"
   ]
  },
  {
   "cell_type": "markdown",
   "metadata": {},
   "source": [
    "# Method 0\n",
    "## Using Initializer \n"
   ]
  },
  {
   "cell_type": "code",
   "execution_count": 30,
   "metadata": {},
   "outputs": [
    {
     "name": "stdout",
     "output_type": "stream",
     "text": [
      "X =>  Tensor(\"X_5/read:0\", shape=(), dtype=int32)\n",
      "Y =>  Tensor(\"Y_5/read:0\", shape=(), dtype=int32)\n",
      "result =>  184\n"
     ]
    }
   ],
   "source": [
    "sess = tf.Session()\n",
    "sess.run(x.initializer)\n",
    "\n",
    "print('X => ', x.value())\n",
    "\n",
    "sess.run(y.initializer)\n",
    "\n",
    "print('Y => ',y.value())\n",
    "result = sess.run(f)\n",
    "\n",
    "print('result => ',result)"
   ]
  },
  {
   "cell_type": "markdown",
   "metadata": {},
   "source": [
    "# Method 1\n",
    "## Intializing the Session"
   ]
  },
  {
   "cell_type": "code",
   "execution_count": 31,
   "metadata": {},
   "outputs": [
    {
     "name": "stdout",
     "output_type": "stream",
     "text": [
      "x =>  5\n",
      "y =>  7\n",
      "eval =>  184\n"
     ]
    }
   ],
   "source": [
    "with tf.Session() as sess:\n",
    "    x.initializer.run() #tf.get_default_session.run(x.initializer)\n",
    "    print('x => ',x.eval())\n",
    "    y.initializer.run()\n",
    "    print('y => ',y.eval())\n",
    "    result=f.eval()     #tf.get_default_session.run(f)\n",
    "    print('eval => ',f.eval())\n",
    " "
   ]
  },
  {
   "cell_type": "markdown",
   "metadata": {},
   "source": [
    "# Method 2\n",
    "## Using Global Variables Initializer"
   ]
  },
  {
   "cell_type": "code",
   "execution_count": 32,
   "metadata": {},
   "outputs": [
    {
     "name": "stdout",
     "output_type": "stream",
     "text": [
      "result  184\n"
     ]
    }
   ],
   "source": [
    "init = tf.global_variables_initializer()\n",
    "\n",
    "with tf.Session() as sess:\n",
    "    init.run() # handles all the initialisation of x , y\n",
    "    result = f.eval()\n",
    "    print('result ',result)"
   ]
  },
  {
   "cell_type": "markdown",
   "metadata": {},
   "source": [
    "# Method 3\n",
    "## InteractiveSession"
   ]
  },
  {
   "cell_type": "code",
   "execution_count": 33,
   "metadata": {},
   "outputs": [
    {
     "name": "stdout",
     "output_type": "stream",
     "text": [
      "is same graph =  True\n",
      "is same graph =  False\n",
      "is same graph =  True\n",
      "184\n",
      "175\n"
     ]
    }
   ],
   "source": [
    "init = tf.global_variables_initializer()\n",
    "sess = tf.InteractiveSession()\n",
    "init.run()\n",
    "result1,result2 = sess.run([f,f2]) #(x*x*y) will be reused\n",
    "sess.close()\n",
    "\n",
    "\n",
    "x1=  tf.Variable(2)\n",
    "same_graph = x1.graph is tf.get_default_graph()\n",
    "\n",
    "print('is same graph = ',same_graph)\n",
    "\n",
    "x2=None\n",
    "graph_1 = tf.Graph()\n",
    "with graph_1.as_default():\n",
    "    x2=tf.Variable(2)\n",
    "\n",
    "same_graph  = x2.graph is tf.get_default_graph()\n",
    "\n",
    "print('is same graph = ',same_graph)\n",
    "\n",
    "same_graph  = x2.graph is graph_1\n",
    "\n",
    "print('is same graph = ',same_graph)\n",
    "\n",
    "print(result1)\n",
    "print(result2)"
   ]
  },
  {
   "cell_type": "markdown",
   "metadata": {},
   "source": [
    "# Performing linear Regression - Normal Equations\n",
    "\n",
    "$$ \\theta = (X^T . X )^{-1} . X^T.Y  $$"
   ]
  },
  {
   "cell_type": "code",
   "execution_count": 51,
   "metadata": {},
   "outputs": [
    {
     "name": "stdout",
     "output_type": "stream",
     "text": [
      "result =>  [[-3.6959320e+01]\n",
      " [ 4.3698898e-01]\n",
      " [ 9.4245886e-03]\n",
      " [-1.0791138e-01]\n",
      " [ 6.4842808e-01]\n",
      " [-3.9986235e-06]\n",
      " [-3.7866351e-03]\n",
      " [-4.2142656e-01]\n",
      " [-4.3467718e-01]]\n"
     ]
    }
   ],
   "source": [
    "housing = fetch_california_housing()\n",
    "\n",
    "m , n = housing.data.shape\n",
    "\n",
    "data_bias = np.c_[np.ones((m,1)),housing.data]\n",
    "\n",
    "X = tf.constant(data_bias , dtype=tf.float32 , name='X')\n",
    "Y = tf.constant(housing.target.reshape(-1,1) , dtype=tf.float32 , name='Y')\n",
    "\n",
    "X_T = tf.transpose(X)\n",
    "theta = tf.matmul( tf.matmul( tf.matrix_inverse( tf.matmul(X_T ,X) ) , X_T ) , Y )\n",
    "\n",
    "with tf.Session() as sess:\n",
    "    result = sess.run(theta)\n",
    "    print('result => ',result)\n",
    "\n",
    "    "
   ]
  },
  {
   "cell_type": "markdown",
   "metadata": {},
   "source": [
    "# Linear Regression - Batch Gradient Descent"
   ]
  },
  {
   "cell_type": "code",
   "execution_count": 56,
   "metadata": {},
   "outputs": [
    {
     "name": "stdout",
     "output_type": "stream",
     "text": [
      "MSE = 4.607070446014404\n",
      "MSE = 5.530996799468994\n",
      "MSE = 17.370391845703125\n",
      "MSE = 40.125308990478516\n",
      "MSE = 73.79560852050781\n",
      "MSE = 118.38130950927734\n",
      "MSE = 173.88247680664062\n",
      "MSE = 240.29835510253906\n",
      "MSE = 317.6295166015625\n",
      "MSE = 405.875732421875\n",
      "Reduced MSE = 505.03717041015625\n",
      "Best m = [[ -7.718187 ]\n",
      " [ -6.460265 ]\n",
      " [ -3.2838817]\n",
      " [  2.1489718]\n",
      " [  2.819826 ]\n",
      " [-13.824228 ]\n",
      " [ -6.992586 ]\n",
      " [  5.747937 ]] ,b = [[0.38395333]]\n"
     ]
    }
   ],
   "source": [
    "housing_data = fetch_california_housing()\n",
    "\n",
    "m_,n=housing_data.data.shape\n",
    "\n",
    "housing_data_plus_bias = np.c_[np.ones((m_,1)),housing_data.data]\n",
    "\n",
    "scalar = StandardScaler()\n",
    "\n",
    "# scalar.fit(housing_data_plus_bias)\n",
    "\n",
    "scaled_housing_data_plus_bias = scalar.fit_transform(housing_data_plus_bias)\n",
    "\n",
    "scaled_housing_data = scalar.fit_transform(housing_data.data)\n",
    "\n",
    "# print(scaled_housing_data_plus_bias)\n",
    "\n",
    "# print(housing_data_plus_bias)\n",
    "\n",
    "# print(housing_data_plus_bias.shape)\n",
    "\n",
    "learning_rate=0.01\n",
    "epochs = 1000\n",
    "\n",
    "x = tf.constant(scaled_housing_data , dtype=tf.float32 , name='x')\n",
    "\n",
    "y = tf.constant(housing_data.target.reshape(-1,1) , dtype=tf.float32 , name='y')\n",
    "\n",
    "x_t = tf.transpose(x)\n",
    "# theta = tf.matmul(tf.matrix_inverse(tf.matmul(x_t,x)),tf.matmul(x_t,y))\n",
    "\n",
    "# theta = tf.Variable(tf.random_uniform([n+1,1],-1.0,1.0),name=\"theta\")\n",
    "\n",
    "m = tf.Variable(tf.random_uniform([n,1],-1.0,1.0),name=\"m\")\n",
    "b = tf.Variable(tf.random_uniform([1,1],-1.0,1.0),name=\"b\")\n",
    "\n",
    "y_pred= tf.matmul(x,m)+b\n",
    "\n",
    "error = tf.square(y_pred - y)\n",
    "mse=tf.reduce_mean(error,name='mse')\n",
    "\n",
    "#y_ = (tf.matmul(x,m)+b)\n",
    "\n",
    "m_gradients = tf.Variable(-2/m_ * tf.matmul(x_t,y-y_pred))\n",
    "\n",
    "b_gradients = tf.Variable((-2/m_) * tf.reduce_mean(y-y_pred))\n",
    "\n",
    "# m_gradients_upd = tf.assign(m_gradients,m_gradients)\n",
    "\n",
    "# b_gradients_upd = tf.assign(b_gradients,b_gradients)\n",
    "\n",
    "\n",
    "m_ops = tf.assign(m, m- (learning_rate * m_gradients))\n",
    "b_ops = tf.assign(b, b- (learning_rate * b_gradients))\n",
    "\n",
    "\n",
    "init = tf.global_variables_initializer()\n",
    "\n",
    "with tf.Session() as sess:\n",
    "    sess.run(init)\n",
    "\n",
    "    for i in range(epochs):\n",
    "        if i % 100 == 0 :\n",
    "            print(\"MSE = {}\".format(mse.eval()))\n",
    "        sess.run([m_ops,b_ops])\n",
    "    \n",
    "    print(\"Reduced MSE = {}\".format(mse.eval()))\n",
    "    print(\"Best m = {} ,b = {}\".format(m.eval(),b.eval()))"
   ]
  },
  {
   "cell_type": "markdown",
   "metadata": {},
   "source": [
    "# Linear Regression - using tensorflow Autodiff()"
   ]
  },
  {
   "cell_type": "code",
   "execution_count": 57,
   "metadata": {},
   "outputs": [
    {
     "name": "stdout",
     "output_type": "stream",
     "text": [
      "MSE = 5.24317741394043\n",
      "MSE = 0.7125731706619263\n",
      "MSE = 0.6129705905914307\n",
      "MSE = 0.5874622464179993\n",
      "MSE = 0.569882333278656\n",
      "MSE = 0.5572136044502258\n",
      "MSE = 0.5480712056159973\n",
      "MSE = 0.5414726138114929\n",
      "MSE = 0.5367095470428467\n",
      "MSE = 0.533271074295044\n",
      "Reduced MSE = 0.5307886004447937\n",
      "Best m = [[ 0.7717257 ]\n",
      " [ 0.1394554 ]\n",
      " [-0.09712045]\n",
      " [ 0.14048083]\n",
      " [ 0.00378032]\n",
      " [-0.03984328]\n",
      " [-0.8033282 ]\n",
      " [-0.76438993]] ,b = [[2.0685523]]\n"
     ]
    }
   ],
   "source": [
    "m_,n=housing_data.data.shape\n",
    "\n",
    "# housing_data_plus_bias = np.c_[np.ones((m_,1)),housing_data.data]\n",
    "\n",
    "# housing_data = housing_data.data\n",
    "\n",
    "\n",
    "scalar = StandardScaler()\n",
    "\n",
    "#scalar.fit(housing_data_plus_bias)\n",
    "\n",
    "scaled_housing_data = scalar.fit_transform(housing_data.data)\n",
    "\n",
    "#print(scaled_housing_data_plus_bias)\n",
    "\n",
    "# print(housing_data_plus_bias)\n",
    "\n",
    "# print(housing_data_plus_bias.shape)\n",
    "\n",
    "learning_rate=0.01\n",
    "epochs = 1000\n",
    "\n",
    "x = tf.constant(scaled_housing_data ,dtype=tf.float32,name='x')\n",
    "y = tf.constant(housing_data.target.reshape(-1,1) ,dtype=tf.float32,name='y')\n",
    "x_t = tf.transpose(x)\n",
    "#theta = tf.matmul(tf.matrix_inverse(tf.matmul(x_t,x)),tf.matmul(x_t,y))\n",
    "\n",
    "#theta = tf.Variable(tf.random_uniform([n+1,1],-1.0,1.0),name=\"theta\")\n",
    "\n",
    "m = tf.Variable(tf.random_uniform([n,1],-1.0,1.0),name=\"m\")\n",
    "b = tf.Variable(tf.random_uniform([1,1],-1.0,1.0),name=\"b\")\n",
    "\n",
    "y_pred= tf.matmul(x,m)+b\n",
    "\n",
    "error = tf.square(y_pred - y)\n",
    "mse=tf.reduce_mean(error,name='mse')\n",
    "\n",
    "#y_ = (tf.matmul(x,m)+b)\n",
    "\n",
    "# m_gradients = tf.Variable(-2/m_ * tf.matmul(x_t,y-y_pred))\n",
    "\n",
    "# b_gradients = tf.Variable((-2/m_) * tf.reduce_mean(y-y_pred))\n",
    "\n",
    "m_gradients = tf.gradients(mse , [m])[0]\n",
    "\n",
    "b_gradients = tf.gradients(mse , [b])[0]\n",
    "\n",
    "# m_gradients_upd = tf.assign(m_gradients,m_gradients)\n",
    "\n",
    "# b_gradients_upd = tf.assign(b_gradients,b_gradients)\n",
    "\n",
    "\n",
    "m_ops = tf.assign(m, m- (learning_rate * m_gradients))\n",
    "b_ops = tf.assign(b, b- (learning_rate * b_gradients))\n",
    "\n",
    "\n",
    "init = tf.global_variables_initializer()\n",
    "\n",
    "with tf.Session() as sess:\n",
    "    sess.run(init)\n",
    "\n",
    "    for i in range(epochs):\n",
    "        if i % 100 == 0 :\n",
    "            print(\"MSE = {}\".format(mse.eval()))\n",
    "        sess.run([m_ops,b_ops])\n",
    "    \n",
    "    print(\"Reduced MSE = {}\".format(mse.eval()))\n",
    "    print(\"Best m = {} ,b = {}\".format(m.eval(),b.eval()))"
   ]
  },
  {
   "cell_type": "code",
   "execution_count": null,
   "metadata": {},
   "outputs": [],
   "source": []
  },
  {
   "cell_type": "code",
   "execution_count": null,
   "metadata": {},
   "outputs": [],
   "source": []
  },
  {
   "cell_type": "code",
   "execution_count": null,
   "metadata": {},
   "outputs": [],
   "source": []
  },
  {
   "cell_type": "code",
   "execution_count": null,
   "metadata": {},
   "outputs": [],
   "source": []
  },
  {
   "cell_type": "code",
   "execution_count": null,
   "metadata": {},
   "outputs": [],
   "source": []
  },
  {
   "cell_type": "code",
   "execution_count": null,
   "metadata": {},
   "outputs": [],
   "source": []
  },
  {
   "cell_type": "code",
   "execution_count": null,
   "metadata": {},
   "outputs": [],
   "source": []
  },
  {
   "cell_type": "code",
   "execution_count": null,
   "metadata": {},
   "outputs": [],
   "source": []
  },
  {
   "cell_type": "code",
   "execution_count": null,
   "metadata": {},
   "outputs": [],
   "source": []
  },
  {
   "cell_type": "code",
   "execution_count": null,
   "metadata": {},
   "outputs": [],
   "source": []
  },
  {
   "cell_type": "code",
   "execution_count": null,
   "metadata": {},
   "outputs": [],
   "source": []
  },
  {
   "cell_type": "code",
   "execution_count": null,
   "metadata": {},
   "outputs": [],
   "source": []
  },
  {
   "cell_type": "code",
   "execution_count": null,
   "metadata": {},
   "outputs": [],
   "source": []
  },
  {
   "cell_type": "code",
   "execution_count": null,
   "metadata": {},
   "outputs": [],
   "source": []
  },
  {
   "cell_type": "code",
   "execution_count": null,
   "metadata": {},
   "outputs": [],
   "source": []
  },
  {
   "cell_type": "code",
   "execution_count": null,
   "metadata": {},
   "outputs": [],
   "source": []
  },
  {
   "cell_type": "code",
   "execution_count": null,
   "metadata": {},
   "outputs": [],
   "source": []
  }
 ],
 "metadata": {
  "kernelspec": {
   "display_name": "Python 3",
   "language": "python",
   "name": "python3"
  },
  "language_info": {
   "codemirror_mode": {
    "name": "ipython",
    "version": 3
   },
   "file_extension": ".py",
   "mimetype": "text/x-python",
   "name": "python",
   "nbconvert_exporter": "python",
   "pygments_lexer": "ipython3",
   "version": "3.7.3"
  }
 },
 "nbformat": 4,
 "nbformat_minor": 4
}

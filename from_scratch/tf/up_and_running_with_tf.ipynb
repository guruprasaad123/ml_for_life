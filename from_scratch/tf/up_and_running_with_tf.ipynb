{
 "cells": [
  {
   "cell_type": "markdown",
   "metadata": {},
   "source": [
    "# Initialization "
   ]
  },
  {
   "cell_type": "code",
   "execution_count": 1,
   "metadata": {},
   "outputs": [],
   "source": [
    "import numpy as np \n",
    "from sklearn.datasets import fetch_california_housing\n",
    "from sklearn.preprocessing import StandardScaler\n",
    "from sklearn.preprocessing import OneHotEncoder \n",
    "import tensorflow as tf\n",
    "import matplotlib.pyplot as plt"
   ]
  },
  {
   "cell_type": "markdown",
   "metadata": {},
   "source": [
    "# Checking the tensorflow version"
   ]
  },
  {
   "cell_type": "code",
   "execution_count": 2,
   "metadata": {},
   "outputs": [
    {
     "name": "stdout",
     "output_type": "stream",
     "text": [
      "1.15.0\n"
     ]
    }
   ],
   "source": [
    "print(tf.__version__)"
   ]
  },
  {
   "cell_type": "code",
   "execution_count": 3,
   "metadata": {},
   "outputs": [],
   "source": [
    "x = tf.Variable(5,name=\"X\")\n",
    "y = tf.Variable(7,name=\"Y\")\n",
    "f=(x*x*y) + y +2\n",
    "f2=(x*x*y)\n",
    "result =None\n"
   ]
  },
  {
   "cell_type": "code",
   "execution_count": 4,
   "metadata": {},
   "outputs": [],
   "source": [
    "# to make this notebook's output stable across runs\n",
    "def reset_graph(seed=42):\n",
    "    tf.reset_default_graph()\n",
    "    tf.set_random_seed(seed)\n",
    "    np.random.seed(seed)"
   ]
  },
  {
   "cell_type": "markdown",
   "metadata": {},
   "source": [
    "# Method 0\n",
    "## Using Initializer \n"
   ]
  },
  {
   "cell_type": "code",
   "execution_count": 5,
   "metadata": {},
   "outputs": [
    {
     "name": "stdout",
     "output_type": "stream",
     "text": [
      "X =>  Tensor(\"X/read:0\", shape=(), dtype=int32)\n",
      "Y =>  Tensor(\"Y/read:0\", shape=(), dtype=int32)\n",
      "result =>  184\n"
     ]
    }
   ],
   "source": [
    "sess = tf.Session()\n",
    "sess.run(x.initializer)\n",
    "\n",
    "print('X => ', x.value())\n",
    "\n",
    "sess.run(y.initializer)\n",
    "\n",
    "print('Y => ',y.value())\n",
    "result = sess.run(f)\n",
    "\n",
    "print('result => ',result)"
   ]
  },
  {
   "cell_type": "markdown",
   "metadata": {},
   "source": [
    "# Method 1\n",
    "## Intializing the Session"
   ]
  },
  {
   "cell_type": "code",
   "execution_count": 6,
   "metadata": {},
   "outputs": [
    {
     "name": "stdout",
     "output_type": "stream",
     "text": [
      "x =>  5\n",
      "y =>  7\n",
      "eval =>  184\n"
     ]
    }
   ],
   "source": [
    "with tf.Session() as sess:\n",
    "    x.initializer.run() #tf.get_default_session.run(x.initializer)\n",
    "    print('x => ',x.eval())\n",
    "    y.initializer.run()\n",
    "    print('y => ',y.eval())\n",
    "    result=f.eval()     #tf.get_default_session.run(f)\n",
    "    print('eval => ',f.eval())\n",
    " "
   ]
  },
  {
   "cell_type": "markdown",
   "metadata": {},
   "source": [
    "# Method 2\n",
    "## Using Global Variables Initializer"
   ]
  },
  {
   "cell_type": "code",
   "execution_count": 7,
   "metadata": {},
   "outputs": [
    {
     "name": "stdout",
     "output_type": "stream",
     "text": [
      "result  184\n"
     ]
    }
   ],
   "source": [
    "init = tf.global_variables_initializer()\n",
    "\n",
    "with tf.Session() as sess:\n",
    "    init.run() # handles all the initialisation of x , y\n",
    "    result = f.eval()\n",
    "    print('result ',result)"
   ]
  },
  {
   "cell_type": "markdown",
   "metadata": {},
   "source": [
    "# Method 3\n",
    "## InteractiveSession"
   ]
  },
  {
   "cell_type": "code",
   "execution_count": 8,
   "metadata": {},
   "outputs": [
    {
     "name": "stdout",
     "output_type": "stream",
     "text": [
      "is same graph =  True\n",
      "is same graph =  False\n",
      "is same graph =  True\n",
      "184\n",
      "175\n"
     ]
    }
   ],
   "source": [
    "init = tf.global_variables_initializer()\n",
    "sess = tf.InteractiveSession()\n",
    "init.run()\n",
    "result1,result2 = sess.run([f,f2]) #(x*x*y) will be reused\n",
    "sess.close()\n",
    "\n",
    "\n",
    "x1=  tf.Variable(2)\n",
    "same_graph = x1.graph is tf.get_default_graph()\n",
    "\n",
    "print('is same graph = ',same_graph)\n",
    "\n",
    "x2=None\n",
    "graph_1 = tf.Graph()\n",
    "with graph_1.as_default():\n",
    "    x2=tf.Variable(2)\n",
    "\n",
    "same_graph  = x2.graph is tf.get_default_graph()\n",
    "\n",
    "print('is same graph = ',same_graph)\n",
    "\n",
    "same_graph  = x2.graph is graph_1\n",
    "\n",
    "print('is same graph = ',same_graph)\n",
    "\n",
    "print(result1)\n",
    "print(result2)"
   ]
  },
  {
   "cell_type": "markdown",
   "metadata": {},
   "source": [
    "# Performing linear Regression - Normal Equations\n",
    "\n",
    "$$ \\theta = (X^T . X )^{-1} . X^T.Y  $$"
   ]
  },
  {
   "cell_type": "code",
   "execution_count": 9,
   "metadata": {},
   "outputs": [
    {
     "name": "stdout",
     "output_type": "stream",
     "text": [
      "result =>  [[-3.6894890e+01]\n",
      " [ 4.3661433e-01]\n",
      " [ 9.4453208e-03]\n",
      " [-1.0704148e-01]\n",
      " [ 6.4345831e-01]\n",
      " [-3.9632569e-06]\n",
      " [-3.7880042e-03]\n",
      " [-4.2093179e-01]\n",
      " [-4.3400639e-01]]\n"
     ]
    }
   ],
   "source": [
    "housing = fetch_california_housing()\n",
    "\n",
    "m , n = housing.data.shape\n",
    "\n",
    "data_bias = np.c_[np.ones((m,1)),housing.data]\n",
    "\n",
    "X = tf.constant(data_bias , dtype=tf.float32 , name='X')\n",
    "Y = tf.constant(housing.target.reshape(-1,1) , dtype=tf.float32 , name='Y')\n",
    "\n",
    "X_T = tf.transpose(X)\n",
    "theta = tf.matmul( tf.matmul( tf.matrix_inverse( tf.matmul(X_T ,X) ) , X_T ) , Y )\n",
    "\n",
    "with tf.Session() as sess:\n",
    "    result = sess.run(theta)\n",
    "    print('result => ',result)\n",
    "\n",
    "    "
   ]
  },
  {
   "cell_type": "markdown",
   "metadata": {},
   "source": [
    "# Linear Regression - Batch Gradient Descent"
   ]
  },
  {
   "cell_type": "code",
   "execution_count": 10,
   "metadata": {},
   "outputs": [
    {
     "name": "stdout",
     "output_type": "stream",
     "text": [
      "WARNING:tensorflow:From /home/buckaroo/nlp/lib/python3.7/site-packages/tensorflow_core/python/ops/variables.py:2825: Variable.initialized_value (from tensorflow.python.ops.variables) is deprecated and will be removed in a future version.\n",
      "Instructions for updating:\n",
      "Use Variable.read_value. Variables in 2.X are initialized automatically both in eager and graph (inside tf.defun) contexts.\n",
      "MSE = 11.57770824432373\n",
      "MSE = 12.20603084564209\n",
      "MSE = 44.65787124633789\n",
      "MSE = 108.93296813964844\n",
      "MSE = 205.03067016601562\n",
      "MSE = 332.9512023925781\n",
      "MSE = 492.6972961425781\n",
      "MSE = 684.2667846679688\n",
      "MSE = 907.6602783203125\n",
      "MSE = 1162.877197265625\n",
      "Reduced MSE = 1449.91796875\n",
      "Best m = [[ 31.849476 ]\n",
      " [ -9.875878 ]\n",
      " [ -2.3131578]\n",
      " [-14.827237 ]\n",
      " [ -7.745752 ]\n",
      " [ -3.1800406]\n",
      " [ -4.2903366]\n",
      " [ -1.2550077]] ,b = [[-0.5899079]]\n"
     ]
    }
   ],
   "source": [
    "housing_data = fetch_california_housing()\n",
    "\n",
    "m_,n=housing_data.data.shape\n",
    "\n",
    "housing_data_plus_bias = np.c_[np.ones((m_,1)),housing_data.data]\n",
    "\n",
    "scalar = StandardScaler()\n",
    "\n",
    "# scalar.fit(housing_data_plus_bias)\n",
    "\n",
    "scaled_housing_data_plus_bias = scalar.fit_transform(housing_data_plus_bias)\n",
    "\n",
    "scaled_housing_data = scalar.fit_transform(housing_data.data)\n",
    "\n",
    "# print(scaled_housing_data_plus_bias)\n",
    "\n",
    "# print(housing_data_plus_bias)\n",
    "\n",
    "# print(housing_data_plus_bias.shape)\n",
    "\n",
    "learning_rate=0.01\n",
    "epochs = 1000\n",
    "\n",
    "x = tf.constant(scaled_housing_data , dtype=tf.float32 , name='x')\n",
    "\n",
    "y = tf.constant(housing_data.target.reshape(-1,1) , dtype=tf.float32 , name='y')\n",
    "\n",
    "x_t = tf.transpose(x)\n",
    "# theta = tf.matmul(tf.matrix_inverse(tf.matmul(x_t,x)),tf.matmul(x_t,y))\n",
    "\n",
    "# theta = tf.Variable(tf.random_uniform([n+1,1],-1.0,1.0),name=\"theta\")\n",
    "\n",
    "m = tf.Variable(tf.random_uniform([n,1],-1.0,1.0),name=\"m\")\n",
    "b = tf.Variable(tf.random_uniform([1,1],-1.0,1.0),name=\"b\")\n",
    "\n",
    "y_pred= tf.matmul(x,m)+b\n",
    "\n",
    "error = tf.square(y_pred - y)\n",
    "mse=tf.reduce_mean(error,name='mse')\n",
    "\n",
    "#y_ = (tf.matmul(x,m)+b)\n",
    "\n",
    "m_gradients = tf.Variable(-2/m_ * tf.matmul(x_t,y-y_pred))\n",
    "\n",
    "b_gradients = tf.Variable((-2/m_) * tf.reduce_mean(y-y_pred))\n",
    "\n",
    "# m_gradients_upd = tf.assign(m_gradients,m_gradients)\n",
    "\n",
    "# b_gradients_upd = tf.assign(b_gradients,b_gradients)\n",
    "\n",
    "\n",
    "m_ops = tf.assign(m, m- (learning_rate * m_gradients))\n",
    "b_ops = tf.assign(b, b- (learning_rate * b_gradients))\n",
    "\n",
    "\n",
    "init = tf.global_variables_initializer()\n",
    "\n",
    "with tf.Session() as sess:\n",
    "    sess.run(init)\n",
    "\n",
    "    for i in range(epochs):\n",
    "        if i % 100 == 0 :\n",
    "            print(\"MSE = {}\".format(mse.eval()))\n",
    "        sess.run([m_ops,b_ops])\n",
    "    \n",
    "    print(\"Reduced MSE = {}\".format(mse.eval()))\n",
    "    print(\"Best m = {} ,b = {}\".format(m.eval(),b.eval()))"
   ]
  },
  {
   "cell_type": "markdown",
   "metadata": {},
   "source": [
    "# Linear Regression - using tensorflow Autodiff()"
   ]
  },
  {
   "cell_type": "code",
   "execution_count": 11,
   "metadata": {},
   "outputs": [
    {
     "name": "stdout",
     "output_type": "stream",
     "text": [
      "MSE = 11.62106990814209\n",
      "MSE = 0.7647311687469482\n",
      "MSE = 0.5601561069488525\n",
      "MSE = 0.5491015911102295\n",
      "MSE = 0.544135332107544\n",
      "MSE = 0.5403443574905396\n",
      "MSE = 0.5373280644416809\n",
      "MSE = 0.5349110960960388\n",
      "MSE = 0.5329661965370178\n",
      "MSE = 0.5313956141471863\n",
      "Reduced MSE = 0.5301228165626526\n",
      "Best m = [[ 0.89695215]\n",
      " [ 0.14084747]\n",
      " [-0.37502548]\n",
      " [ 0.38845032]\n",
      " [ 0.00266048]\n",
      " [-0.04263091]\n",
      " [-0.6755775 ]\n",
      " [-0.6532125 ]] ,b = [[2.0685523]]\n"
     ]
    }
   ],
   "source": [
    "m_,n=housing_data.data.shape\n",
    "\n",
    "scalar = StandardScaler()\n",
    "\n",
    "scaled_housing_data = scalar.fit_transform(housing_data.data)\n",
    "\n",
    "learning_rate=0.01\n",
    "epochs = 1000\n",
    "\n",
    "x = tf.constant(scaled_housing_data ,dtype=tf.float32,name='x')\n",
    "y = tf.constant(housing_data.target.reshape(-1,1) ,dtype=tf.float32,name='y')\n",
    "x_t = tf.transpose(x)\n",
    "\n",
    "m = tf.Variable(tf.random_uniform([n,1],-1.0,1.0),name=\"m\")\n",
    "b = tf.Variable(tf.random_uniform([1,1],-1.0,1.0),name=\"b\")\n",
    "\n",
    "y_pred= tf.matmul(x,m)+b\n",
    "\n",
    "error = tf.square(y_pred - y)\n",
    "mse=tf.reduce_mean(error,name='mse')\n",
    "\n",
    "m_gradients = tf.gradients(mse , [m])[0]\n",
    "\n",
    "b_gradients = tf.gradients(mse , [b])[0]\n",
    "\n",
    "m_ops = tf.assign(m, m- (learning_rate * m_gradients))\n",
    "b_ops = tf.assign(b, b- (learning_rate * b_gradients))\n",
    "\n",
    "init = tf.global_variables_initializer()\n",
    "\n",
    "with tf.Session() as sess:\n",
    "    sess.run(init)\n",
    "\n",
    "    for i in range(epochs):\n",
    "        if i % 100 == 0 :\n",
    "            print(\"MSE = {}\".format(mse.eval()))\n",
    "        sess.run([m_ops,b_ops])\n",
    "    \n",
    "    print(\"Reduced MSE = {}\".format(mse.eval()))\n",
    "    print(\"Best m = {} ,b = {}\".format(m.eval(),b.eval()))"
   ]
  },
  {
   "cell_type": "markdown",
   "metadata": {},
   "source": [
    "# Linear Regression - Using Optimizers\n",
    "\n",
    "    - GradientDescent Optimizer\n",
    "    - Momentem Optimizer"
   ]
  },
  {
   "cell_type": "code",
   "execution_count": 12,
   "metadata": {},
   "outputs": [
    {
     "name": "stdout",
     "output_type": "stream",
     "text": [
      "MSE = 15.632010459899902\n",
      "MSE = 0.821884274482727\n",
      "MSE = 0.6508906483650208\n",
      "MSE = 0.6156061887741089\n",
      "MSE = 0.5916960835456848\n",
      "MSE = 0.5742427706718445\n",
      "MSE = 0.5614352226257324\n",
      "MSE = 0.5520127415657043\n",
      "MSE = 0.5450626015663147\n",
      "MSE = 0.5399214625358582\n",
      "Reduced MSE = 0.536106526851654\n",
      "Best m = [[ 0.84867567]\n",
      " [ 0.1570636 ]\n",
      " [-0.23655543]\n",
      " [ 0.25316438]\n",
      " [ 0.00918661]\n",
      " [-0.0429734 ]\n",
      " [-0.6027039 ]\n",
      " [-0.5724339 ]] ,b = [[2.0685523]]\n"
     ]
    }
   ],
   "source": [
    "m_,n=housing_data.data.shape\n",
    "\n",
    "scalar = StandardScaler()\n",
    "\n",
    "scaled_housing_data = scalar.fit_transform(housing_data.data)\n",
    "\n",
    "learning_rate=0.01\n",
    "epochs = 1000\n",
    "\n",
    "x = tf.constant(scaled_housing_data ,dtype=tf.float32,name='x')\n",
    "y = tf.constant(housing_data.target.reshape(-1,1) ,dtype=tf.float32,name='y')\n",
    "x_t = tf.transpose(x)\n",
    "\n",
    "m = tf.Variable(tf.random_uniform([n,1],-1.0,1.0),name=\"m\")\n",
    "b = tf.Variable(tf.random_uniform([1,1],-1.0,1.0),name=\"b\")\n",
    "\n",
    "y_pred= tf.matmul(x,m)+b\n",
    "\n",
    "error = tf.square(y_pred - y)\n",
    "\n",
    "# Optimiser \n",
    "\n",
    "# learning_rate = 0.01;\n",
    "optimizer = tf.train.GradientDescentOptimizer(learning_rate = learning_rate)\n",
    "\n",
    "mse = tf.reduce_mean(error,name='mse')\n",
    "\n",
    "'''\n",
    "m_gradients = tf.gradients(mse , [m])[0]\n",
    "\n",
    "b_gradients = tf.gradients(mse , [b])[0]\n",
    "\n",
    "m_ops = tf.assign(m, m- (learning_rate * m_gradients))\n",
    "\n",
    "b_ops = tf.assign(b, b- (learning_rate * b_gradients))\n",
    "\n",
    "'''\n",
    "\n",
    "m_ops = optimizer.minimize(mse,var_list=[m]) \n",
    "\n",
    "b_ops = optimizer.minimize(mse,var_list=[b]) \n",
    "\n",
    "\n",
    "init = tf.global_variables_initializer()\n",
    "\n",
    "with tf.Session() as sess:\n",
    "    sess.run(init)\n",
    "\n",
    "    for i in range(epochs):\n",
    "        if i % 100 == 0 :\n",
    "            print(\"MSE = {}\".format(mse.eval()))\n",
    "        sess.run([m_ops,b_ops])\n",
    "    \n",
    "    print(\"Reduced MSE = {}\".format(mse.eval()))\n",
    "    print(\"Best m = {} ,b = {}\".format(m.eval(),b.eval()))"
   ]
  },
  {
   "cell_type": "code",
   "execution_count": 13,
   "metadata": {},
   "outputs": [
    {
     "name": "stdout",
     "output_type": "stream",
     "text": [
      "MSE = 8.185461044311523\n",
      "MSE = 0.5329994559288025\n",
      "MSE = 0.5254455804824829\n",
      "MSE = 0.5244703888893127\n",
      "MSE = 0.5243409276008606\n",
      "MSE = 0.524323582649231\n",
      "MSE = 0.5243213176727295\n",
      "MSE = 0.5243210196495056\n",
      "MSE = 0.5243210196495056\n",
      "MSE = 0.5243209600448608\n",
      "Reduced MSE = 0.5243209600448608\n",
      "Best m = [[ 0.82963145]\n",
      " [ 0.11875387]\n",
      " [-0.2655496 ]\n",
      " [ 0.305715  ]\n",
      " [-0.00450234]\n",
      " [-0.03932672]\n",
      " [-0.8998584 ]\n",
      " [-0.87051505]] ,b = [[2.0685577]]\n"
     ]
    }
   ],
   "source": [
    "m_,n=housing_data.data.shape\n",
    "\n",
    "scalar = StandardScaler()\n",
    "\n",
    "scaled_housing_data = scalar.fit_transform(housing_data.data)\n",
    "\n",
    "learning_rate=0.01\n",
    "epochs = 1000\n",
    "\n",
    "x = tf.constant(scaled_housing_data ,dtype=tf.float32,name='x')\n",
    "y = tf.constant(housing_data.target.reshape(-1,1) ,dtype=tf.float32,name='y')\n",
    "x_t = tf.transpose(x)\n",
    "\n",
    "m = tf.Variable(tf.random_uniform([n,1],-1.0,1.0),name=\"m\")\n",
    "b = tf.Variable(tf.random_uniform([1,1],-1.0,1.0),name=\"b\")\n",
    "\n",
    "y_pred= tf.matmul(x,m)+b\n",
    "\n",
    "error = tf.square(y_pred - y)\n",
    "\n",
    "# Optimiser \n",
    "\n",
    "# learning_rate = 0.01;\n",
    "optimizer = tf.train.MomentumOptimizer(learning_rate = learning_rate,momentum=0.9)\n",
    "\n",
    "mse = tf.reduce_mean(error,name='mse')\n",
    "\n",
    "'''\n",
    "m_gradients = tf.gradients(mse , [m])[0]\n",
    "\n",
    "b_gradients = tf.gradients(mse , [b])[0]\n",
    "\n",
    "m_ops = tf.assign(m, m- (learning_rate * m_gradients))\n",
    "\n",
    "b_ops = tf.assign(b, b- (learning_rate * b_gradients))\n",
    "\n",
    "'''\n",
    "\n",
    "m_ops = optimizer.minimize(mse,var_list=[m]) \n",
    "\n",
    "b_ops = optimizer.minimize(mse,var_list=[b]) \n",
    "\n",
    "\n",
    "init = tf.global_variables_initializer()\n",
    "\n",
    "with tf.Session() as sess:\n",
    "    sess.run(init)\n",
    "\n",
    "    for i in range(epochs):\n",
    "        if i % 100 == 0 :\n",
    "            print(\"MSE = {}\".format(mse.eval()))\n",
    "        sess.run([m_ops,b_ops])\n",
    "    \n",
    "    print(\"Reduced MSE = {}\".format(mse.eval()))\n",
    "    print(\"Best m = {} ,b = {}\".format(m.eval(),b.eval()))"
   ]
  },
  {
   "cell_type": "markdown",
   "metadata": {},
   "source": [
    "# Mini-batch Gradient Descent"
   ]
  },
  {
   "cell_type": "code",
   "execution_count": 14,
   "metadata": {},
   "outputs": [
    {
     "name": "stdout",
     "output_type": "stream",
     "text": [
      "Best m = [[6.1880487e+18]\n",
      " [6.1270176e+18]\n",
      " [2.5369268e+18]\n",
      " [4.2534222e+18]\n",
      " [9.9428221e+18]\n",
      " [4.9338939e+20]\n",
      " [1.3064870e+19]\n",
      " [5.5675333e+18]] ,b = [[7.3539197e+18]]\n"
     ]
    }
   ],
   "source": [
    "reset_graph()\n",
    "\n",
    "m_,n=housing_data.data.shape\n",
    "\n",
    "scalar = StandardScaler()\n",
    "\n",
    "scaled_housing_data = scalar.fit_transform(housing_data.data)\n",
    "\n",
    "learning_rate=0.01\n",
    "epochs = 10\n",
    "batch_size = 100\n",
    "n_batches = int( np.ceil( m_ / batch_size) ) \n",
    "\n",
    "x = tf.placeholder(tf.float32 , shape=(None,n) , name='x' )\n",
    "y = tf.placeholder(tf.float32 , shape=(None,1) , name='y' )\n",
    "\n",
    "x_t = tf.transpose(x)\n",
    "\n",
    "m = tf.Variable(tf.random_uniform([n,1],-1.0,1.0),name=\"m\")\n",
    "b = tf.Variable(tf.random_uniform([1,1],-1.0,1.0),name=\"b\")\n",
    "\n",
    "y_pred= tf.matmul(x,m)+b\n",
    "\n",
    "error = tf.square(y_pred - y)\n",
    "mse=tf.reduce_mean(error,name='mse')\n",
    "\n",
    "\n",
    "optimizer = tf.train.MomentumOptimizer(learning_rate = learning_rate,momentum=0.9)\n",
    "\n",
    "mse = tf.reduce_mean(error,name='mse')\n",
    "\n",
    "'''\n",
    "m_gradients = tf.gradients(mse , [m])[0]\n",
    "\n",
    "b_gradients = tf.gradients(mse , [b])[0]\n",
    "\n",
    "m_ops = tf.assign(m, m- (learning_rate * m_gradients))\n",
    "\n",
    "b_ops = tf.assign(b, b- (learning_rate * b_gradients))\n",
    "\n",
    "'''\n",
    "\n",
    "m_ops = optimizer.minimize(mse,var_list=[m]) \n",
    "\n",
    "b_ops = optimizer.minimize(mse,var_list=[b]) \n",
    "\n",
    "def fetch_batch(epoch, batch_index, batch_size):\n",
    "    np.random.seed(epoch * n_batches + batch_index)  # not shown in the book\n",
    "    indices = np.random.randint(m_, size=batch_size) # not shown\n",
    "    X_batch = scaled_housing_data[indices]           # not shown\n",
    "    y_batch = housing.target.reshape(-1, 1)[indices] # not shown\n",
    "    return X_batch, y_batch\n",
    "\n",
    "init = tf.global_variables_initializer()\n",
    "\n",
    "mse_val = None\n",
    "\n",
    "with tf.Session() as sess:\n",
    "    sess.run(init)\n",
    "    for epoch in range(epochs):\n",
    "            \n",
    "        for batch_index in range(n_batches):\n",
    "            X_batch, y_batch = fetch_batch(epoch, batch_index, batch_size)\n",
    "            \n",
    "            # print( \"x = {} , y = {}\".format(X_batch.shape , y_batch.shape) )\n",
    "            \n",
    "            try:\n",
    "                mse_val , m_val , b_val = sess.run([mse,m_ops,b_ops], feed_dict={x: X_batch, y: y_batch})\n",
    "                \n",
    "                \n",
    "            except e :\n",
    "                print('error ',e)\n",
    "                print(X_batch,y_batch)\n",
    "\n",
    "    print(\"Best m = {} ,b = {}\".format(m.eval(),b.eval()))"
   ]
  },
  {
   "cell_type": "code",
   "execution_count": 15,
   "metadata": {},
   "outputs": [
    {
     "name": "stdout",
     "output_type": "stream",
     "text": [
      "n batches = 207\n",
      "best_theta  [[ 2.0714476 ]\n",
      " [ 0.8462012 ]\n",
      " [ 0.11558535]\n",
      " [-0.26835832]\n",
      " [ 0.32982782]\n",
      " [ 0.00608358]\n",
      " [ 0.07052915]\n",
      " [-0.87988573]\n",
      " [-0.8634251 ]]\n"
     ]
    }
   ],
   "source": [
    "n_epochs = 1000\n",
    "learning_rate = 0.01\n",
    "\n",
    "m_,n=housing_data.data.shape\n",
    "\n",
    "reset_graph()\n",
    "\n",
    "scaled_housing_data_plus_bias = np.c_[np.ones((m_, 1)), scaled_housing_data]\n",
    "\n",
    "X = tf.placeholder(tf.float32, shape=(None, n + 1), name=\"X\")\n",
    "y = tf.placeholder(tf.float32, shape=(None, 1), name=\"y\")\n",
    "\n",
    "\n",
    "theta = tf.Variable(tf.random_uniform([n + 1, 1], -1.0, 1.0, seed=42), name=\"theta\")\n",
    "y_pred = tf.matmul(X, theta, name=\"predictions\")\n",
    "error = y_pred - y\n",
    "mse = tf.reduce_mean(tf.square(error), name=\"mse\")\n",
    "optimizer = tf.train.GradientDescentOptimizer(learning_rate=learning_rate)\n",
    "training_op = optimizer.minimize(mse)\n",
    "\n",
    "init = tf.global_variables_initializer()\n",
    "\n",
    "batch_size = 100\n",
    "n_batches = int(np.ceil(m_ / batch_size))\n",
    "\n",
    "print('n batches = {}'.format(n_batches))\n",
    "\n",
    "def fetch_batch(epoch, batch_index, batch_size):\n",
    "    np.random.seed(epoch * n_batches + batch_index)  # not shown in the book\n",
    "    indices = np.random.randint(m_, size=batch_size)  # not shown\n",
    "    X_batch = scaled_housing_data_plus_bias[indices] # not shown\n",
    "    y_batch = housing.target.reshape(-1, 1)[indices] # not shown\n",
    "    return X_batch, y_batch\n",
    "\n",
    "with tf.Session() as sess:\n",
    "    sess.run(init)\n",
    "\n",
    "    for epoch in range(n_epochs):\n",
    "        for batch_index in range(n_batches):\n",
    "            X_batch, y_batch = fetch_batch(epoch, batch_index, batch_size)\n",
    "            sess.run(training_op, feed_dict={X: X_batch, y: y_batch})\n",
    "\n",
    "    best_theta = theta.eval()\n",
    "    print( 'best_theta ',best_theta)"
   ]
  },
  {
   "cell_type": "markdown",
   "metadata": {},
   "source": [
    "# Save Model & Restore\n",
    "- Save\n",
    "- Restore"
   ]
  },
  {
   "cell_type": "code",
   "execution_count": 16,
   "metadata": {},
   "outputs": [
    {
     "name": "stdout",
     "output_type": "stream",
     "text": [
      "MSE = 6.450078964233398\n",
      "MSE = 0.5273270010948181\n",
      "MSE = 0.5244448184967041\n",
      "MSE = 0.5243327617645264\n",
      "MSE = 0.5243224501609802\n",
      "MSE = 0.5243211984634399\n",
      "MSE = 0.5243210196495056\n",
      "MSE = 0.5243209600448608\n",
      "MSE = 0.5243209600448608\n",
      "MSE = 0.5243209600448608\n",
      "Reduced MSE = 0.5243210196495056\n",
      "Best m = [[ 0.8296228 ]\n",
      " [ 0.11875226]\n",
      " [-0.26553348]\n",
      " [ 0.30570164]\n",
      " [-0.00450281]\n",
      " [-0.0393264 ]\n",
      " [-0.89987797]\n",
      " [-0.87053376]] ,b = [[2.068558]]\n"
     ]
    }
   ],
   "source": [
    "reset_graph()\n",
    "\n",
    "m_,n=housing_data.data.shape\n",
    "\n",
    "scalar = StandardScaler()\n",
    "\n",
    "scaled_housing_data = scalar.fit_transform(housing_data.data)\n",
    "\n",
    "learning_rate=0.01\n",
    "epochs = 1000\n",
    "\n",
    "\n",
    "\n",
    "x = tf.constant(scaled_housing_data ,dtype=tf.float32,name='x')\n",
    "y = tf.constant(housing_data.target.reshape(-1,1) ,dtype=tf.float32,name='y')\n",
    "x_t = tf.transpose(x)\n",
    "\n",
    "m = tf.Variable(tf.random_uniform([n,1],-1.0,1.0),name=\"m\")\n",
    "b = tf.Variable(tf.random_uniform([1,1],-1.0,1.0),name=\"b\")\n",
    "\n",
    "y_pred= tf.matmul(x,m)+b\n",
    "\n",
    "error = tf.square(y_pred - y)\n",
    "\n",
    "# Optimiser \n",
    "\n",
    "# learning_rate = 0.01;\n",
    "optimizer = tf.train.MomentumOptimizer(learning_rate = learning_rate,momentum=0.9)\n",
    "\n",
    "mse = tf.reduce_mean(error,name='mse')\n",
    "\n",
    "'''\n",
    "m_gradients = tf.gradients(mse , [m])[0]\n",
    "\n",
    "b_gradients = tf.gradients(mse , [b])[0]\n",
    "\n",
    "m_ops = tf.assign(m, m- (learning_rate * m_gradients))\n",
    "\n",
    "b_ops = tf.assign(b, b- (learning_rate * b_gradients))\n",
    "\n",
    "'''\n",
    "\n",
    "m_ops = optimizer.minimize(mse,var_list=[m]) \n",
    "\n",
    "b_ops = optimizer.minimize(mse,var_list=[b]) \n",
    "\n",
    "\n",
    "init = tf.global_variables_initializer()\n",
    "\n",
    "# Saver to save the session\n",
    "\n",
    "saver = tf.train.Saver()\n",
    "\n",
    "with tf.Session() as sess:\n",
    "    sess.run(init)\n",
    "\n",
    "    for i in range(epochs):\n",
    "        if i % 100 == 0 :\n",
    "            print(\"MSE = {}\".format(mse.eval()))\n",
    "        sess.run([m_ops,b_ops])\n",
    "        sess_path = saver.save(sess,'temp/my_model.ckpt')\n",
    "    \n",
    "    print(\"Reduced MSE = {}\".format(mse.eval()))\n",
    "\n",
    "    m_val = m.eval()\n",
    "    b_val = b.eval()\n",
    "    print(\"Best m = {} ,b = {}\".format(m_val,b_val))\n",
    "    \n",
    "    sess_path = saver.save(sess,'temp/my_model_final.ckpt')\n",
    " "
   ]
  },
  {
   "cell_type": "code",
   "execution_count": 17,
   "metadata": {},
   "outputs": [
    {
     "name": "stdout",
     "output_type": "stream",
     "text": [
      "INFO:tensorflow:Restoring parameters from temp/my_model_final.ckpt\n",
      " m is same = True , b is same = True \n"
     ]
    }
   ],
   "source": [
    "with tf.Session() as sess:\n",
    "    saver.restore(sess, \"temp/my_model_final.ckpt\")\n",
    "    # sess.run(init)\n",
    "    m_restored = m.eval() # not shown in the book\n",
    "    b_restored = b.eval() \n",
    "    \n",
    "\n",
    "# to check whether the restored value is same as the saved one\n",
    "print(\" m is same = {} , b is same = {} \".format( np.allclose(m_val,m_restored) , np.allclose(b_val,b_restored) )  ) "
   ]
  },
  {
   "cell_type": "markdown",
   "metadata": {},
   "source": [
    "# Training using Logistic Regression with Moons Dataset"
   ]
  },
  {
   "cell_type": "code",
   "execution_count": 18,
   "metadata": {},
   "outputs": [],
   "source": [
    "from sklearn.datasets import make_moons\n",
    "\n",
    "m = 1000\n",
    "X_moons, y_moons = make_moons(m, noise=0.1, random_state=42)"
   ]
  },
  {
   "cell_type": "code",
   "execution_count": 19,
   "metadata": {},
   "outputs": [
    {
     "data": {
      "image/png": "[encoded data removed]",
      "text/plain": [
       "<Figure size 432x288 with 1 Axes>"
      ]
     },
     "metadata": {
      "needs_background": "light"
     },
     "output_type": "display_data"
    }
   ],
   "source": [
    "plt.plot(X_moons[y_moons == 1, 0], X_moons[y_moons == 1, 1], 'go', label=\"Positive\")\n",
    "plt.plot(X_moons[y_moons == 0, 0], X_moons[y_moons == 0, 1], 'r^', label=\"Negative\")\n",
    "plt.legend()\n",
    "plt.show()"
   ]
  },
  {
   "cell_type": "code",
   "execution_count": 20,
   "metadata": {},
   "outputs": [],
   "source": [
    "y_moons_column_vector = y_moons.reshape(-1, 1)"
   ]
  },
  {
   "cell_type": "code",
   "execution_count": 21,
   "metadata": {},
   "outputs": [
    {
     "name": "stdout",
     "output_type": "stream",
     "text": [
      "(800, 2) (200, 2) (800, 1) (200, 1)\n",
      "(800, 2000) (200, 2000) (800, 2) (200, 1)\n",
      "(1000, 2000) (1000, 2)\n"
     ]
    }
   ],
   "source": [
    "test_ratio = 0.2\n",
    "test_size = int(m * test_ratio)\n",
    "X_train = X_moons[:-test_size]\n",
    "X_test = X_moons[-test_size:]\n",
    "y_train = y_moons_column_vector[:-test_size]\n",
    "y_test = y_moons_column_vector[-test_size:]\n",
    "\n",
    "# Creating the One Hot Encoder \n",
    "oneHot = OneHotEncoder() \n",
    "  \n",
    "# Encoding \n",
    "\n",
    "oneHot.fit(X_moons)\n",
    "X_moons_hot = oneHot.transform(X_moons).toarray()\n",
    "\n",
    "oneHot.fit(y_moons_column_vector)\n",
    "y_moons_hot = oneHot.transform(y_moons_column_vector).toarray()\n",
    "\n",
    "X_train_hot = X_moons_hot[:-test_size]\n",
    "X_test_hot = X_moons_hot[-test_size:]\n",
    "y_train_hot = y_moons_hot[:-test_size]\n",
    "y_test_hot = y_moons_hot[-test_size:]\n",
    "\n",
    "print( X_train.shape , X_test.shape , y_train.shape , y_test.shape )\n",
    "print( X_train_hot.shape , X_test_hot.shape , y_train_hot.shape , y_test.shape)\n",
    "print( X_moons_hot.shape , y_moons_hot.shape)"
   ]
  },
  {
   "cell_type": "code",
   "execution_count": 22,
   "metadata": {},
   "outputs": [],
   "source": [
    "# to get Random N rows X , Y batches\n",
    "def random_batch(X_train, y_train, batch_size):\n",
    "    rnd_indices = np.random.randint(0, len(X_train), batch_size)\n",
    "    X_batch = X_train[rnd_indices]\n",
    "    y_batch = y_train[rnd_indices]\n",
    "    return X_batch, y_batch"
   ]
  },
  {
   "cell_type": "code",
   "execution_count": 23,
   "metadata": {},
   "outputs": [
    {
     "name": "stdout",
     "output_type": "stream",
     "text": [
      "800 2000\n"
     ]
    }
   ],
   "source": [
    "m , n = X_train_hot.shape\n",
    "print(m,n)"
   ]
  },
  {
   "cell_type": "code",
   "execution_count": 24,
   "metadata": {},
   "outputs": [],
   "source": [
    "from datetime import datetime\n",
    "\n",
    "def log_dir(prefix=\"\"):\n",
    "    now = datetime.utcnow().strftime(\"%Y%m%d%H%M%S\")\n",
    "    root_logdir = \"tf_logs\"\n",
    "    if prefix:\n",
    "        prefix += \"-\"\n",
    "    name = prefix + \"run-\" + now\n",
    "    return \"{}/{}/\".format(root_logdir, name)"
   ]
  },
  {
   "cell_type": "code",
   "execution_count": 25,
   "metadata": {},
   "outputs": [
    {
     "name": "stdout",
     "output_type": "stream",
     "text": [
      "WARNING:tensorflow:From /home/buckaroo/nlp/lib/python3.7/site-packages/tensorflow_core/python/ops/nn_impl.py:183: where (from tensorflow.python.ops.array_ops) is deprecated and will be removed in a future version.\n",
      "Instructions for updating:\n",
      "Use tf.where in 2.0, which has the same broadcast rule as np.where\n"
     ]
    }
   ],
   "source": [
    "reset_graph()\n",
    "\n",
    "logdir = log_dir('logs') \n",
    "# There are n columns in the feature matrix \n",
    "# after One Hot Encoding. \n",
    "X = tf.placeholder(tf.float32, [None, n]) \n",
    "  \n",
    "# Since this is a binary classification problem, \n",
    "# Y can take only 2 values. \n",
    "Y = tf.placeholder(tf.float32, [None, 2]) \n",
    "  \n",
    "# Trainable Variable Weights \n",
    "W = tf.Variable(tf.zeros([n, 2])) \n",
    "  \n",
    "# Trainable Variable Bias \n",
    "b = tf.Variable(tf.zeros([2])) \n",
    "\n",
    "# Hypothesis \n",
    "Y_hat = tf.nn.sigmoid(tf.add(tf.matmul(X, W), b)) \n",
    "  \n",
    "# Sigmoid Cross Entropy Cost Function \n",
    "cost = tf.reduce_mean( tf.nn.sigmoid_cross_entropy_with_logits(logits = Y_hat, labels = Y) )\n",
    "\n",
    "# Cost summary - \n",
    "cost_summary = tf.summary.scalar('cost_summary',cost)\n",
    "\n",
    "# Gradient Descent Optimizer \n",
    "optimizer = tf.train.GradientDescentOptimizer(learning_rate = learning_rate).minimize(cost) \n",
    "  \n",
    "# Global Variables Initializer \n",
    "init = tf.global_variables_initializer() \n",
    "\n",
    "file_writer = tf.summary.FileWriter(logdir, tf.get_default_graph() )"
   ]
  },
  {
   "cell_type": "code",
   "execution_count": 26,
   "metadata": {},
   "outputs": [],
   "source": [
    "# Starting the Tensorflow Session \n",
    "with tf.Session() as sess: \n",
    "      \n",
    "    # Initializing the Variables \n",
    "    sess.run(init) \n",
    "      \n",
    "    # Lists for storing the changing Cost and Accuracy in every Epoch \n",
    "    cost_history, accuracy_history = [], [] \n",
    "      \n",
    "    # Iterating through all the epochs \n",
    "    for epoch in range(epochs): \n",
    "        cost_per_epoch = 0\n",
    "        for batch_index in range(n_batches):\n",
    "            X_batch, y_batch = random_batch(X_train_hot, y_train_hot, batch_size)\n",
    "          \n",
    "            # Running the Optimizer \n",
    "            sess.run(optimizer, feed_dict = { X : X_batch , Y : y_batch }) \n",
    "          \n",
    "            # Calculating cost on current Epoch \n",
    "            c = sess.run(cost, feed_dict = {  X : X_batch , Y : y_batch }) \n",
    "            \n",
    "            \n",
    "          \n",
    "           "
   ]
  },
  {
   "cell_type": "code",
   "execution_count": 28,
   "metadata": {},
   "outputs": [
    {
     "name": "stderr",
     "output_type": "stream",
     "text": [
      "/home/buckaroo/nlp/lib/python3.7/site-packages/tensorflow_core/python/summary/writer/writer.py:386: UserWarning: Attempting to use a closed FileWriter. The operation will be a noop unless the FileWriter is explicitly reopened.\n",
      "  warnings.warn(\"Attempting to use a closed FileWriter. \"\n"
     ]
    },
    {
     "name": "stdout",
     "output_type": "stream",
     "text": [
      "Epoch: 0 \tLoss: 0.72400224 \tAccuracy: 49.50000047683716\n",
      "Epoch: 100 \tLoss: 0.71740156 \tAccuracy: 49.50000047683716\n",
      "Epoch: 200 \tLoss: 0.71241814 \tAccuracy: 49.50000047683716\n",
      "Epoch: 300 \tLoss: 0.7087286 \tAccuracy: 49.50000047683716\n",
      "Epoch: 400 \tLoss: 0.7059933 \tAccuracy: 49.50000047683716\n",
      "Epoch: 500 \tLoss: 0.7039443 \tAccuracy: 49.50000047683716\n",
      "Epoch: 600 \tLoss: 0.70238405 \tAccuracy: 49.50000047683716\n",
      "Epoch: 700 \tLoss: 0.7011762 \tAccuracy: 49.50000047683716\n",
      "Epoch: 800 \tLoss: 0.70022357 \tAccuracy: 49.50000047683716\n",
      "Epoch: 900 \tLoss: 0.69946295 \tAccuracy: 49.50000047683716\n"
     ]
    }
   ],
   "source": [
    "n_epochs = 1000\n",
    "batch_size = 50\n",
    "n_batches = int(np.ceil(m / batch_size))\n",
    "\n",
    "with tf.Session() as sess:\n",
    "    sess.run(init)\n",
    "\n",
    "    for epoch in range(n_epochs):\n",
    "        for batch_index in range(n_batches):\n",
    "            X_batch, y_batch = random_batch(X_train_hot , y_train_hot, batch_size)\n",
    "            sess.run(optimizer, feed_dict={X: X_batch, Y: y_batch})\n",
    "       \n",
    "        correct_prediction = tf.equal( tf.argmax(Y_hat, 1) , tf.argmax(Y, 1) ) \n",
    "        accuracy = tf.reduce_mean(tf.cast(correct_prediction,tf.float32)) \n",
    "        \n",
    "        loss_val , loss_summary , accuracy_val = sess.run([cost,cost_summary,accuracy] , { X: X_test_hot, Y: y_test_hot } )\n",
    "        # loss_val = cost.eval({X: X_test_hot, Y: y_test_hot})\n",
    "        # sum_loss = sum(sum(loss_val))\n",
    "        step = epoch * n_batches + batch_index\n",
    "        \n",
    "        file_writer.add_summary(loss_summary, step)\n",
    "        \n",
    "    \n",
    "        \n",
    "        if epoch % 100 == 0:\n",
    "            \n",
    "            print(\"Epoch:\", epoch, \"\\tLoss:\", loss_val , \"\\tAccuracy:\",accuracy_val * 100 )\n",
    "\n",
    "    y_proba_val = Y_hat.eval(feed_dict={X: X_test_hot, Y: y_test_hot})\n",
    "\n",
    "file_writer.flush()\n",
    "file_writer.close()"
   ]
  }
 ],
 "metadata": {
  "kernelspec": {
   "display_name": "Python 3",
   "language": "python",
   "name": "python3"
  },
  "language_info": {
   "codemirror_mode": {
    "name": "ipython",
    "version": 3
   },
   "file_extension": ".py",
   "mimetype": "text/x-python",
   "name": "python",
   "nbconvert_exporter": "python",
   "pygments_lexer": "ipython3",
   "version": "3.8.5"
  }
 },
 "nbformat": 4,
 "nbformat_minor": 4
}

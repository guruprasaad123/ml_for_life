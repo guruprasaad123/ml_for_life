{
 "cells": [
  {
   "cell_type": "code",
   "execution_count": 1,
   "metadata": {},
   "outputs": [
    {
     "name": "stderr",
     "output_type": "stream",
     "text": [
      "C:\\anaconda3\\lib\\site-packages\\lightfm\\_lightfm_fast.py:9: UserWarning: LightFM was compiled without OpenMP support. Only a single thread will be used.\n",
      "  warnings.warn('LightFM was compiled without OpenMP support. '\n",
      "C:\\anaconda3\\lib\\site-packages\\ipykernel_launcher.py:10: ParserWarning: Falling back to the 'python' engine because the 'c' engine does not support regex separators (separators > 1 char and different from '\\s+' are interpreted as regex); you can avoid this warning by specifying engine='python'.\n",
      "  # Remove the CWD from sys.path while we load stuff.\n",
      "C:\\anaconda3\\lib\\site-packages\\ipykernel_launcher.py:37: ParserWarning: Falling back to the 'python' engine because the 'c' engine does not support regex separators (separators > 1 char and different from '\\s+' are interpreted as regex); you can avoid this warning by specifying engine='python'.\n",
      "C:\\anaconda3\\lib\\site-packages\\ipykernel_launcher.py:38: ParserWarning: Falling back to the 'python' engine because the 'c' engine does not support regex separators (separators > 1 char and different from '\\s+' are interpreted as regex); you can avoid this warning by specifying engine='python'.\n"
     ]
    },
    {
     "name": "stdout",
     "output_type": "stream",
     "text": [
      "For User  3573\n",
      "\t Reccomanded Movies :\n",
      "\t  Men in Black (1997)\n",
      "\t  Star Wars: Episode IV - A New Hope (1977)\n",
      "\t  Matrix, The (1999)\n",
      "For User  2759\n",
      "\t Reccomanded Movies :\n",
      "\t  Star Wars: Episode V - The Empire Strikes Back (1980)\n",
      "\t  Star Wars: Episode IV - A New Hope (1977)\n",
      "\t  Shakespeare in Love (1998)\n",
      "For User  2353\n",
      "\t Reccomanded Movies :\n",
      "\t  Schindler's List (1993)\n",
      "\t  Shawshank Redemption, The (1994)\n",
      "\t  Godfather, The (1972)\n"
     ]
    }
   ],
   "source": [
    "import numpy as np\n",
    "import pandas as pd\n",
    "from lightfm.datasets import fetch_movielens\n",
    "from lightfm import LightFM\n",
    "import random \n",
    "\n",
    "from  scipy.sparse import coo_matrix \n",
    "\n",
    "def fetch_movies():\n",
    "    ratings = pd.read_csv('ratings.dat',sep='::')\n",
    "\n",
    "    n_ratings  =  ratings.shape[0]\n",
    "\n",
    "    data , row , col = [],[],[]\n",
    "    users = {}\n",
    "    for n in range(n_ratings):\n",
    "        if( ratings['Rating'][n] >= 4 ):\n",
    "            user = ratings['UserID'][n]\n",
    "            movie = ratings['MovieID'][n]\n",
    "            if user in users:\n",
    "                users[user] = users[user]+1\n",
    "            else :\n",
    "                users[user]=1\n",
    "            \n",
    "            data.append(users[user])\n",
    "            row.append(user)\n",
    "            col.append(movie)\n",
    "\n",
    "    coo = coo_matrix( (data,(row,col)))\n",
    "    return coo\n",
    "movies = fetch_movies()\n",
    "\n",
    "model = LightFM(loss=\"warp\")\n",
    "model.fit(movies,epochs=30,num_threads=2)\n",
    " \n",
    "\n",
    "users = pd.read_csv('users.dat',sep='::')\n",
    "movies_data = pd.read_csv('movies.dat',sep='::')\n",
    "\n",
    "user1 = random.choice(users['UserID'])\n",
    "user2 = random.choice(users['UserID'])\n",
    "user3 = random.choice(users['UserID'])\n",
    "\n",
    "def get_recommendation(users,model,movies_matrix,movies_data):\n",
    "    n_items = movies_matrix.shape[1]\n",
    "    for user in users:\n",
    "        scores = model.predict(user,np.arange(n_items))\n",
    "        topscore = np.argsort(-scores)[:3]\n",
    "\n",
    "        print('For User ',user)\n",
    "        print('\\t Reccomanded Movies :')\n",
    "\n",
    "        for movie in topscore:\n",
    "            movie_index = np.where(movie == movies_data['MovieID'])[0]\n",
    "            movie_title = movies_data['Title'][movie_index[0]]\n",
    "            print('\\t ',movie_title)\n",
    "\n",
    "\n",
    "\n",
    " \n",
    "get_recommendation([user1,user2,user3],model,movies,movies_data)"
   ]
  }
 ],
 "metadata": {
  "kernelspec": {
   "display_name": "Python 3",
   "language": "python",
   "name": "python3"
  },
  "language_info": {
   "codemirror_mode": {
    "name": "ipython",
    "version": 3
   },
   "file_extension": ".py",
   "mimetype": "text/x-python",
   "name": "python",
   "nbconvert_exporter": "python",
   "pygments_lexer": "ipython3",
   "version": "3.6.5"
  }
 },
 "nbformat": 4,
 "nbformat_minor": 2
}
